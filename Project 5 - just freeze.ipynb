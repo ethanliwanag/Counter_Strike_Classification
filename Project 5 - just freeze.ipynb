{
 "cells": [
  {
   "cell_type": "code",
   "execution_count": 5,
   "metadata": {
    "ExecuteTime": {
     "end_time": "2020-06-12T15:09:58.268695Z",
     "start_time": "2020-06-12T15:09:57.515069Z"
    }
   },
   "outputs": [],
   "source": [
    "import pandas as pd\n",
    "import seaborn as sns\n",
    "import numpy as np\n",
    "import matplotlib.pyplot as plt\n",
    "import pprint\n",
    "\n",
    "from sklearn.linear_model import LogisticRegression\n",
    "from sklearn.metrics import precision_score, recall_score, accuracy_score, roc_auc_score, precision_recall_curve,f1_score, fbeta_score, confusion_matrix, roc_curve, log_loss, make_scorer\n",
    "from sklearn.preprocessing import StandardScaler,PolynomialFeatures\n",
    "from sklearn.model_selection import train_test_split, GridSearchCV\n",
    "from sklearn.svm import SVC\n",
    "from sklearn.naive_bayes import GaussianNB\n",
    "from sklearn.ensemble import RandomForestClassifier, GradientBoostingClassifier\n",
    "from sklearn.neighbors import KNeighborsClassifier\n",
    "from sklearn.dummy import DummyClassifier\n",
    "\n",
    "from collections import defaultdict\n",
    "import xgboost as xgb\n",
    "\n",
    "from IPython.display import Image\n",
    "\n"
   ]
  },
  {
   "cell_type": "code",
   "execution_count": 6,
   "metadata": {
    "ExecuteTime": {
     "end_time": "2020-06-12T15:09:58.271984Z",
     "start_time": "2020-06-12T15:09:58.269676Z"
    }
   },
   "outputs": [],
   "source": [
    "def read_dataset(path, start_idx, end_idx):\n",
    "    frames = [ pd.read_json(f) for f in [path.format(i) for i in range(start_idx, end_idx+1)] ]\n",
    "    return pd.concat(frames, ignore_index = True)"
   ]
  },
  {
   "cell_type": "code",
   "execution_count": 7,
   "metadata": {
    "ExecuteTime": {
     "end_time": "2020-06-12T15:10:06.318455Z",
     "start_time": "2020-06-12T15:09:58.272907Z"
    }
   },
   "outputs": [],
   "source": [
    "file_path = '/home/ethan/Documents/dataset_initial/dataset_{:02}.json'\n",
    "\n",
    "df = read_dataset(file_path, 0, 17)"
   ]
  },
  {
   "cell_type": "code",
   "execution_count": 14,
   "metadata": {
    "ExecuteTime": {
     "end_time": "2020-06-12T15:10:06.645265Z",
     "start_time": "2020-06-12T15:10:06.611818Z"
    }
   },
   "outputs": [],
   "source": [
    "df =  df.loc[df['round_status'] == 'FreezeTime']"
   ]
  },
  {
   "cell_type": "code",
   "execution_count": 22,
   "metadata": {
    "ExecuteTime": {
     "end_time": "2020-06-12T15:10:06.775361Z",
     "start_time": "2020-06-12T15:10:06.755691Z"
    }
   },
   "outputs": [],
   "source": [
    "df['target'] = (df['round_winner'] == 'CT').astype(int)"
   ]
  },
  {
   "cell_type": "code",
   "execution_count": 23,
   "metadata": {
    "ExecuteTime": {
     "end_time": "2020-06-12T15:10:06.791795Z",
     "start_time": "2020-06-12T15:10:06.776651Z"
    }
   },
   "outputs": [],
   "source": [
    "def get_attr(df, team, attr=None):\n",
    "    team_players = map(lambda players: filter(lambda p: p[\"team\"] == team, players), df['alive_players'])\n",
    "    if attr:\n",
    "        team_players = map(lambda players: map(lambda p: p[attr], players), team_players)\n",
    "    \n",
    "    return list(map(lambda p: list(p), team_players))"
   ]
  },
  {
   "cell_type": "code",
   "execution_count": 24,
   "metadata": {
    "ExecuteTime": {
     "end_time": "2020-06-12T15:10:07.230824Z",
     "start_time": "2020-06-12T15:10:06.795784Z"
    }
   },
   "outputs": [],
   "source": [
    "\n",
    "df['money_ct']         = list(map(sum, get_attr(df, \"CT\", \"money\")))\n",
    "df['money_t']          = list(map(sum, get_attr(df, \"Terrorist\", \"money\")))\n",
    "\n",
    "df['inventory_t']      = get_attr(df, \"Terrorist\", \"inventory\")\n",
    "df['inventory_ct']     = get_attr(df, \"CT\", \"inventory\")"
   ]
  },
  {
   "cell_type": "code",
   "execution_count": 26,
   "metadata": {
    "ExecuteTime": {
     "end_time": "2020-06-12T15:10:07.298171Z",
     "start_time": "2020-06-12T15:10:07.288648Z"
    }
   },
   "outputs": [],
   "source": [
    "def get_items(inventory):\n",
    "    items_list = []\n",
    "\n",
    "    for player in inventory:\n",
    "        for item in player:\n",
    "            if item['item_type']:\n",
    "                items_list.append(item['item_type'])\n",
    "    return items_list"
   ]
  },
  {
   "cell_type": "code",
   "execution_count": 27,
   "metadata": {
    "ExecuteTime": {
     "end_time": "2020-06-12T15:10:07.467964Z",
     "start_time": "2020-06-12T15:10:07.299175Z"
    }
   },
   "outputs": [],
   "source": [
    "df['t_items'] = df.inventory_t.apply(get_items)\n",
    "df['ct_items'] = df.inventory_ct.apply(get_items)"
   ]
  },
  {
   "cell_type": "code",
   "execution_count": 29,
   "metadata": {
    "ExecuteTime": {
     "end_time": "2020-06-12T15:10:07.487209Z",
     "start_time": "2020-06-12T15:10:07.472017Z"
    }
   },
   "outputs": [],
   "source": [
    "equipment = ['SmokeGrenade','HeGrenade','Flashbang','IncendiaryGrenade','MolotovGrenade','DecoyGrenade']\n",
    "\n",
    "\n",
    "COSTS = {'Ak47':2700,\n",
    "         'M4a4': 3100,\n",
    "         'M4a1S':2900,\n",
    "         'Famas':2050,\n",
    "         'GalilAr':1800,\n",
    "         'Sg553':3000,\n",
    "         'Aug':3300,        \n",
    "         \n",
    "         'Ssg08':1700,\n",
    "         'Scar20':5000,\n",
    "         'Awp':4750,\n",
    "         'G3sg1':5000,\n",
    "         \n",
    "         'Glock':200,\n",
    "         'Deagle':700,\n",
    "         'P250':300,\n",
    "         'P2000':200,\n",
    "         'Cz75Auto':500,\n",
    "         'UspS':200,\n",
    "         'Elite':400,\n",
    "         'FiveSeven':500,\n",
    "         'Tec9':500,\n",
    "         'R8Revolver':600,\n",
    "         \n",
    "         'Mac10':1050,\n",
    "         'Ump45':1200,\n",
    "         'Mp9':1250,\n",
    "         'Mp5sd':1500,\n",
    "         'Mp7':1500,\n",
    "         'P90':2350,\n",
    "         'Bizon':1400,\n",
    "         \n",
    "         'Mag7':1300,\n",
    "         'Nova':1050,\n",
    "         'Xm1014':2000,\n",
    "         'Sawedoff':1100,\n",
    "         \n",
    "         'Negev':1700,\n",
    "         'M249':5200,\n",
    "         \n",
    "         'ZeusX27':200,\n",
    "         'Flashbang':200,\n",
    "         'SmokeGrenade':300,\n",
    "         'HeGrenade':300,\n",
    "         'IncendiaryGrenade':600,\n",
    "         'MolotovGrenade':400,\n",
    "         'DecoyGrenade':50,\n",
    "         'C4':0,\n",
    "         \n",
    "         'Helmet':350,\n",
    "         'Kevlar':650,\n",
    "         'DefuseKit':400 \n",
    "        }"
   ]
  },
  {
   "cell_type": "code",
   "execution_count": 30,
   "metadata": {
    "ExecuteTime": {
     "end_time": "2020-06-12T15:10:07.503307Z",
     "start_time": "2020-06-12T15:10:07.488202Z"
    }
   },
   "outputs": [],
   "source": [
    "def get_invent_value(inventory):\n",
    "    value = 0 \n",
    "    for weapon in inventory:\n",
    "        value += COSTS[weapon]\n",
    "    return value"
   ]
  },
  {
   "cell_type": "code",
   "execution_count": 32,
   "metadata": {
    "ExecuteTime": {
     "end_time": "2020-06-12T15:10:07.543026Z",
     "start_time": "2020-06-12T15:10:07.520440Z"
    }
   },
   "outputs": [],
   "source": [
    "def get_total_value(team):\n",
    "    \n",
    "    if team == 'CT':\n",
    "        \n",
    "        value = df.ct_items.apply(get_invent_value)\n",
    "        \n",
    "        num_defusers = list(map(sum, get_attr(df, team, \"has_defuser\")))\n",
    "        cost_defusers = [defuser * COSTS['DefuseKit'] for defuser in num_defusers]\n",
    "        value += cost_defusers\n",
    "    \n",
    "    else:\n",
    "        value = df.t_items.apply(get_invent_value)\n",
    "\n",
    "    num_helmets = list(map(sum, get_attr(df, team, \"has_helmet\")))\n",
    "    cost_helmets =  [helmet * COSTS['Helmet'] for helmet in num_helmets]\n",
    "    value += cost_helmets\n",
    "\n",
    "    total_armor = list(map(sum, get_attr(df, team, \"armor\")))\n",
    "    cost_armor = [((armor/100) * COSTS['Kevlar']) for armor in total_armor]\n",
    "    value += cost_armor\n",
    "        \n",
    "    return value"
   ]
  },
  {
   "cell_type": "code",
   "execution_count": 33,
   "metadata": {
    "ExecuteTime": {
     "end_time": "2020-06-12T15:10:08.109299Z",
     "start_time": "2020-06-12T15:10:07.544440Z"
    }
   },
   "outputs": [],
   "source": [
    "df['total_value_ct'] = get_total_value('CT')\n",
    "df['total_value_t'] = get_total_value('Terrorist')"
   ]
  },
  {
   "cell_type": "code",
   "execution_count": 35,
   "metadata": {
    "ExecuteTime": {
     "end_time": "2020-06-12T15:10:08.128256Z",
     "start_time": "2020-06-12T15:10:08.112724Z"
    }
   },
   "outputs": [],
   "source": [
    "def get_utility_score(inventory):\n",
    "    count = 0\n",
    "    for item in inventory:\n",
    "        if item in equipment:\n",
    "            count += 1\n",
    "            \n",
    "    return count\n",
    "     "
   ]
  },
  {
   "cell_type": "code",
   "execution_count": 36,
   "metadata": {
    "ExecuteTime": {
     "end_time": "2020-06-12T15:10:08.213332Z",
     "start_time": "2020-06-12T15:10:08.129145Z"
    }
   },
   "outputs": [],
   "source": [
    "df['ct_utility'] = df.ct_items.apply(get_utility_score)\n",
    "df['t_utility'] = df.t_items.apply(get_utility_score)"
   ]
  },
  {
   "cell_type": "code",
   "execution_count": 39,
   "metadata": {
    "ExecuteTime": {
     "end_time": "2020-06-12T15:10:08.295723Z",
     "start_time": "2020-06-12T15:10:08.293343Z"
    }
   },
   "outputs": [],
   "source": [
    "df['util_diff'] = df['ct_utility'] - df['t_utility']\n"
   ]
  },
  {
   "cell_type": "code",
   "execution_count": 40,
   "metadata": {
    "ExecuteTime": {
     "end_time": "2020-06-12T15:10:08.358681Z",
     "start_time": "2020-06-12T15:10:08.296680Z"
    }
   },
   "outputs": [
    {
     "data": {
      "text/plain": [
       "round_winner\n",
       "CT           11845\n",
       "Terrorist    11218\n",
       "Name: map, dtype: int64"
      ]
     },
     "execution_count": 40,
     "metadata": {},
     "output_type": "execute_result"
    }
   ],
   "source": [
    "df.groupby('round_winner').count().map"
   ]
  },
  {
   "cell_type": "code",
   "execution_count": 41,
   "metadata": {
    "ExecuteTime": {
     "end_time": "2020-06-12T15:10:08.493698Z",
     "start_time": "2020-06-12T15:10:08.359619Z"
    }
   },
   "outputs": [
    {
     "data": {
      "text/plain": [
       "array([[<matplotlib.axes._subplots.AxesSubplot object at 0x7fa7cac1a3d0>]],\n",
       "      dtype=object)"
      ]
     },
     "execution_count": 41,
     "metadata": {},
     "output_type": "execute_result"
    },
    {
     "data": {
      "image/png": "[encoded data removed]",
      "text/plain": [
       "<Figure size 432x288 with 1 Axes>"
      ]
     },
     "metadata": {
      "needs_background": "light"
     },
     "output_type": "display_data"
    }
   ],
   "source": [
    "df.hist('round_status_time_left')"
   ]
  },
  {
   "cell_type": "code",
   "execution_count": 42,
   "metadata": {
    "ExecuteTime": {
     "end_time": "2020-06-12T15:10:08.513394Z",
     "start_time": "2020-06-12T15:10:08.495084Z"
    }
   },
   "outputs": [],
   "source": [
    "dummy_map = pd.get_dummies(df['map'], drop_first = False)\n",
    "df = pd.concat([df,dummy_map], axis = 1)"
   ]
  },
  {
   "cell_type": "code",
   "execution_count": 43,
   "metadata": {
    "ExecuteTime": {
     "end_time": "2020-06-12T15:10:08.557430Z",
     "start_time": "2020-06-12T15:10:08.514383Z"
    }
   },
   "outputs": [],
   "source": [
    "df.loc[:, 'ct_score'] = df.current_score.map(lambda x: x[0])\n",
    "df.loc[:, 't_score'] = df.current_score.map(lambda x: x[1])\n",
    "\n",
    "df['score_diff'] = df['ct_score'] - df['t_score']"
   ]
  },
  {
   "cell_type": "code",
   "execution_count": 44,
   "metadata": {
    "ExecuteTime": {
     "end_time": "2020-06-12T15:10:08.563722Z",
     "start_time": "2020-06-12T15:10:08.558406Z"
    }
   },
   "outputs": [],
   "source": [
    "df['new_ct'] = df['money_ct'] + df['total_value_ct']\n",
    "df['new_t'] = df['money_t'] + df['total_value_t']\n",
    "df['new_diff'] = df['new_ct'] - df['new_t']"
   ]
  },
  {
   "cell_type": "code",
   "execution_count": 45,
   "metadata": {
    "ExecuteTime": {
     "end_time": "2020-06-12T15:10:08.581487Z",
     "start_time": "2020-06-12T15:10:08.564868Z"
    }
   },
   "outputs": [],
   "source": [
    "# sns.boxplot(x = 'round_status', y = 'money_diff', data = df)"
   ]
  },
  {
   "cell_type": "code",
   "execution_count": 46,
   "metadata": {
    "ExecuteTime": {
     "end_time": "2020-06-12T15:10:08.598886Z",
     "start_time": "2020-06-12T15:10:08.585340Z"
    }
   },
   "outputs": [],
   "source": [
    "# sns.boxplot(x = 'round_status', y = 'value_diff', data = df)"
   ]
  },
  {
   "cell_type": "code",
   "execution_count": 47,
   "metadata": {
    "ExecuteTime": {
     "end_time": "2020-06-12T15:10:08.615089Z",
     "start_time": "2020-06-12T15:10:08.602353Z"
    }
   },
   "outputs": [],
   "source": [
    "# sns.boxplot(x = 'round_status', y = 'health_diff', data = df)"
   ]
  },
  {
   "cell_type": "code",
   "execution_count": 48,
   "metadata": {
    "ExecuteTime": {
     "end_time": "2020-06-12T15:10:08.635149Z",
     "start_time": "2020-06-12T15:10:08.616127Z"
    }
   },
   "outputs": [],
   "source": [
    "# sns.boxplot(x = 'round_status', y = 'player_diff', data = df)"
   ]
  },
  {
   "cell_type": "code",
   "execution_count": 49,
   "metadata": {
    "ExecuteTime": {
     "end_time": "2020-06-12T15:10:08.671486Z",
     "start_time": "2020-06-12T15:10:08.636090Z"
    }
   },
   "outputs": [],
   "source": [
    "df = df.drop(['alive_players','map', 'active_smokes', 'active_molotovs', 'previous_kills',\n",
    "              'round_winner','planted_bomb','inventory_ct','inventory_t','t_items','ct_items', \n",
    "              'round_status','current_score','round_status_time_left', 'money_ct','money_t', \n",
    "             'total_value_t', 'total_value_ct'], axis = 1 )"
   ]
  },
  {
   "cell_type": "code",
   "execution_count": 50,
   "metadata": {
    "ExecuteTime": {
     "end_time": "2020-06-12T15:10:08.681920Z",
     "start_time": "2020-06-12T15:10:08.672641Z"
    }
   },
   "outputs": [
    {
     "data": {
      "text/html": [
       "<div>\n",
       "<style scoped>\n",
       "    .dataframe tbody tr th:only-of-type {\n",
       "        vertical-align: middle;\n",
       "    }\n",
       "\n",
       "    .dataframe tbody tr th {\n",
       "        vertical-align: top;\n",
       "    }\n",
       "\n",
       "    .dataframe thead th {\n",
       "        text-align: right;\n",
       "    }\n",
       "</style>\n",
       "<table border=\"1\" class=\"dataframe\">\n",
       "  <thead>\n",
       "    <tr style=\"text-align: right;\">\n",
       "      <th></th>\n",
       "      <th>target</th>\n",
       "      <th>ct_utility</th>\n",
       "      <th>t_utility</th>\n",
       "      <th>util_diff</th>\n",
       "      <th>de_cache</th>\n",
       "      <th>de_dust2</th>\n",
       "      <th>de_inferno</th>\n",
       "      <th>de_mirage</th>\n",
       "      <th>de_nuke</th>\n",
       "      <th>de_overpass</th>\n",
       "      <th>de_train</th>\n",
       "      <th>de_vertigo</th>\n",
       "      <th>ct_score</th>\n",
       "      <th>t_score</th>\n",
       "      <th>score_diff</th>\n",
       "      <th>new_ct</th>\n",
       "      <th>new_t</th>\n",
       "      <th>new_diff</th>\n",
       "    </tr>\n",
       "  </thead>\n",
       "  <tbody>\n",
       "    <tr>\n",
       "      <th>0</th>\n",
       "      <td>1</td>\n",
       "      <td>0</td>\n",
       "      <td>0</td>\n",
       "      <td>0</td>\n",
       "      <td>0</td>\n",
       "      <td>1</td>\n",
       "      <td>0</td>\n",
       "      <td>0</td>\n",
       "      <td>0</td>\n",
       "      <td>0</td>\n",
       "      <td>0</td>\n",
       "      <td>0</td>\n",
       "      <td>0</td>\n",
       "      <td>0</td>\n",
       "      <td>0</td>\n",
       "      <td>5000.0</td>\n",
       "      <td>5000.0</td>\n",
       "      <td>0.0</td>\n",
       "    </tr>\n",
       "    <tr>\n",
       "      <th>1</th>\n",
       "      <td>1</td>\n",
       "      <td>1</td>\n",
       "      <td>4</td>\n",
       "      <td>-3</td>\n",
       "      <td>0</td>\n",
       "      <td>1</td>\n",
       "      <td>0</td>\n",
       "      <td>0</td>\n",
       "      <td>0</td>\n",
       "      <td>0</td>\n",
       "      <td>0</td>\n",
       "      <td>0</td>\n",
       "      <td>0</td>\n",
       "      <td>0</td>\n",
       "      <td>0</td>\n",
       "      <td>4800.0</td>\n",
       "      <td>4600.0</td>\n",
       "      <td>200.0</td>\n",
       "    </tr>\n",
       "    <tr>\n",
       "      <th>4</th>\n",
       "      <td>1</td>\n",
       "      <td>0</td>\n",
       "      <td>0</td>\n",
       "      <td>0</td>\n",
       "      <td>0</td>\n",
       "      <td>1</td>\n",
       "      <td>0</td>\n",
       "      <td>0</td>\n",
       "      <td>0</td>\n",
       "      <td>0</td>\n",
       "      <td>0</td>\n",
       "      <td>0</td>\n",
       "      <td>1</td>\n",
       "      <td>0</td>\n",
       "      <td>1</td>\n",
       "      <td>20998.0</td>\n",
       "      <td>11750.0</td>\n",
       "      <td>9248.0</td>\n",
       "    </tr>\n",
       "    <tr>\n",
       "      <th>9</th>\n",
       "      <td>0</td>\n",
       "      <td>2</td>\n",
       "      <td>0</td>\n",
       "      <td>2</td>\n",
       "      <td>0</td>\n",
       "      <td>1</td>\n",
       "      <td>0</td>\n",
       "      <td>0</td>\n",
       "      <td>0</td>\n",
       "      <td>0</td>\n",
       "      <td>0</td>\n",
       "      <td>0</td>\n",
       "      <td>2</td>\n",
       "      <td>0</td>\n",
       "      <td>2</td>\n",
       "      <td>27024.0</td>\n",
       "      <td>24450.0</td>\n",
       "      <td>2574.0</td>\n",
       "    </tr>\n",
       "    <tr>\n",
       "      <th>15</th>\n",
       "      <td>1</td>\n",
       "      <td>0</td>\n",
       "      <td>1</td>\n",
       "      <td>-1</td>\n",
       "      <td>0</td>\n",
       "      <td>1</td>\n",
       "      <td>0</td>\n",
       "      <td>0</td>\n",
       "      <td>0</td>\n",
       "      <td>0</td>\n",
       "      <td>0</td>\n",
       "      <td>0</td>\n",
       "      <td>2</td>\n",
       "      <td>1</td>\n",
       "      <td>1</td>\n",
       "      <td>10700.0</td>\n",
       "      <td>29331.0</td>\n",
       "      <td>-18631.0</td>\n",
       "    </tr>\n",
       "  </tbody>\n",
       "</table>\n",
       "</div>"
      ],
      "text/plain": [
       "    target  ct_utility  t_utility  util_diff  de_cache  de_dust2  de_inferno  \\\n",
       "0        1           0          0          0         0         1           0   \n",
       "1        1           1          4         -3         0         1           0   \n",
       "4        1           0          0          0         0         1           0   \n",
       "9        0           2          0          2         0         1           0   \n",
       "15       1           0          1         -1         0         1           0   \n",
       "\n",
       "    de_mirage  de_nuke  de_overpass  de_train  de_vertigo  ct_score  t_score  \\\n",
       "0           0        0            0         0           0         0        0   \n",
       "1           0        0            0         0           0         0        0   \n",
       "4           0        0            0         0           0         1        0   \n",
       "9           0        0            0         0           0         2        0   \n",
       "15          0        0            0         0           0         2        1   \n",
       "\n",
       "    score_diff   new_ct    new_t  new_diff  \n",
       "0            0   5000.0   5000.0       0.0  \n",
       "1            0   4800.0   4600.0     200.0  \n",
       "4            1  20998.0  11750.0    9248.0  \n",
       "9            2  27024.0  24450.0    2574.0  \n",
       "15           1  10700.0  29331.0  -18631.0  "
      ]
     },
     "execution_count": 50,
     "metadata": {},
     "output_type": "execute_result"
    }
   ],
   "source": [
    "df.head()"
   ]
  },
  {
   "cell_type": "code",
   "execution_count": 51,
   "metadata": {
    "ExecuteTime": {
     "end_time": "2020-06-12T15:10:08.736692Z",
     "start_time": "2020-06-12T15:10:08.682954Z"
    }
   },
   "outputs": [
    {
     "data": {
      "text/html": [
       "<div>\n",
       "<style scoped>\n",
       "    .dataframe tbody tr th:only-of-type {\n",
       "        vertical-align: middle;\n",
       "    }\n",
       "\n",
       "    .dataframe tbody tr th {\n",
       "        vertical-align: top;\n",
       "    }\n",
       "\n",
       "    .dataframe thead th {\n",
       "        text-align: right;\n",
       "    }\n",
       "</style>\n",
       "<table border=\"1\" class=\"dataframe\">\n",
       "  <thead>\n",
       "    <tr style=\"text-align: right;\">\n",
       "      <th></th>\n",
       "      <th>target</th>\n",
       "      <th>ct_utility</th>\n",
       "      <th>t_utility</th>\n",
       "      <th>util_diff</th>\n",
       "      <th>de_cache</th>\n",
       "      <th>de_dust2</th>\n",
       "      <th>de_inferno</th>\n",
       "      <th>de_mirage</th>\n",
       "      <th>de_nuke</th>\n",
       "      <th>de_overpass</th>\n",
       "      <th>de_train</th>\n",
       "      <th>de_vertigo</th>\n",
       "      <th>ct_score</th>\n",
       "      <th>t_score</th>\n",
       "      <th>score_diff</th>\n",
       "      <th>new_ct</th>\n",
       "      <th>new_t</th>\n",
       "      <th>new_diff</th>\n",
       "    </tr>\n",
       "  </thead>\n",
       "  <tbody>\n",
       "    <tr>\n",
       "      <th>count</th>\n",
       "      <td>23063.000000</td>\n",
       "      <td>23063.000000</td>\n",
       "      <td>23063.000000</td>\n",
       "      <td>23063.000000</td>\n",
       "      <td>23063.000000</td>\n",
       "      <td>23063.000000</td>\n",
       "      <td>23063.000000</td>\n",
       "      <td>23063.000000</td>\n",
       "      <td>23063.000000</td>\n",
       "      <td>23063.000000</td>\n",
       "      <td>23063.000000</td>\n",
       "      <td>23063.000000</td>\n",
       "      <td>23063.000000</td>\n",
       "      <td>23063.000000</td>\n",
       "      <td>23063.000000</td>\n",
       "      <td>23063.000000</td>\n",
       "      <td>23063.000000</td>\n",
       "      <td>23063.000000</td>\n",
       "    </tr>\n",
       "    <tr>\n",
       "      <th>mean</th>\n",
       "      <td>0.513593</td>\n",
       "      <td>4.049603</td>\n",
       "      <td>3.438625</td>\n",
       "      <td>0.610979</td>\n",
       "      <td>0.001214</td>\n",
       "      <td>0.180983</td>\n",
       "      <td>0.194207</td>\n",
       "      <td>0.151455</td>\n",
       "      <td>0.143130</td>\n",
       "      <td>0.135065</td>\n",
       "      <td>0.101288</td>\n",
       "      <td>0.092659</td>\n",
       "      <td>7.082426</td>\n",
       "      <td>7.182630</td>\n",
       "      <td>-0.100204</td>\n",
       "      <td>28288.341239</td>\n",
       "      <td>27552.504314</td>\n",
       "      <td>735.836925</td>\n",
       "    </tr>\n",
       "    <tr>\n",
       "      <th>std</th>\n",
       "      <td>0.499826</td>\n",
       "      <td>5.626369</td>\n",
       "      <td>5.041536</td>\n",
       "      <td>6.148150</td>\n",
       "      <td>0.034823</td>\n",
       "      <td>0.385012</td>\n",
       "      <td>0.395598</td>\n",
       "      <td>0.358499</td>\n",
       "      <td>0.350213</td>\n",
       "      <td>0.341800</td>\n",
       "      <td>0.301716</td>\n",
       "      <td>0.289961</td>\n",
       "      <td>4.675862</td>\n",
       "      <td>4.638725</td>\n",
       "      <td>4.302939</td>\n",
       "      <td>18363.832805</td>\n",
       "      <td>18106.186846</td>\n",
       "      <td>20435.821871</td>\n",
       "    </tr>\n",
       "    <tr>\n",
       "      <th>min</th>\n",
       "      <td>0.000000</td>\n",
       "      <td>0.000000</td>\n",
       "      <td>0.000000</td>\n",
       "      <td>-20.000000</td>\n",
       "      <td>0.000000</td>\n",
       "      <td>0.000000</td>\n",
       "      <td>0.000000</td>\n",
       "      <td>0.000000</td>\n",
       "      <td>0.000000</td>\n",
       "      <td>0.000000</td>\n",
       "      <td>0.000000</td>\n",
       "      <td>0.000000</td>\n",
       "      <td>0.000000</td>\n",
       "      <td>0.000000</td>\n",
       "      <td>-15.000000</td>\n",
       "      <td>0.000000</td>\n",
       "      <td>0.000000</td>\n",
       "      <td>-71775.000000</td>\n",
       "    </tr>\n",
       "    <tr>\n",
       "      <th>25%</th>\n",
       "      <td>0.000000</td>\n",
       "      <td>0.000000</td>\n",
       "      <td>0.000000</td>\n",
       "      <td>-2.000000</td>\n",
       "      <td>0.000000</td>\n",
       "      <td>0.000000</td>\n",
       "      <td>0.000000</td>\n",
       "      <td>0.000000</td>\n",
       "      <td>0.000000</td>\n",
       "      <td>0.000000</td>\n",
       "      <td>0.000000</td>\n",
       "      <td>0.000000</td>\n",
       "      <td>3.000000</td>\n",
       "      <td>4.000000</td>\n",
       "      <td>-3.000000</td>\n",
       "      <td>12800.000000</td>\n",
       "      <td>14100.000000</td>\n",
       "      <td>-11834.250000</td>\n",
       "    </tr>\n",
       "    <tr>\n",
       "      <th>50%</th>\n",
       "      <td>1.000000</td>\n",
       "      <td>1.000000</td>\n",
       "      <td>1.000000</td>\n",
       "      <td>0.000000</td>\n",
       "      <td>0.000000</td>\n",
       "      <td>0.000000</td>\n",
       "      <td>0.000000</td>\n",
       "      <td>0.000000</td>\n",
       "      <td>0.000000</td>\n",
       "      <td>0.000000</td>\n",
       "      <td>0.000000</td>\n",
       "      <td>0.000000</td>\n",
       "      <td>7.000000</td>\n",
       "      <td>7.000000</td>\n",
       "      <td>0.000000</td>\n",
       "      <td>27550.000000</td>\n",
       "      <td>25200.000000</td>\n",
       "      <td>0.000000</td>\n",
       "    </tr>\n",
       "    <tr>\n",
       "      <th>75%</th>\n",
       "      <td>1.000000</td>\n",
       "      <td>5.000000</td>\n",
       "      <td>4.000000</td>\n",
       "      <td>3.000000</td>\n",
       "      <td>0.000000</td>\n",
       "      <td>0.000000</td>\n",
       "      <td>0.000000</td>\n",
       "      <td>0.000000</td>\n",
       "      <td>0.000000</td>\n",
       "      <td>0.000000</td>\n",
       "      <td>0.000000</td>\n",
       "      <td>0.000000</td>\n",
       "      <td>11.000000</td>\n",
       "      <td>11.000000</td>\n",
       "      <td>3.000000</td>\n",
       "      <td>38912.250000</td>\n",
       "      <td>38266.500000</td>\n",
       "      <td>13670.250000</td>\n",
       "    </tr>\n",
       "    <tr>\n",
       "      <th>max</th>\n",
       "      <td>1.000000</td>\n",
       "      <td>20.000000</td>\n",
       "      <td>21.000000</td>\n",
       "      <td>20.000000</td>\n",
       "      <td>1.000000</td>\n",
       "      <td>1.000000</td>\n",
       "      <td>1.000000</td>\n",
       "      <td>1.000000</td>\n",
       "      <td>1.000000</td>\n",
       "      <td>1.000000</td>\n",
       "      <td>1.000000</td>\n",
       "      <td>1.000000</td>\n",
       "      <td>32.000000</td>\n",
       "      <td>33.000000</td>\n",
       "      <td>14.000000</td>\n",
       "      <td>102974.500000</td>\n",
       "      <td>101300.000000</td>\n",
       "      <td>79424.500000</td>\n",
       "    </tr>\n",
       "  </tbody>\n",
       "</table>\n",
       "</div>"
      ],
      "text/plain": [
       "             target    ct_utility     t_utility     util_diff      de_cache  \\\n",
       "count  23063.000000  23063.000000  23063.000000  23063.000000  23063.000000   \n",
       "mean       0.513593      4.049603      3.438625      0.610979      0.001214   \n",
       "std        0.499826      5.626369      5.041536      6.148150      0.034823   \n",
       "min        0.000000      0.000000      0.000000    -20.000000      0.000000   \n",
       "25%        0.000000      0.000000      0.000000     -2.000000      0.000000   \n",
       "50%        1.000000      1.000000      1.000000      0.000000      0.000000   \n",
       "75%        1.000000      5.000000      4.000000      3.000000      0.000000   \n",
       "max        1.000000     20.000000     21.000000     20.000000      1.000000   \n",
       "\n",
       "           de_dust2    de_inferno     de_mirage       de_nuke   de_overpass  \\\n",
       "count  23063.000000  23063.000000  23063.000000  23063.000000  23063.000000   \n",
       "mean       0.180983      0.194207      0.151455      0.143130      0.135065   \n",
       "std        0.385012      0.395598      0.358499      0.350213      0.341800   \n",
       "min        0.000000      0.000000      0.000000      0.000000      0.000000   \n",
       "25%        0.000000      0.000000      0.000000      0.000000      0.000000   \n",
       "50%        0.000000      0.000000      0.000000      0.000000      0.000000   \n",
       "75%        0.000000      0.000000      0.000000      0.000000      0.000000   \n",
       "max        1.000000      1.000000      1.000000      1.000000      1.000000   \n",
       "\n",
       "           de_train    de_vertigo      ct_score       t_score    score_diff  \\\n",
       "count  23063.000000  23063.000000  23063.000000  23063.000000  23063.000000   \n",
       "mean       0.101288      0.092659      7.082426      7.182630     -0.100204   \n",
       "std        0.301716      0.289961      4.675862      4.638725      4.302939   \n",
       "min        0.000000      0.000000      0.000000      0.000000    -15.000000   \n",
       "25%        0.000000      0.000000      3.000000      4.000000     -3.000000   \n",
       "50%        0.000000      0.000000      7.000000      7.000000      0.000000   \n",
       "75%        0.000000      0.000000     11.000000     11.000000      3.000000   \n",
       "max        1.000000      1.000000     32.000000     33.000000     14.000000   \n",
       "\n",
       "              new_ct          new_t      new_diff  \n",
       "count   23063.000000   23063.000000  23063.000000  \n",
       "mean    28288.341239   27552.504314    735.836925  \n",
       "std     18363.832805   18106.186846  20435.821871  \n",
       "min         0.000000       0.000000 -71775.000000  \n",
       "25%     12800.000000   14100.000000 -11834.250000  \n",
       "50%     27550.000000   25200.000000      0.000000  \n",
       "75%     38912.250000   38266.500000  13670.250000  \n",
       "max    102974.500000  101300.000000  79424.500000  "
      ]
     },
     "execution_count": 51,
     "metadata": {},
     "output_type": "execute_result"
    }
   ],
   "source": [
    "df.describe()"
   ]
  },
  {
   "cell_type": "code",
   "execution_count": 52,
   "metadata": {
    "ExecuteTime": {
     "end_time": "2020-06-12T15:10:08.739961Z",
     "start_time": "2020-06-12T15:10:08.737609Z"
    }
   },
   "outputs": [
    {
     "data": {
      "text/plain": [
       "(23063, 18)"
      ]
     },
     "execution_count": 52,
     "metadata": {},
     "output_type": "execute_result"
    }
   ],
   "source": [
    "df.shape"
   ]
  },
  {
   "cell_type": "code",
   "execution_count": 53,
   "metadata": {
    "ExecuteTime": {
     "end_time": "2020-06-12T15:10:08.756059Z",
     "start_time": "2020-06-12T15:10:08.740889Z"
    }
   },
   "outputs": [],
   "source": [
    "display(file = 'csgo_pair.png')"
   ]
  },
  {
   "cell_type": "code",
   "execution_count": 54,
   "metadata": {
    "ExecuteTime": {
     "end_time": "2020-06-12T15:10:08.772214Z",
     "start_time": "2020-06-12T15:10:08.756945Z"
    }
   },
   "outputs": [],
   "source": [
    "# pair_plot = sns.pairplot(df, hue = 'target')\n",
    "# pair_plot.savefig('csgo_pair')\n"
   ]
  },
  {
   "cell_type": "code",
   "execution_count": 55,
   "metadata": {
    "ExecuteTime": {
     "end_time": "2020-06-12T15:10:08.876919Z",
     "start_time": "2020-06-12T15:10:08.773095Z"
    }
   },
   "outputs": [
    {
     "data": {
      "text/plain": [
       "array([[<matplotlib.axes._subplots.AxesSubplot object at 0x7fa7cb097a50>]],\n",
       "      dtype=object)"
      ]
     },
     "execution_count": 55,
     "metadata": {},
     "output_type": "execute_result"
    },
    {
     "data": {
      "image/png": "[encoded data removed]",
      "text/plain": [
       "<Figure size 432x288 with 1 Axes>"
      ]
     },
     "metadata": {
      "needs_background": "light"
     },
     "output_type": "display_data"
    }
   ],
   "source": [
    "df.hist('target')"
   ]
  },
  {
   "cell_type": "code",
   "execution_count": 56,
   "metadata": {
    "ExecuteTime": {
     "end_time": "2020-06-12T15:10:08.891668Z",
     "start_time": "2020-06-12T15:10:08.877846Z"
    }
   },
   "outputs": [
    {
     "data": {
      "text/html": [
       "<div>\n",
       "<style scoped>\n",
       "    .dataframe tbody tr th:only-of-type {\n",
       "        vertical-align: middle;\n",
       "    }\n",
       "\n",
       "    .dataframe tbody tr th {\n",
       "        vertical-align: top;\n",
       "    }\n",
       "\n",
       "    .dataframe thead th {\n",
       "        text-align: right;\n",
       "    }\n",
       "</style>\n",
       "<table border=\"1\" class=\"dataframe\">\n",
       "  <thead>\n",
       "    <tr style=\"text-align: right;\">\n",
       "      <th></th>\n",
       "      <th>ct_utility</th>\n",
       "      <th>t_utility</th>\n",
       "      <th>util_diff</th>\n",
       "      <th>de_cache</th>\n",
       "      <th>de_dust2</th>\n",
       "      <th>de_inferno</th>\n",
       "      <th>de_mirage</th>\n",
       "      <th>de_nuke</th>\n",
       "      <th>de_overpass</th>\n",
       "      <th>de_train</th>\n",
       "      <th>de_vertigo</th>\n",
       "      <th>ct_score</th>\n",
       "      <th>t_score</th>\n",
       "      <th>score_diff</th>\n",
       "      <th>new_ct</th>\n",
       "      <th>new_t</th>\n",
       "      <th>new_diff</th>\n",
       "    </tr>\n",
       "    <tr>\n",
       "      <th>target</th>\n",
       "      <th></th>\n",
       "      <th></th>\n",
       "      <th></th>\n",
       "      <th></th>\n",
       "      <th></th>\n",
       "      <th></th>\n",
       "      <th></th>\n",
       "      <th></th>\n",
       "      <th></th>\n",
       "      <th></th>\n",
       "      <th></th>\n",
       "      <th></th>\n",
       "      <th></th>\n",
       "      <th></th>\n",
       "      <th></th>\n",
       "      <th></th>\n",
       "      <th></th>\n",
       "    </tr>\n",
       "  </thead>\n",
       "  <tbody>\n",
       "    <tr>\n",
       "      <th>0</th>\n",
       "      <td>3.38563</td>\n",
       "      <td>3.932697</td>\n",
       "      <td>-0.547067</td>\n",
       "      <td>0.000802</td>\n",
       "      <td>0.192102</td>\n",
       "      <td>0.209663</td>\n",
       "      <td>0.145302</td>\n",
       "      <td>0.128454</td>\n",
       "      <td>0.132555</td>\n",
       "      <td>0.093689</td>\n",
       "      <td>0.097433</td>\n",
       "      <td>6.784008</td>\n",
       "      <td>7.203512</td>\n",
       "      <td>-0.419504</td>\n",
       "      <td>25234.090524</td>\n",
       "      <td>29881.019032</td>\n",
       "      <td>-4646.928508</td>\n",
       "    </tr>\n",
       "    <tr>\n",
       "      <th>1</th>\n",
       "      <td>4.67843</td>\n",
       "      <td>2.970705</td>\n",
       "      <td>1.707725</td>\n",
       "      <td>0.001604</td>\n",
       "      <td>0.170452</td>\n",
       "      <td>0.179569</td>\n",
       "      <td>0.157282</td>\n",
       "      <td>0.157028</td>\n",
       "      <td>0.137442</td>\n",
       "      <td>0.108485</td>\n",
       "      <td>0.088138</td>\n",
       "      <td>7.365049</td>\n",
       "      <td>7.162854</td>\n",
       "      <td>0.202195</td>\n",
       "      <td>31180.919080</td>\n",
       "      <td>25347.246560</td>\n",
       "      <td>5833.672520</td>\n",
       "    </tr>\n",
       "  </tbody>\n",
       "</table>\n",
       "</div>"
      ],
      "text/plain": [
       "        ct_utility  t_utility  util_diff  de_cache  de_dust2  de_inferno  \\\n",
       "target                                                                     \n",
       "0          3.38563   3.932697  -0.547067  0.000802  0.192102    0.209663   \n",
       "1          4.67843   2.970705   1.707725  0.001604  0.170452    0.179569   \n",
       "\n",
       "        de_mirage   de_nuke  de_overpass  de_train  de_vertigo  ct_score  \\\n",
       "target                                                                     \n",
       "0        0.145302  0.128454     0.132555  0.093689    0.097433  6.784008   \n",
       "1        0.157282  0.157028     0.137442  0.108485    0.088138  7.365049   \n",
       "\n",
       "         t_score  score_diff        new_ct         new_t     new_diff  \n",
       "target                                                                 \n",
       "0       7.203512   -0.419504  25234.090524  29881.019032 -4646.928508  \n",
       "1       7.162854    0.202195  31180.919080  25347.246560  5833.672520  "
      ]
     },
     "execution_count": 56,
     "metadata": {},
     "output_type": "execute_result"
    }
   ],
   "source": [
    "df.groupby('target').mean()"
   ]
  },
  {
   "cell_type": "code",
   "execution_count": 89,
   "metadata": {
    "ExecuteTime": {
     "end_time": "2020-06-12T15:44:59.117751Z",
     "start_time": "2020-06-12T15:44:59.113624Z"
    }
   },
   "outputs": [],
   "source": [
    "X, y = df.drop(['target','ct_utility','t_utility','util_diff'], axis = 1), df.target\n"
   ]
  },
  {
   "cell_type": "code",
   "execution_count": 90,
   "metadata": {
    "ExecuteTime": {
     "end_time": "2020-06-12T15:44:59.140625Z",
     "start_time": "2020-06-12T15:44:59.120938Z"
    }
   },
   "outputs": [],
   "source": [
    "X_train, X_test, y_train, y_test = train_test_split(X, y, test_size = 0.25, random_state=42)\n"
   ]
  },
  {
   "cell_type": "code",
   "execution_count": 92,
   "metadata": {
    "ExecuteTime": {
     "end_time": "2020-06-12T15:44:59.173894Z",
     "start_time": "2020-06-12T15:44:59.158128Z"
    }
   },
   "outputs": [
    {
     "data": {
      "text/plain": [
       "0.5234131113423517"
      ]
     },
     "execution_count": 92,
     "metadata": {},
     "output_type": "execute_result"
    }
   ],
   "source": [
    "accuracy_score(y_test,np.array([1]*len(X_test)))"
   ]
  },
  {
   "cell_type": "code",
   "execution_count": 93,
   "metadata": {
    "ExecuteTime": {
     "end_time": "2020-06-12T15:44:59.189249Z",
     "start_time": "2020-06-12T15:44:59.175107Z"
    }
   },
   "outputs": [
    {
     "data": {
      "text/plain": [
       "(17297, 14)"
      ]
     },
     "execution_count": 93,
     "metadata": {},
     "output_type": "execute_result"
    }
   ],
   "source": [
    "X_train.shape"
   ]
  },
  {
   "cell_type": "code",
   "execution_count": 94,
   "metadata": {
    "ExecuteTime": {
     "end_time": "2020-06-12T15:44:59.212157Z",
     "start_time": "2020-06-12T15:44:59.190212Z"
    }
   },
   "outputs": [
    {
     "data": {
      "text/html": [
       "<div>\n",
       "<style scoped>\n",
       "    .dataframe tbody tr th:only-of-type {\n",
       "        vertical-align: middle;\n",
       "    }\n",
       "\n",
       "    .dataframe tbody tr th {\n",
       "        vertical-align: top;\n",
       "    }\n",
       "\n",
       "    .dataframe thead th {\n",
       "        text-align: right;\n",
       "    }\n",
       "</style>\n",
       "<table border=\"1\" class=\"dataframe\">\n",
       "  <thead>\n",
       "    <tr style=\"text-align: right;\">\n",
       "      <th></th>\n",
       "      <th>de_cache</th>\n",
       "      <th>de_dust2</th>\n",
       "      <th>de_inferno</th>\n",
       "      <th>de_mirage</th>\n",
       "      <th>de_nuke</th>\n",
       "      <th>de_overpass</th>\n",
       "      <th>de_train</th>\n",
       "      <th>de_vertigo</th>\n",
       "      <th>ct_score</th>\n",
       "      <th>t_score</th>\n",
       "      <th>score_diff</th>\n",
       "      <th>new_ct</th>\n",
       "      <th>new_t</th>\n",
       "      <th>new_diff</th>\n",
       "    </tr>\n",
       "  </thead>\n",
       "  <tbody>\n",
       "    <tr>\n",
       "      <th>60929</th>\n",
       "      <td>0</td>\n",
       "      <td>0</td>\n",
       "      <td>0</td>\n",
       "      <td>0</td>\n",
       "      <td>1</td>\n",
       "      <td>0</td>\n",
       "      <td>0</td>\n",
       "      <td>0</td>\n",
       "      <td>10</td>\n",
       "      <td>10</td>\n",
       "      <td>0</td>\n",
       "      <td>46703.0</td>\n",
       "      <td>16850.0</td>\n",
       "      <td>29853.0</td>\n",
       "    </tr>\n",
       "    <tr>\n",
       "      <th>55445</th>\n",
       "      <td>0</td>\n",
       "      <td>0</td>\n",
       "      <td>0</td>\n",
       "      <td>0</td>\n",
       "      <td>0</td>\n",
       "      <td>1</td>\n",
       "      <td>0</td>\n",
       "      <td>0</td>\n",
       "      <td>4</td>\n",
       "      <td>9</td>\n",
       "      <td>-5</td>\n",
       "      <td>32578.5</td>\n",
       "      <td>62200.0</td>\n",
       "      <td>-29621.5</td>\n",
       "    </tr>\n",
       "    <tr>\n",
       "      <th>67029</th>\n",
       "      <td>0</td>\n",
       "      <td>0</td>\n",
       "      <td>0</td>\n",
       "      <td>0</td>\n",
       "      <td>0</td>\n",
       "      <td>0</td>\n",
       "      <td>0</td>\n",
       "      <td>1</td>\n",
       "      <td>6</td>\n",
       "      <td>9</td>\n",
       "      <td>-3</td>\n",
       "      <td>5000.0</td>\n",
       "      <td>4600.0</td>\n",
       "      <td>400.0</td>\n",
       "    </tr>\n",
       "    <tr>\n",
       "      <th>10554</th>\n",
       "      <td>0</td>\n",
       "      <td>0</td>\n",
       "      <td>0</td>\n",
       "      <td>0</td>\n",
       "      <td>0</td>\n",
       "      <td>0</td>\n",
       "      <td>1</td>\n",
       "      <td>0</td>\n",
       "      <td>15</td>\n",
       "      <td>12</td>\n",
       "      <td>3</td>\n",
       "      <td>83533.0</td>\n",
       "      <td>20550.0</td>\n",
       "      <td>62983.0</td>\n",
       "    </tr>\n",
       "    <tr>\n",
       "      <th>6495</th>\n",
       "      <td>0</td>\n",
       "      <td>0</td>\n",
       "      <td>1</td>\n",
       "      <td>0</td>\n",
       "      <td>0</td>\n",
       "      <td>0</td>\n",
       "      <td>0</td>\n",
       "      <td>0</td>\n",
       "      <td>8</td>\n",
       "      <td>7</td>\n",
       "      <td>1</td>\n",
       "      <td>5000.0</td>\n",
       "      <td>5000.0</td>\n",
       "      <td>0.0</td>\n",
       "    </tr>\n",
       "  </tbody>\n",
       "</table>\n",
       "</div>"
      ],
      "text/plain": [
       "       de_cache  de_dust2  de_inferno  de_mirage  de_nuke  de_overpass  \\\n",
       "60929         0         0           0          0        1            0   \n",
       "55445         0         0           0          0        0            1   \n",
       "67029         0         0           0          0        0            0   \n",
       "10554         0         0           0          0        0            0   \n",
       "6495          0         0           1          0        0            0   \n",
       "\n",
       "       de_train  de_vertigo  ct_score  t_score  score_diff   new_ct    new_t  \\\n",
       "60929         0           0        10       10           0  46703.0  16850.0   \n",
       "55445         0           0         4        9          -5  32578.5  62200.0   \n",
       "67029         0           1         6        9          -3   5000.0   4600.0   \n",
       "10554         1           0        15       12           3  83533.0  20550.0   \n",
       "6495          0           0         8        7           1   5000.0   5000.0   \n",
       "\n",
       "       new_diff  \n",
       "60929   29853.0  \n",
       "55445  -29621.5  \n",
       "67029     400.0  \n",
       "10554   62983.0  \n",
       "6495        0.0  "
      ]
     },
     "execution_count": 94,
     "metadata": {},
     "output_type": "execute_result"
    }
   ],
   "source": [
    "X_train.head()"
   ]
  },
  {
   "cell_type": "code",
   "execution_count": 95,
   "metadata": {
    "ExecuteTime": {
     "end_time": "2020-06-12T15:44:59.227822Z",
     "start_time": "2020-06-12T15:44:59.213268Z"
    }
   },
   "outputs": [
    {
     "data": {
      "text/plain": [
       "(17297,)"
      ]
     },
     "execution_count": 95,
     "metadata": {},
     "output_type": "execute_result"
    }
   ],
   "source": [
    "y_train.shape"
   ]
  },
  {
   "cell_type": "code",
   "execution_count": 96,
   "metadata": {
    "ExecuteTime": {
     "end_time": "2020-06-12T15:44:59.246469Z",
     "start_time": "2020-06-12T15:44:59.229182Z"
    }
   },
   "outputs": [
    {
     "data": {
      "text/plain": [
       "60929    1\n",
       "55445    1\n",
       "67029    0\n",
       "10554    0\n",
       "6495     0\n",
       "        ..\n",
       "44936    1\n",
       "81917    0\n",
       "20343    0\n",
       "3314     0\n",
       "59878    1\n",
       "Name: target, Length: 17297, dtype: int64"
      ]
     },
     "execution_count": 96,
     "metadata": {},
     "output_type": "execute_result"
    }
   ],
   "source": [
    "y_train"
   ]
  },
  {
   "cell_type": "code",
   "execution_count": 97,
   "metadata": {
    "ExecuteTime": {
     "end_time": "2020-06-12T15:44:59.266649Z",
     "start_time": "2020-06-12T15:44:59.248103Z"
    }
   },
   "outputs": [],
   "source": [
    "# std = StandardScaler()\n",
    "# std.fit(X_train.values)\n",
    "# X_tr = std.transform(X_train.values)"
   ]
  },
  {
   "cell_type": "code",
   "execution_count": 98,
   "metadata": {
    "ExecuteTime": {
     "end_time": "2020-06-12T15:45:03.644912Z",
     "start_time": "2020-06-12T15:44:59.268305Z"
    }
   },
   "outputs": [
    {
     "name": "stdout",
     "output_type": "stream",
     "text": [
      "KNeighborsClassifier\n",
      "Accuracy:  0.6644120707596254\n",
      "Precision:  0.6823846412933647\n",
      "Recall:  0.6713055003313453\n",
      "F1:  0.6767997327543009\n",
      "\n",
      "\n",
      "LogisticRegression\n",
      "Accuracy:  0.6106486298994104\n",
      "Precision:  0.6081118881118881\n",
      "Recall:  0.7203445990722332\n",
      "F1:  0.6594873350523283\n",
      "\n",
      "\n",
      "GaussianNB\n",
      "Accuracy:  0.6064862989941033\n",
      "Precision:  0.6455499417022931\n",
      "Recall:  0.550364479787939\n",
      "F1:  0.5941692005008048\n",
      "\n",
      "\n",
      "RandomForestClassifier\n",
      "Accuracy:  0.7625737079431149\n",
      "Precision:  0.7780775716694772\n",
      "Recall:  0.76441351888668\n",
      "F1:  0.7711850242353334\n",
      "\n",
      "\n",
      "GradientBoostingClassifier\n",
      "Accuracy:  0.6368366285119667\n",
      "Precision:  0.6355633802816901\n",
      "Recall:  0.7176938369781312\n",
      "F1:  0.6741363211951447\n",
      "\n",
      "\n",
      "XGBClassifier\n",
      "Accuracy:  0.7032604925424905\n",
      "Precision:  0.7122442351412797\n",
      "Recall:  0.7266401590457257\n",
      "F1:  0.7193701820567492\n",
      "\n",
      "\n"
     ]
    }
   ],
   "source": [
    "    \n",
    "models = []\n",
    "\n",
    "knn = KNeighborsClassifier()\n",
    "knn.fit(X_train, y_train)\n",
    "models.append(knn)\n",
    "\n",
    "lr = LogisticRegression(C=1)\n",
    "lr.fit(X_train, y_train)\n",
    "lr_pred = lr.predict(X_test)\n",
    "models.append(lr)\n",
    "    \n",
    "nb = GaussianNB()\n",
    "nb.fit(X_train, y_train)\n",
    "models.append(nb)\n",
    "\n",
    "# svm = SVC(probability = True)\n",
    "# svm.fit(X_train, y_train)\n",
    "# models.append(svm)\n",
    "\n",
    "rfc = RandomForestClassifier(random_state = 42, oob_score = True)\n",
    "rfc.fit(X_train, y_train)\n",
    "models.append(rfc)\n",
    "\n",
    "gb = GradientBoostingClassifier()\n",
    "gb.fit(X_train, y_train)\n",
    "models.append(gb)\n",
    "\n",
    "xgboost = xgb.XGBClassifier()\n",
    "xgboost.fit(X_train, y_train)\n",
    "models.append(xgboost)\n",
    "\n",
    "for model in models:\n",
    "        print (type(model).__name__)\n",
    "        print ('Accuracy: ', accuracy_score(y_test, model.predict(X_test)))\n",
    "        print('Precision: ', precision_score(y_test, model.predict(X_test)))\n",
    "        print('Recall: ', recall_score(y_test, model.predict(X_test)))\n",
    "        print('F1: ',f1_score(y_test, model.predict(X_test)))\n",
    "        print('\\n')\n",
    "    \n",
    "        \n",
    "        \n",
    "        \n",
    "    \n",
    "\n",
    "    "
   ]
  },
  {
   "cell_type": "code",
   "execution_count": 99,
   "metadata": {
    "ExecuteTime": {
     "end_time": "2020-06-12T15:45:03.654975Z",
     "start_time": "2020-06-12T15:45:03.653119Z"
    }
   },
   "outputs": [],
   "source": [
    "# for model in models:\n",
    "#         print (type(model).__name__)\n",
    "#         print ('Accuracy: ', accuracy_score(y_train, model.predict(X_train)))\n",
    "#         print('Precision: ', precision_score(y_train, model.predict(X_train)))\n",
    "#         print('Recall: ', recall_score(y_train, model.predict(X_train)))\n",
    "#         print('F1: ',f1_score(y_train, model.predict(X_train)))\n",
    "#         print('\\n')"
   ]
  },
  {
   "cell_type": "code",
   "execution_count": 100,
   "metadata": {
    "ExecuteTime": {
     "end_time": "2020-06-12T15:45:03.676213Z",
     "start_time": "2020-06-12T15:45:03.657770Z"
    }
   },
   "outputs": [
    {
     "data": {
      "text/plain": [
       "0.7587442909175002"
      ]
     },
     "execution_count": 100,
     "metadata": {},
     "output_type": "execute_result"
    }
   ],
   "source": [
    "rfc.oob_score_"
   ]
  },
  {
   "cell_type": "code",
   "execution_count": 101,
   "metadata": {
    "ExecuteTime": {
     "end_time": "2020-06-12T15:45:03.691262Z",
     "start_time": "2020-06-12T15:45:03.677461Z"
    }
   },
   "outputs": [],
   "source": [
    "#RandomForestClassifier no util\n",
    "# Accuracy:  0.7625737079431149\n",
    "# Precision:  0.7780775716694772\n",
    "# Recall:  0.76441351888668\n",
    "# F1:  0.7711850242353334\n",
    "\n",
    "\n",
    "\n",
    "# RandomForestClassifier drop first maps \n",
    "# Accuracy:  0.7365591397849462\n",
    "# Precision:  0.7480966567361801\n",
    "# Recall:  0.7488402915838304\n",
    "# F1:  0.748468289451896\n",
    "\n",
    "\n",
    "\n",
    "# with dummied maps\n",
    "\n",
    "# RandomForestClassifier\n",
    "# Accuracy:  0.7351716961498439\n",
    "# Precision:  0.7453109575518263\n",
    "# Recall:  0.7504970178926441\n",
    "# F1:  0.7478949975235265\n",
    "\n",
    "\n",
    "\n",
    "\n",
    "# RandomForestClassifier\n",
    "# Accuracy:  0.7105445716267776\n",
    "# Precision:  0.7170904409398133\n",
    "# Recall:  0.7382372432074221\n",
    "# F1:  0.7275102040816327\n",
    "\n",
    "\n",
    "\n",
    "\n"
   ]
  },
  {
   "cell_type": "code",
   "execution_count": 102,
   "metadata": {
    "ExecuteTime": {
     "end_time": "2020-06-12T15:45:04.249660Z",
     "start_time": "2020-06-12T15:45:03.692469Z"
    }
   },
   "outputs": [
    {
     "name": "stdout",
     "output_type": "stream",
     "text": [
      "KNeighborsClassifier  AUC =  0.7277568215163169\n",
      "LogisticRegression  AUC =  0.6427860541747091\n",
      "GaussianNB  AUC =  0.6350435716607681\n",
      "RandomForestClassifier  AUC =  0.8565003718590929\n",
      "GradientBoostingClassifier  AUC =  0.7015725877630866\n",
      "XGBClassifier  AUC =  0.7737981981955911\n"
     ]
    },
    {
     "data": {
      "text/plain": [
       "<matplotlib.legend.Legend at 0x7fa7cc374bd0>"
      ]
     },
     "execution_count": 102,
     "metadata": {},
     "output_type": "execute_result"
    },
    {
     "data": {
      "image/png": "[encoded data removed]",
      "text/plain": [
       "<Figure size 432x288 with 1 Axes>"
      ]
     },
     "metadata": {
      "needs_background": "light"
     },
     "output_type": "display_data"
    }
   ],
   "source": [
    "labels = []\n",
    "for model in models:\n",
    "    fpr, tpr, thresholds = roc_curve(y_test, model.predict_proba(X_test)[:, 1])\n",
    "    plt.plot(fpr, tpr, label = model)\n",
    "    name = type(model).__name__\n",
    "    print(name, \" AUC = \", roc_auc_score(y_test, model.predict_proba(X_test)[:,1]))\n",
    "    labels.append(name)\n",
    "\n",
    "plt.legend(labels = labels)"
   ]
  },
  {
   "cell_type": "code",
   "execution_count": 103,
   "metadata": {
    "ExecuteTime": {
     "end_time": "2020-06-12T15:45:04.273235Z",
     "start_time": "2020-06-12T15:45:04.253138Z"
    }
   },
   "outputs": [
    {
     "name": "stdout",
     "output_type": "stream",
     "text": [
      "[('de_cache', 0.0006439504597885622),\n",
      " ('de_dust2', 0.013902383856492527),\n",
      " ('de_inferno', 0.013487121992542707),\n",
      " ('de_mirage', 0.014055900425323469),\n",
      " ('de_nuke', 0.012422062235534296),\n",
      " ('de_overpass', 0.013919375901864848),\n",
      " ('de_train', 0.012916401220410531),\n",
      " ('de_vertigo', 0.011561152863609515),\n",
      " ('ct_score', 0.09355478588554694),\n",
      " ('t_score', 0.0944290118652796),\n",
      " ('score_diff', 0.09507292393966692),\n",
      " ('new_ct', 0.20557676029491856),\n",
      " ('new_t', 0.20358162954411585),\n",
      " ('new_diff', 0.2148765395149057)]\n"
     ]
    }
   ],
   "source": [
    "pprint.pprint(list(zip(X_train.columns ,rfc.feature_importances_)))"
   ]
  },
  {
   "cell_type": "code",
   "execution_count": 104,
   "metadata": {
    "ExecuteTime": {
     "end_time": "2020-06-12T15:45:04.395280Z",
     "start_time": "2020-06-12T15:45:04.276589Z"
    }
   },
   "outputs": [
    {
     "data": {
      "image/png": "[encoded data removed]",
      "text/plain": [
       "<Figure size 432x288 with 1 Axes>"
      ]
     },
     "metadata": {
      "needs_background": "light"
     },
     "output_type": "display_data"
    }
   ],
   "source": [
    "features = X_train.columns\n",
    "importances = rfc.feature_importances_\n",
    "indices = np.argsort(importances)\n",
    "\n",
    "plt.title('Feature Importances')\n",
    "plt.barh(range(len(indices)), importances[indices], color='b', align='center')\n",
    "plt.yticks(range(len(indices)), [features[i] for i in indices])\n",
    "plt.xlabel('Relative Importance')\n",
    "plt.show()"
   ]
  },
  {
   "cell_type": "code",
   "execution_count": 105,
   "metadata": {
    "ExecuteTime": {
     "end_time": "2020-06-12T15:45:05.715529Z",
     "start_time": "2020-06-12T15:45:04.396398Z"
    }
   },
   "outputs": [],
   "source": [
    "rfc = RandomForestClassifier(random_state = 42)\n",
    "rfc.fit(X_train, y_train)\n",
    "pred = rfc.predict(X_test)"
   ]
  },
  {
   "cell_type": "code",
   "execution_count": 106,
   "metadata": {
    "ExecuteTime": {
     "end_time": "2020-06-12T15:45:05.816850Z",
     "start_time": "2020-06-12T15:45:05.716507Z"
    }
   },
   "outputs": [
    {
     "data": {
      "text/plain": [
       "<matplotlib.axes._subplots.AxesSubplot at 0x7fa7cb7619d0>"
      ]
     },
     "execution_count": 106,
     "metadata": {},
     "output_type": "execute_result"
    },
    {
     "data": {
      "image/png": "[encoded data removed]",
      "text/plain": [
       "<Figure size 504x504 with 2 Axes>"
      ]
     },
     "metadata": {
      "needs_background": "light"
     },
     "output_type": "display_data"
    }
   ],
   "source": [
    "to_plot = confusion_matrix(y_test, pred)\n",
    "plt.figure(figsize = (7,7))\n",
    "sns_plot = sns.heatmap(to_plot, annot = True,fmt = 'g')\n",
    "sns_plot"
   ]
  },
  {
   "cell_type": "code",
   "execution_count": 107,
   "metadata": {
    "ExecuteTime": {
     "end_time": "2020-06-12T15:45:05.821364Z",
     "start_time": "2020-06-12T15:45:05.818242Z"
    }
   },
   "outputs": [],
   "source": [
    "y_test = np.asarray(y_test)\n",
    "misclassified = np.where(y_test != pred)"
   ]
  },
  {
   "cell_type": "code",
   "execution_count": 108,
   "metadata": {
    "ExecuteTime": {
     "end_time": "2020-06-12T15:45:05.838490Z",
     "start_time": "2020-06-12T15:45:05.822481Z"
    }
   },
   "outputs": [],
   "source": [
    "misclass_df =  X_test.iloc[misclassified[0],:]"
   ]
  },
  {
   "cell_type": "code",
   "execution_count": 109,
   "metadata": {
    "ExecuteTime": {
     "end_time": "2020-06-12T15:45:05.855338Z",
     "start_time": "2020-06-12T15:45:05.840143Z"
    }
   },
   "outputs": [
    {
     "data": {
      "text/plain": [
       "(1369, 14)"
      ]
     },
     "execution_count": 109,
     "metadata": {},
     "output_type": "execute_result"
    }
   ],
   "source": [
    "misclass_df.shape"
   ]
  },
  {
   "cell_type": "code",
   "execution_count": 110,
   "metadata": {
    "ExecuteTime": {
     "end_time": "2020-06-12T15:45:05.878615Z",
     "start_time": "2020-06-12T15:45:05.856393Z"
    }
   },
   "outputs": [
    {
     "data": {
      "text/html": [
       "<div>\n",
       "<style scoped>\n",
       "    .dataframe tbody tr th:only-of-type {\n",
       "        vertical-align: middle;\n",
       "    }\n",
       "\n",
       "    .dataframe tbody tr th {\n",
       "        vertical-align: top;\n",
       "    }\n",
       "\n",
       "    .dataframe thead th {\n",
       "        text-align: right;\n",
       "    }\n",
       "</style>\n",
       "<table border=\"1\" class=\"dataframe\">\n",
       "  <thead>\n",
       "    <tr style=\"text-align: right;\">\n",
       "      <th></th>\n",
       "      <th>de_cache</th>\n",
       "      <th>de_dust2</th>\n",
       "      <th>de_inferno</th>\n",
       "      <th>de_mirage</th>\n",
       "      <th>de_nuke</th>\n",
       "      <th>de_overpass</th>\n",
       "      <th>de_train</th>\n",
       "      <th>de_vertigo</th>\n",
       "      <th>ct_score</th>\n",
       "      <th>t_score</th>\n",
       "      <th>score_diff</th>\n",
       "      <th>new_ct</th>\n",
       "      <th>new_t</th>\n",
       "      <th>new_diff</th>\n",
       "    </tr>\n",
       "  </thead>\n",
       "  <tbody>\n",
       "    <tr>\n",
       "      <th>973</th>\n",
       "      <td>0</td>\n",
       "      <td>1</td>\n",
       "      <td>0</td>\n",
       "      <td>0</td>\n",
       "      <td>0</td>\n",
       "      <td>0</td>\n",
       "      <td>0</td>\n",
       "      <td>0</td>\n",
       "      <td>13</td>\n",
       "      <td>13</td>\n",
       "      <td>0</td>\n",
       "      <td>19800.0</td>\n",
       "      <td>40654.5</td>\n",
       "      <td>-20854.5</td>\n",
       "    </tr>\n",
       "    <tr>\n",
       "      <th>25892</th>\n",
       "      <td>0</td>\n",
       "      <td>0</td>\n",
       "      <td>0</td>\n",
       "      <td>0</td>\n",
       "      <td>0</td>\n",
       "      <td>0</td>\n",
       "      <td>1</td>\n",
       "      <td>0</td>\n",
       "      <td>18</td>\n",
       "      <td>17</td>\n",
       "      <td>1</td>\n",
       "      <td>52598.0</td>\n",
       "      <td>22750.0</td>\n",
       "      <td>29848.0</td>\n",
       "    </tr>\n",
       "    <tr>\n",
       "      <th>55364</th>\n",
       "      <td>0</td>\n",
       "      <td>0</td>\n",
       "      <td>0</td>\n",
       "      <td>0</td>\n",
       "      <td>0</td>\n",
       "      <td>1</td>\n",
       "      <td>0</td>\n",
       "      <td>0</td>\n",
       "      <td>1</td>\n",
       "      <td>0</td>\n",
       "      <td>1</td>\n",
       "      <td>20500.0</td>\n",
       "      <td>11750.0</td>\n",
       "      <td>8750.0</td>\n",
       "    </tr>\n",
       "    <tr>\n",
       "      <th>50642</th>\n",
       "      <td>0</td>\n",
       "      <td>1</td>\n",
       "      <td>0</td>\n",
       "      <td>0</td>\n",
       "      <td>0</td>\n",
       "      <td>0</td>\n",
       "      <td>0</td>\n",
       "      <td>0</td>\n",
       "      <td>2</td>\n",
       "      <td>4</td>\n",
       "      <td>-2</td>\n",
       "      <td>33350.0</td>\n",
       "      <td>49070.5</td>\n",
       "      <td>-15720.5</td>\n",
       "    </tr>\n",
       "    <tr>\n",
       "      <th>52681</th>\n",
       "      <td>0</td>\n",
       "      <td>0</td>\n",
       "      <td>0</td>\n",
       "      <td>0</td>\n",
       "      <td>1</td>\n",
       "      <td>0</td>\n",
       "      <td>0</td>\n",
       "      <td>0</td>\n",
       "      <td>7</td>\n",
       "      <td>8</td>\n",
       "      <td>-1</td>\n",
       "      <td>5000.0</td>\n",
       "      <td>5000.0</td>\n",
       "      <td>0.0</td>\n",
       "    </tr>\n",
       "  </tbody>\n",
       "</table>\n",
       "</div>"
      ],
      "text/plain": [
       "       de_cache  de_dust2  de_inferno  de_mirage  de_nuke  de_overpass  \\\n",
       "973           0         1           0          0        0            0   \n",
       "25892         0         0           0          0        0            0   \n",
       "55364         0         0           0          0        0            1   \n",
       "50642         0         1           0          0        0            0   \n",
       "52681         0         0           0          0        1            0   \n",
       "\n",
       "       de_train  de_vertigo  ct_score  t_score  score_diff   new_ct    new_t  \\\n",
       "973           0           0        13       13           0  19800.0  40654.5   \n",
       "25892         1           0        18       17           1  52598.0  22750.0   \n",
       "55364         0           0         1        0           1  20500.0  11750.0   \n",
       "50642         0           0         2        4          -2  33350.0  49070.5   \n",
       "52681         0           0         7        8          -1   5000.0   5000.0   \n",
       "\n",
       "       new_diff  \n",
       "973    -20854.5  \n",
       "25892   29848.0  \n",
       "55364    8750.0  \n",
       "50642  -15720.5  \n",
       "52681       0.0  "
      ]
     },
     "execution_count": 110,
     "metadata": {},
     "output_type": "execute_result"
    }
   ],
   "source": [
    "misclass_df.head()"
   ]
  },
  {
   "cell_type": "code",
   "execution_count": 111,
   "metadata": {
    "ExecuteTime": {
     "end_time": "2020-06-12T15:45:05.898841Z",
     "start_time": "2020-06-12T15:45:05.879760Z"
    }
   },
   "outputs": [],
   "source": [
    "misclass_pred = pd.Series(pred[misclassified[0]])\n",
    "\n",
    "truth = pd.Series(y_test[misclassified[0]])"
   ]
  },
  {
   "cell_type": "code",
   "execution_count": 112,
   "metadata": {
    "ExecuteTime": {
     "end_time": "2020-06-12T15:45:05.916899Z",
     "start_time": "2020-06-12T15:45:05.901237Z"
    }
   },
   "outputs": [
    {
     "name": "stderr",
     "output_type": "stream",
     "text": [
      "/home/ethan/anaconda3/lib/python3.7/site-packages/ipykernel_launcher.py:1: SettingWithCopyWarning: \n",
      "A value is trying to be set on a copy of a slice from a DataFrame.\n",
      "Try using .loc[row_indexer,col_indexer] = value instead\n",
      "\n",
      "See the caveats in the documentation: https://pandas.pydata.org/pandas-docs/stable/user_guide/indexing.html#returning-a-view-versus-a-copy\n",
      "  \"\"\"Entry point for launching an IPython kernel.\n",
      "/home/ethan/anaconda3/lib/python3.7/site-packages/ipykernel_launcher.py:2: SettingWithCopyWarning: \n",
      "A value is trying to be set on a copy of a slice from a DataFrame.\n",
      "Try using .loc[row_indexer,col_indexer] = value instead\n",
      "\n",
      "See the caveats in the documentation: https://pandas.pydata.org/pandas-docs/stable/user_guide/indexing.html#returning-a-view-versus-a-copy\n",
      "  \n"
     ]
    }
   ],
   "source": [
    "misclass_df['truth'] = pred[misclassified[0]]\n",
    "misclass_df['misclass_pred'] = y_test[misclassified[0]]"
   ]
  },
  {
   "cell_type": "code",
   "execution_count": 113,
   "metadata": {
    "ExecuteTime": {
     "end_time": "2020-06-12T15:45:05.944062Z",
     "start_time": "2020-06-12T15:45:05.918452Z"
    }
   },
   "outputs": [
    {
     "data": {
      "text/html": [
       "<div>\n",
       "<style scoped>\n",
       "    .dataframe tbody tr th:only-of-type {\n",
       "        vertical-align: middle;\n",
       "    }\n",
       "\n",
       "    .dataframe tbody tr th {\n",
       "        vertical-align: top;\n",
       "    }\n",
       "\n",
       "    .dataframe thead th {\n",
       "        text-align: right;\n",
       "    }\n",
       "</style>\n",
       "<table border=\"1\" class=\"dataframe\">\n",
       "  <thead>\n",
       "    <tr style=\"text-align: right;\">\n",
       "      <th></th>\n",
       "      <th>de_cache</th>\n",
       "      <th>de_dust2</th>\n",
       "      <th>de_inferno</th>\n",
       "      <th>de_mirage</th>\n",
       "      <th>de_nuke</th>\n",
       "      <th>de_overpass</th>\n",
       "      <th>de_train</th>\n",
       "      <th>de_vertigo</th>\n",
       "      <th>ct_score</th>\n",
       "      <th>t_score</th>\n",
       "      <th>score_diff</th>\n",
       "      <th>new_ct</th>\n",
       "      <th>new_t</th>\n",
       "      <th>new_diff</th>\n",
       "      <th>truth</th>\n",
       "      <th>misclass_pred</th>\n",
       "    </tr>\n",
       "  </thead>\n",
       "  <tbody>\n",
       "    <tr>\n",
       "      <th>973</th>\n",
       "      <td>0</td>\n",
       "      <td>1</td>\n",
       "      <td>0</td>\n",
       "      <td>0</td>\n",
       "      <td>0</td>\n",
       "      <td>0</td>\n",
       "      <td>0</td>\n",
       "      <td>0</td>\n",
       "      <td>13</td>\n",
       "      <td>13</td>\n",
       "      <td>0</td>\n",
       "      <td>19800.0</td>\n",
       "      <td>40654.5</td>\n",
       "      <td>-20854.5</td>\n",
       "      <td>0</td>\n",
       "      <td>1</td>\n",
       "    </tr>\n",
       "    <tr>\n",
       "      <th>25892</th>\n",
       "      <td>0</td>\n",
       "      <td>0</td>\n",
       "      <td>0</td>\n",
       "      <td>0</td>\n",
       "      <td>0</td>\n",
       "      <td>0</td>\n",
       "      <td>1</td>\n",
       "      <td>0</td>\n",
       "      <td>18</td>\n",
       "      <td>17</td>\n",
       "      <td>1</td>\n",
       "      <td>52598.0</td>\n",
       "      <td>22750.0</td>\n",
       "      <td>29848.0</td>\n",
       "      <td>1</td>\n",
       "      <td>0</td>\n",
       "    </tr>\n",
       "    <tr>\n",
       "      <th>55364</th>\n",
       "      <td>0</td>\n",
       "      <td>0</td>\n",
       "      <td>0</td>\n",
       "      <td>0</td>\n",
       "      <td>0</td>\n",
       "      <td>1</td>\n",
       "      <td>0</td>\n",
       "      <td>0</td>\n",
       "      <td>1</td>\n",
       "      <td>0</td>\n",
       "      <td>1</td>\n",
       "      <td>20500.0</td>\n",
       "      <td>11750.0</td>\n",
       "      <td>8750.0</td>\n",
       "      <td>0</td>\n",
       "      <td>1</td>\n",
       "    </tr>\n",
       "    <tr>\n",
       "      <th>50642</th>\n",
       "      <td>0</td>\n",
       "      <td>1</td>\n",
       "      <td>0</td>\n",
       "      <td>0</td>\n",
       "      <td>0</td>\n",
       "      <td>0</td>\n",
       "      <td>0</td>\n",
       "      <td>0</td>\n",
       "      <td>2</td>\n",
       "      <td>4</td>\n",
       "      <td>-2</td>\n",
       "      <td>33350.0</td>\n",
       "      <td>49070.5</td>\n",
       "      <td>-15720.5</td>\n",
       "      <td>0</td>\n",
       "      <td>1</td>\n",
       "    </tr>\n",
       "    <tr>\n",
       "      <th>52681</th>\n",
       "      <td>0</td>\n",
       "      <td>0</td>\n",
       "      <td>0</td>\n",
       "      <td>0</td>\n",
       "      <td>1</td>\n",
       "      <td>0</td>\n",
       "      <td>0</td>\n",
       "      <td>0</td>\n",
       "      <td>7</td>\n",
       "      <td>8</td>\n",
       "      <td>-1</td>\n",
       "      <td>5000.0</td>\n",
       "      <td>5000.0</td>\n",
       "      <td>0.0</td>\n",
       "      <td>0</td>\n",
       "      <td>1</td>\n",
       "    </tr>\n",
       "    <tr>\n",
       "      <th>30526</th>\n",
       "      <td>0</td>\n",
       "      <td>0</td>\n",
       "      <td>0</td>\n",
       "      <td>1</td>\n",
       "      <td>0</td>\n",
       "      <td>0</td>\n",
       "      <td>0</td>\n",
       "      <td>0</td>\n",
       "      <td>8</td>\n",
       "      <td>3</td>\n",
       "      <td>5</td>\n",
       "      <td>44600.0</td>\n",
       "      <td>34802.5</td>\n",
       "      <td>9797.5</td>\n",
       "      <td>1</td>\n",
       "      <td>0</td>\n",
       "    </tr>\n",
       "    <tr>\n",
       "      <th>56669</th>\n",
       "      <td>0</td>\n",
       "      <td>0</td>\n",
       "      <td>0</td>\n",
       "      <td>0</td>\n",
       "      <td>0</td>\n",
       "      <td>1</td>\n",
       "      <td>0</td>\n",
       "      <td>0</td>\n",
       "      <td>2</td>\n",
       "      <td>3</td>\n",
       "      <td>-1</td>\n",
       "      <td>22600.0</td>\n",
       "      <td>46800.0</td>\n",
       "      <td>-24200.0</td>\n",
       "      <td>0</td>\n",
       "      <td>1</td>\n",
       "    </tr>\n",
       "    <tr>\n",
       "      <th>55677</th>\n",
       "      <td>0</td>\n",
       "      <td>0</td>\n",
       "      <td>0</td>\n",
       "      <td>0</td>\n",
       "      <td>0</td>\n",
       "      <td>1</td>\n",
       "      <td>0</td>\n",
       "      <td>0</td>\n",
       "      <td>24</td>\n",
       "      <td>25</td>\n",
       "      <td>-1</td>\n",
       "      <td>60600.0</td>\n",
       "      <td>91205.0</td>\n",
       "      <td>-30605.0</td>\n",
       "      <td>1</td>\n",
       "      <td>0</td>\n",
       "    </tr>\n",
       "    <tr>\n",
       "      <th>39921</th>\n",
       "      <td>0</td>\n",
       "      <td>1</td>\n",
       "      <td>0</td>\n",
       "      <td>0</td>\n",
       "      <td>0</td>\n",
       "      <td>0</td>\n",
       "      <td>0</td>\n",
       "      <td>0</td>\n",
       "      <td>4</td>\n",
       "      <td>10</td>\n",
       "      <td>-6</td>\n",
       "      <td>16650.0</td>\n",
       "      <td>52842.0</td>\n",
       "      <td>-36192.0</td>\n",
       "      <td>0</td>\n",
       "      <td>1</td>\n",
       "    </tr>\n",
       "    <tr>\n",
       "      <th>81651</th>\n",
       "      <td>0</td>\n",
       "      <td>0</td>\n",
       "      <td>0</td>\n",
       "      <td>0</td>\n",
       "      <td>1</td>\n",
       "      <td>0</td>\n",
       "      <td>0</td>\n",
       "      <td>0</td>\n",
       "      <td>11</td>\n",
       "      <td>14</td>\n",
       "      <td>-3</td>\n",
       "      <td>54309.0</td>\n",
       "      <td>28000.0</td>\n",
       "      <td>26309.0</td>\n",
       "      <td>1</td>\n",
       "      <td>0</td>\n",
       "    </tr>\n",
       "    <tr>\n",
       "      <th>50328</th>\n",
       "      <td>0</td>\n",
       "      <td>0</td>\n",
       "      <td>0</td>\n",
       "      <td>0</td>\n",
       "      <td>0</td>\n",
       "      <td>1</td>\n",
       "      <td>0</td>\n",
       "      <td>0</td>\n",
       "      <td>10</td>\n",
       "      <td>3</td>\n",
       "      <td>7</td>\n",
       "      <td>22750.0</td>\n",
       "      <td>33150.0</td>\n",
       "      <td>-10400.0</td>\n",
       "      <td>1</td>\n",
       "      <td>0</td>\n",
       "    </tr>\n",
       "    <tr>\n",
       "      <th>58477</th>\n",
       "      <td>0</td>\n",
       "      <td>0</td>\n",
       "      <td>0</td>\n",
       "      <td>1</td>\n",
       "      <td>0</td>\n",
       "      <td>0</td>\n",
       "      <td>0</td>\n",
       "      <td>0</td>\n",
       "      <td>5</td>\n",
       "      <td>4</td>\n",
       "      <td>1</td>\n",
       "      <td>23650.0</td>\n",
       "      <td>31885.0</td>\n",
       "      <td>-8235.0</td>\n",
       "      <td>0</td>\n",
       "      <td>1</td>\n",
       "    </tr>\n",
       "    <tr>\n",
       "      <th>60200</th>\n",
       "      <td>0</td>\n",
       "      <td>0</td>\n",
       "      <td>0</td>\n",
       "      <td>0</td>\n",
       "      <td>0</td>\n",
       "      <td>1</td>\n",
       "      <td>0</td>\n",
       "      <td>0</td>\n",
       "      <td>3</td>\n",
       "      <td>5</td>\n",
       "      <td>-2</td>\n",
       "      <td>24150.0</td>\n",
       "      <td>44333.0</td>\n",
       "      <td>-20183.0</td>\n",
       "      <td>0</td>\n",
       "      <td>1</td>\n",
       "    </tr>\n",
       "    <tr>\n",
       "      <th>84216</th>\n",
       "      <td>0</td>\n",
       "      <td>0</td>\n",
       "      <td>1</td>\n",
       "      <td>0</td>\n",
       "      <td>0</td>\n",
       "      <td>0</td>\n",
       "      <td>0</td>\n",
       "      <td>0</td>\n",
       "      <td>3</td>\n",
       "      <td>1</td>\n",
       "      <td>2</td>\n",
       "      <td>31505.0</td>\n",
       "      <td>28459.0</td>\n",
       "      <td>3046.0</td>\n",
       "      <td>1</td>\n",
       "      <td>0</td>\n",
       "    </tr>\n",
       "    <tr>\n",
       "      <th>5479</th>\n",
       "      <td>0</td>\n",
       "      <td>0</td>\n",
       "      <td>0</td>\n",
       "      <td>0</td>\n",
       "      <td>0</td>\n",
       "      <td>0</td>\n",
       "      <td>0</td>\n",
       "      <td>1</td>\n",
       "      <td>2</td>\n",
       "      <td>9</td>\n",
       "      <td>-7</td>\n",
       "      <td>23500.0</td>\n",
       "      <td>65589.5</td>\n",
       "      <td>-42089.5</td>\n",
       "      <td>0</td>\n",
       "      <td>1</td>\n",
       "    </tr>\n",
       "    <tr>\n",
       "      <th>40559</th>\n",
       "      <td>0</td>\n",
       "      <td>0</td>\n",
       "      <td>0</td>\n",
       "      <td>0</td>\n",
       "      <td>0</td>\n",
       "      <td>1</td>\n",
       "      <td>0</td>\n",
       "      <td>0</td>\n",
       "      <td>7</td>\n",
       "      <td>8</td>\n",
       "      <td>-1</td>\n",
       "      <td>4800.0</td>\n",
       "      <td>5000.0</td>\n",
       "      <td>-200.0</td>\n",
       "      <td>0</td>\n",
       "      <td>1</td>\n",
       "    </tr>\n",
       "    <tr>\n",
       "      <th>1850</th>\n",
       "      <td>0</td>\n",
       "      <td>1</td>\n",
       "      <td>0</td>\n",
       "      <td>0</td>\n",
       "      <td>0</td>\n",
       "      <td>0</td>\n",
       "      <td>0</td>\n",
       "      <td>0</td>\n",
       "      <td>13</td>\n",
       "      <td>5</td>\n",
       "      <td>8</td>\n",
       "      <td>18100.0</td>\n",
       "      <td>23611.0</td>\n",
       "      <td>-5511.0</td>\n",
       "      <td>0</td>\n",
       "      <td>1</td>\n",
       "    </tr>\n",
       "    <tr>\n",
       "      <th>29291</th>\n",
       "      <td>0</td>\n",
       "      <td>0</td>\n",
       "      <td>0</td>\n",
       "      <td>0</td>\n",
       "      <td>1</td>\n",
       "      <td>0</td>\n",
       "      <td>0</td>\n",
       "      <td>0</td>\n",
       "      <td>11</td>\n",
       "      <td>4</td>\n",
       "      <td>7</td>\n",
       "      <td>5000.0</td>\n",
       "      <td>5000.0</td>\n",
       "      <td>0.0</td>\n",
       "      <td>1</td>\n",
       "      <td>0</td>\n",
       "    </tr>\n",
       "    <tr>\n",
       "      <th>43319</th>\n",
       "      <td>0</td>\n",
       "      <td>0</td>\n",
       "      <td>0</td>\n",
       "      <td>0</td>\n",
       "      <td>0</td>\n",
       "      <td>0</td>\n",
       "      <td>1</td>\n",
       "      <td>0</td>\n",
       "      <td>6</td>\n",
       "      <td>5</td>\n",
       "      <td>1</td>\n",
       "      <td>21050.0</td>\n",
       "      <td>42698.0</td>\n",
       "      <td>-21648.0</td>\n",
       "      <td>0</td>\n",
       "      <td>1</td>\n",
       "    </tr>\n",
       "    <tr>\n",
       "      <th>71718</th>\n",
       "      <td>0</td>\n",
       "      <td>0</td>\n",
       "      <td>0</td>\n",
       "      <td>0</td>\n",
       "      <td>1</td>\n",
       "      <td>0</td>\n",
       "      <td>0</td>\n",
       "      <td>0</td>\n",
       "      <td>6</td>\n",
       "      <td>9</td>\n",
       "      <td>-3</td>\n",
       "      <td>5000.0</td>\n",
       "      <td>4800.0</td>\n",
       "      <td>200.0</td>\n",
       "      <td>1</td>\n",
       "      <td>0</td>\n",
       "    </tr>\n",
       "  </tbody>\n",
       "</table>\n",
       "</div>"
      ],
      "text/plain": [
       "       de_cache  de_dust2  de_inferno  de_mirage  de_nuke  de_overpass  \\\n",
       "973           0         1           0          0        0            0   \n",
       "25892         0         0           0          0        0            0   \n",
       "55364         0         0           0          0        0            1   \n",
       "50642         0         1           0          0        0            0   \n",
       "52681         0         0           0          0        1            0   \n",
       "30526         0         0           0          1        0            0   \n",
       "56669         0         0           0          0        0            1   \n",
       "55677         0         0           0          0        0            1   \n",
       "39921         0         1           0          0        0            0   \n",
       "81651         0         0           0          0        1            0   \n",
       "50328         0         0           0          0        0            1   \n",
       "58477         0         0           0          1        0            0   \n",
       "60200         0         0           0          0        0            1   \n",
       "84216         0         0           1          0        0            0   \n",
       "5479          0         0           0          0        0            0   \n",
       "40559         0         0           0          0        0            1   \n",
       "1850          0         1           0          0        0            0   \n",
       "29291         0         0           0          0        1            0   \n",
       "43319         0         0           0          0        0            0   \n",
       "71718         0         0           0          0        1            0   \n",
       "\n",
       "       de_train  de_vertigo  ct_score  t_score  score_diff   new_ct    new_t  \\\n",
       "973           0           0        13       13           0  19800.0  40654.5   \n",
       "25892         1           0        18       17           1  52598.0  22750.0   \n",
       "55364         0           0         1        0           1  20500.0  11750.0   \n",
       "50642         0           0         2        4          -2  33350.0  49070.5   \n",
       "52681         0           0         7        8          -1   5000.0   5000.0   \n",
       "30526         0           0         8        3           5  44600.0  34802.5   \n",
       "56669         0           0         2        3          -1  22600.0  46800.0   \n",
       "55677         0           0        24       25          -1  60600.0  91205.0   \n",
       "39921         0           0         4       10          -6  16650.0  52842.0   \n",
       "81651         0           0        11       14          -3  54309.0  28000.0   \n",
       "50328         0           0        10        3           7  22750.0  33150.0   \n",
       "58477         0           0         5        4           1  23650.0  31885.0   \n",
       "60200         0           0         3        5          -2  24150.0  44333.0   \n",
       "84216         0           0         3        1           2  31505.0  28459.0   \n",
       "5479          0           1         2        9          -7  23500.0  65589.5   \n",
       "40559         0           0         7        8          -1   4800.0   5000.0   \n",
       "1850          0           0        13        5           8  18100.0  23611.0   \n",
       "29291         0           0        11        4           7   5000.0   5000.0   \n",
       "43319         1           0         6        5           1  21050.0  42698.0   \n",
       "71718         0           0         6        9          -3   5000.0   4800.0   \n",
       "\n",
       "       new_diff  truth  misclass_pred  \n",
       "973    -20854.5      0              1  \n",
       "25892   29848.0      1              0  \n",
       "55364    8750.0      0              1  \n",
       "50642  -15720.5      0              1  \n",
       "52681       0.0      0              1  \n",
       "30526    9797.5      1              0  \n",
       "56669  -24200.0      0              1  \n",
       "55677  -30605.0      1              0  \n",
       "39921  -36192.0      0              1  \n",
       "81651   26309.0      1              0  \n",
       "50328  -10400.0      1              0  \n",
       "58477   -8235.0      0              1  \n",
       "60200  -20183.0      0              1  \n",
       "84216    3046.0      1              0  \n",
       "5479   -42089.5      0              1  \n",
       "40559    -200.0      0              1  \n",
       "1850    -5511.0      0              1  \n",
       "29291       0.0      1              0  \n",
       "43319  -21648.0      0              1  \n",
       "71718     200.0      1              0  "
      ]
     },
     "execution_count": 113,
     "metadata": {},
     "output_type": "execute_result"
    }
   ],
   "source": [
    "misclass_df.head(20)"
   ]
  },
  {
   "cell_type": "code",
   "execution_count": 114,
   "metadata": {
    "ExecuteTime": {
     "end_time": "2020-06-12T15:45:05.960370Z",
     "start_time": "2020-06-12T15:45:05.945048Z"
    }
   },
   "outputs": [
    {
     "data": {
      "text/plain": [
       "(1369, 16)"
      ]
     },
     "execution_count": 114,
     "metadata": {},
     "output_type": "execute_result"
    }
   ],
   "source": [
    "misclass_df.shape"
   ]
  },
  {
   "cell_type": "code",
   "execution_count": 115,
   "metadata": {
    "ExecuteTime": {
     "end_time": "2020-06-12T15:45:06.008966Z",
     "start_time": "2020-06-12T15:45:05.961293Z"
    }
   },
   "outputs": [
    {
     "data": {
      "text/html": [
       "<div>\n",
       "<style scoped>\n",
       "    .dataframe tbody tr th:only-of-type {\n",
       "        vertical-align: middle;\n",
       "    }\n",
       "\n",
       "    .dataframe tbody tr th {\n",
       "        vertical-align: top;\n",
       "    }\n",
       "\n",
       "    .dataframe thead th {\n",
       "        text-align: right;\n",
       "    }\n",
       "</style>\n",
       "<table border=\"1\" class=\"dataframe\">\n",
       "  <thead>\n",
       "    <tr style=\"text-align: right;\">\n",
       "      <th></th>\n",
       "      <th>de_cache</th>\n",
       "      <th>de_dust2</th>\n",
       "      <th>de_inferno</th>\n",
       "      <th>de_mirage</th>\n",
       "      <th>de_nuke</th>\n",
       "      <th>de_overpass</th>\n",
       "      <th>de_train</th>\n",
       "      <th>de_vertigo</th>\n",
       "      <th>ct_score</th>\n",
       "      <th>t_score</th>\n",
       "      <th>score_diff</th>\n",
       "      <th>new_ct</th>\n",
       "      <th>new_t</th>\n",
       "      <th>new_diff</th>\n",
       "      <th>truth</th>\n",
       "      <th>misclass_pred</th>\n",
       "    </tr>\n",
       "  </thead>\n",
       "  <tbody>\n",
       "    <tr>\n",
       "      <th>count</th>\n",
       "      <td>1369.000000</td>\n",
       "      <td>1369.000000</td>\n",
       "      <td>1369.000000</td>\n",
       "      <td>1369.000000</td>\n",
       "      <td>1369.000000</td>\n",
       "      <td>1369.000000</td>\n",
       "      <td>1369.000000</td>\n",
       "      <td>1369.000000</td>\n",
       "      <td>1369.000000</td>\n",
       "      <td>1369.000000</td>\n",
       "      <td>1369.000000</td>\n",
       "      <td>1369.000000</td>\n",
       "      <td>1369.000000</td>\n",
       "      <td>1369.000000</td>\n",
       "      <td>1369.000000</td>\n",
       "      <td>1369.000000</td>\n",
       "    </tr>\n",
       "    <tr>\n",
       "      <th>mean</th>\n",
       "      <td>0.003652</td>\n",
       "      <td>0.170928</td>\n",
       "      <td>0.221329</td>\n",
       "      <td>0.155588</td>\n",
       "      <td>0.142440</td>\n",
       "      <td>0.130022</td>\n",
       "      <td>0.092038</td>\n",
       "      <td>0.084003</td>\n",
       "      <td>7.010226</td>\n",
       "      <td>7.224982</td>\n",
       "      <td>-0.214755</td>\n",
       "      <td>29380.077794</td>\n",
       "      <td>29033.889335</td>\n",
       "      <td>346.188459</td>\n",
       "      <td>0.480643</td>\n",
       "      <td>0.519357</td>\n",
       "    </tr>\n",
       "    <tr>\n",
       "      <th>std</th>\n",
       "      <td>0.060346</td>\n",
       "      <td>0.376583</td>\n",
       "      <td>0.415294</td>\n",
       "      <td>0.362597</td>\n",
       "      <td>0.349628</td>\n",
       "      <td>0.336450</td>\n",
       "      <td>0.289185</td>\n",
       "      <td>0.277494</td>\n",
       "      <td>4.912529</td>\n",
       "      <td>4.902463</td>\n",
       "      <td>4.142991</td>\n",
       "      <td>18727.832106</td>\n",
       "      <td>18825.600529</td>\n",
       "      <td>18845.719900</td>\n",
       "      <td>0.499808</td>\n",
       "      <td>0.499808</td>\n",
       "    </tr>\n",
       "    <tr>\n",
       "      <th>min</th>\n",
       "      <td>0.000000</td>\n",
       "      <td>0.000000</td>\n",
       "      <td>0.000000</td>\n",
       "      <td>0.000000</td>\n",
       "      <td>0.000000</td>\n",
       "      <td>0.000000</td>\n",
       "      <td>0.000000</td>\n",
       "      <td>0.000000</td>\n",
       "      <td>0.000000</td>\n",
       "      <td>0.000000</td>\n",
       "      <td>-14.000000</td>\n",
       "      <td>4600.000000</td>\n",
       "      <td>4600.000000</td>\n",
       "      <td>-70305.500000</td>\n",
       "      <td>0.000000</td>\n",
       "      <td>0.000000</td>\n",
       "    </tr>\n",
       "    <tr>\n",
       "      <th>25%</th>\n",
       "      <td>0.000000</td>\n",
       "      <td>0.000000</td>\n",
       "      <td>0.000000</td>\n",
       "      <td>0.000000</td>\n",
       "      <td>0.000000</td>\n",
       "      <td>0.000000</td>\n",
       "      <td>0.000000</td>\n",
       "      <td>0.000000</td>\n",
       "      <td>3.000000</td>\n",
       "      <td>3.000000</td>\n",
       "      <td>-3.000000</td>\n",
       "      <td>14200.000000</td>\n",
       "      <td>16300.000000</td>\n",
       "      <td>-10673.000000</td>\n",
       "      <td>0.000000</td>\n",
       "      <td>0.000000</td>\n",
       "    </tr>\n",
       "    <tr>\n",
       "      <th>50%</th>\n",
       "      <td>0.000000</td>\n",
       "      <td>0.000000</td>\n",
       "      <td>0.000000</td>\n",
       "      <td>0.000000</td>\n",
       "      <td>0.000000</td>\n",
       "      <td>0.000000</td>\n",
       "      <td>0.000000</td>\n",
       "      <td>0.000000</td>\n",
       "      <td>7.000000</td>\n",
       "      <td>7.000000</td>\n",
       "      <td>0.000000</td>\n",
       "      <td>28750.000000</td>\n",
       "      <td>26600.000000</td>\n",
       "      <td>0.000000</td>\n",
       "      <td>0.000000</td>\n",
       "      <td>1.000000</td>\n",
       "    </tr>\n",
       "    <tr>\n",
       "      <th>75%</th>\n",
       "      <td>0.000000</td>\n",
       "      <td>0.000000</td>\n",
       "      <td>0.000000</td>\n",
       "      <td>0.000000</td>\n",
       "      <td>0.000000</td>\n",
       "      <td>0.000000</td>\n",
       "      <td>0.000000</td>\n",
       "      <td>0.000000</td>\n",
       "      <td>10.000000</td>\n",
       "      <td>10.000000</td>\n",
       "      <td>2.000000</td>\n",
       "      <td>39765.500000</td>\n",
       "      <td>40251.500000</td>\n",
       "      <td>10985.000000</td>\n",
       "      <td>1.000000</td>\n",
       "      <td>1.000000</td>\n",
       "    </tr>\n",
       "    <tr>\n",
       "      <th>max</th>\n",
       "      <td>1.000000</td>\n",
       "      <td>1.000000</td>\n",
       "      <td>1.000000</td>\n",
       "      <td>1.000000</td>\n",
       "      <td>1.000000</td>\n",
       "      <td>1.000000</td>\n",
       "      <td>1.000000</td>\n",
       "      <td>1.000000</td>\n",
       "      <td>32.000000</td>\n",
       "      <td>32.000000</td>\n",
       "      <td>13.000000</td>\n",
       "      <td>95750.000000</td>\n",
       "      <td>96633.500000</td>\n",
       "      <td>71276.500000</td>\n",
       "      <td>1.000000</td>\n",
       "      <td>1.000000</td>\n",
       "    </tr>\n",
       "  </tbody>\n",
       "</table>\n",
       "</div>"
      ],
      "text/plain": [
       "          de_cache     de_dust2   de_inferno    de_mirage      de_nuke  \\\n",
       "count  1369.000000  1369.000000  1369.000000  1369.000000  1369.000000   \n",
       "mean      0.003652     0.170928     0.221329     0.155588     0.142440   \n",
       "std       0.060346     0.376583     0.415294     0.362597     0.349628   \n",
       "min       0.000000     0.000000     0.000000     0.000000     0.000000   \n",
       "25%       0.000000     0.000000     0.000000     0.000000     0.000000   \n",
       "50%       0.000000     0.000000     0.000000     0.000000     0.000000   \n",
       "75%       0.000000     0.000000     0.000000     0.000000     0.000000   \n",
       "max       1.000000     1.000000     1.000000     1.000000     1.000000   \n",
       "\n",
       "       de_overpass     de_train   de_vertigo     ct_score      t_score  \\\n",
       "count  1369.000000  1369.000000  1369.000000  1369.000000  1369.000000   \n",
       "mean      0.130022     0.092038     0.084003     7.010226     7.224982   \n",
       "std       0.336450     0.289185     0.277494     4.912529     4.902463   \n",
       "min       0.000000     0.000000     0.000000     0.000000     0.000000   \n",
       "25%       0.000000     0.000000     0.000000     3.000000     3.000000   \n",
       "50%       0.000000     0.000000     0.000000     7.000000     7.000000   \n",
       "75%       0.000000     0.000000     0.000000    10.000000    10.000000   \n",
       "max       1.000000     1.000000     1.000000    32.000000    32.000000   \n",
       "\n",
       "        score_diff        new_ct         new_t      new_diff        truth  \\\n",
       "count  1369.000000   1369.000000   1369.000000   1369.000000  1369.000000   \n",
       "mean     -0.214755  29380.077794  29033.889335    346.188459     0.480643   \n",
       "std       4.142991  18727.832106  18825.600529  18845.719900     0.499808   \n",
       "min     -14.000000   4600.000000   4600.000000 -70305.500000     0.000000   \n",
       "25%      -3.000000  14200.000000  16300.000000 -10673.000000     0.000000   \n",
       "50%       0.000000  28750.000000  26600.000000      0.000000     0.000000   \n",
       "75%       2.000000  39765.500000  40251.500000  10985.000000     1.000000   \n",
       "max      13.000000  95750.000000  96633.500000  71276.500000     1.000000   \n",
       "\n",
       "       misclass_pred  \n",
       "count    1369.000000  \n",
       "mean        0.519357  \n",
       "std         0.499808  \n",
       "min         0.000000  \n",
       "25%         0.000000  \n",
       "50%         1.000000  \n",
       "75%         1.000000  \n",
       "max         1.000000  "
      ]
     },
     "execution_count": 115,
     "metadata": {},
     "output_type": "execute_result"
    }
   ],
   "source": [
    "misclass_df.describe()"
   ]
  },
  {
   "cell_type": "code",
   "execution_count": 116,
   "metadata": {
    "ExecuteTime": {
     "end_time": "2020-06-12T15:45:06.054065Z",
     "start_time": "2020-06-12T15:45:06.009966Z"
    }
   },
   "outputs": [
    {
     "data": {
      "text/html": [
       "<div>\n",
       "<style scoped>\n",
       "    .dataframe tbody tr th:only-of-type {\n",
       "        vertical-align: middle;\n",
       "    }\n",
       "\n",
       "    .dataframe tbody tr th {\n",
       "        vertical-align: top;\n",
       "    }\n",
       "\n",
       "    .dataframe thead th {\n",
       "        text-align: right;\n",
       "    }\n",
       "</style>\n",
       "<table border=\"1\" class=\"dataframe\">\n",
       "  <thead>\n",
       "    <tr style=\"text-align: right;\">\n",
       "      <th></th>\n",
       "      <th>target</th>\n",
       "      <th>ct_utility</th>\n",
       "      <th>t_utility</th>\n",
       "      <th>util_diff</th>\n",
       "      <th>de_cache</th>\n",
       "      <th>de_dust2</th>\n",
       "      <th>de_inferno</th>\n",
       "      <th>de_mirage</th>\n",
       "      <th>de_nuke</th>\n",
       "      <th>de_overpass</th>\n",
       "      <th>de_train</th>\n",
       "      <th>de_vertigo</th>\n",
       "      <th>ct_score</th>\n",
       "      <th>t_score</th>\n",
       "      <th>score_diff</th>\n",
       "      <th>new_ct</th>\n",
       "      <th>new_t</th>\n",
       "      <th>new_diff</th>\n",
       "    </tr>\n",
       "  </thead>\n",
       "  <tbody>\n",
       "    <tr>\n",
       "      <th>count</th>\n",
       "      <td>23063.000000</td>\n",
       "      <td>23063.000000</td>\n",
       "      <td>23063.000000</td>\n",
       "      <td>23063.000000</td>\n",
       "      <td>23063.000000</td>\n",
       "      <td>23063.000000</td>\n",
       "      <td>23063.000000</td>\n",
       "      <td>23063.000000</td>\n",
       "      <td>23063.000000</td>\n",
       "      <td>23063.000000</td>\n",
       "      <td>23063.000000</td>\n",
       "      <td>23063.000000</td>\n",
       "      <td>23063.000000</td>\n",
       "      <td>23063.000000</td>\n",
       "      <td>23063.000000</td>\n",
       "      <td>23063.000000</td>\n",
       "      <td>23063.000000</td>\n",
       "      <td>23063.000000</td>\n",
       "    </tr>\n",
       "    <tr>\n",
       "      <th>mean</th>\n",
       "      <td>0.513593</td>\n",
       "      <td>4.049603</td>\n",
       "      <td>3.438625</td>\n",
       "      <td>0.610979</td>\n",
       "      <td>0.001214</td>\n",
       "      <td>0.180983</td>\n",
       "      <td>0.194207</td>\n",
       "      <td>0.151455</td>\n",
       "      <td>0.143130</td>\n",
       "      <td>0.135065</td>\n",
       "      <td>0.101288</td>\n",
       "      <td>0.092659</td>\n",
       "      <td>7.082426</td>\n",
       "      <td>7.182630</td>\n",
       "      <td>-0.100204</td>\n",
       "      <td>28288.341239</td>\n",
       "      <td>27552.504314</td>\n",
       "      <td>735.836925</td>\n",
       "    </tr>\n",
       "    <tr>\n",
       "      <th>std</th>\n",
       "      <td>0.499826</td>\n",
       "      <td>5.626369</td>\n",
       "      <td>5.041536</td>\n",
       "      <td>6.148150</td>\n",
       "      <td>0.034823</td>\n",
       "      <td>0.385012</td>\n",
       "      <td>0.395598</td>\n",
       "      <td>0.358499</td>\n",
       "      <td>0.350213</td>\n",
       "      <td>0.341800</td>\n",
       "      <td>0.301716</td>\n",
       "      <td>0.289961</td>\n",
       "      <td>4.675862</td>\n",
       "      <td>4.638725</td>\n",
       "      <td>4.302939</td>\n",
       "      <td>18363.832805</td>\n",
       "      <td>18106.186846</td>\n",
       "      <td>20435.821871</td>\n",
       "    </tr>\n",
       "    <tr>\n",
       "      <th>min</th>\n",
       "      <td>0.000000</td>\n",
       "      <td>0.000000</td>\n",
       "      <td>0.000000</td>\n",
       "      <td>-20.000000</td>\n",
       "      <td>0.000000</td>\n",
       "      <td>0.000000</td>\n",
       "      <td>0.000000</td>\n",
       "      <td>0.000000</td>\n",
       "      <td>0.000000</td>\n",
       "      <td>0.000000</td>\n",
       "      <td>0.000000</td>\n",
       "      <td>0.000000</td>\n",
       "      <td>0.000000</td>\n",
       "      <td>0.000000</td>\n",
       "      <td>-15.000000</td>\n",
       "      <td>0.000000</td>\n",
       "      <td>0.000000</td>\n",
       "      <td>-71775.000000</td>\n",
       "    </tr>\n",
       "    <tr>\n",
       "      <th>25%</th>\n",
       "      <td>0.000000</td>\n",
       "      <td>0.000000</td>\n",
       "      <td>0.000000</td>\n",
       "      <td>-2.000000</td>\n",
       "      <td>0.000000</td>\n",
       "      <td>0.000000</td>\n",
       "      <td>0.000000</td>\n",
       "      <td>0.000000</td>\n",
       "      <td>0.000000</td>\n",
       "      <td>0.000000</td>\n",
       "      <td>0.000000</td>\n",
       "      <td>0.000000</td>\n",
       "      <td>3.000000</td>\n",
       "      <td>4.000000</td>\n",
       "      <td>-3.000000</td>\n",
       "      <td>12800.000000</td>\n",
       "      <td>14100.000000</td>\n",
       "      <td>-11834.250000</td>\n",
       "    </tr>\n",
       "    <tr>\n",
       "      <th>50%</th>\n",
       "      <td>1.000000</td>\n",
       "      <td>1.000000</td>\n",
       "      <td>1.000000</td>\n",
       "      <td>0.000000</td>\n",
       "      <td>0.000000</td>\n",
       "      <td>0.000000</td>\n",
       "      <td>0.000000</td>\n",
       "      <td>0.000000</td>\n",
       "      <td>0.000000</td>\n",
       "      <td>0.000000</td>\n",
       "      <td>0.000000</td>\n",
       "      <td>0.000000</td>\n",
       "      <td>7.000000</td>\n",
       "      <td>7.000000</td>\n",
       "      <td>0.000000</td>\n",
       "      <td>27550.000000</td>\n",
       "      <td>25200.000000</td>\n",
       "      <td>0.000000</td>\n",
       "    </tr>\n",
       "    <tr>\n",
       "      <th>75%</th>\n",
       "      <td>1.000000</td>\n",
       "      <td>5.000000</td>\n",
       "      <td>4.000000</td>\n",
       "      <td>3.000000</td>\n",
       "      <td>0.000000</td>\n",
       "      <td>0.000000</td>\n",
       "      <td>0.000000</td>\n",
       "      <td>0.000000</td>\n",
       "      <td>0.000000</td>\n",
       "      <td>0.000000</td>\n",
       "      <td>0.000000</td>\n",
       "      <td>0.000000</td>\n",
       "      <td>11.000000</td>\n",
       "      <td>11.000000</td>\n",
       "      <td>3.000000</td>\n",
       "      <td>38912.250000</td>\n",
       "      <td>38266.500000</td>\n",
       "      <td>13670.250000</td>\n",
       "    </tr>\n",
       "    <tr>\n",
       "      <th>max</th>\n",
       "      <td>1.000000</td>\n",
       "      <td>20.000000</td>\n",
       "      <td>21.000000</td>\n",
       "      <td>20.000000</td>\n",
       "      <td>1.000000</td>\n",
       "      <td>1.000000</td>\n",
       "      <td>1.000000</td>\n",
       "      <td>1.000000</td>\n",
       "      <td>1.000000</td>\n",
       "      <td>1.000000</td>\n",
       "      <td>1.000000</td>\n",
       "      <td>1.000000</td>\n",
       "      <td>32.000000</td>\n",
       "      <td>33.000000</td>\n",
       "      <td>14.000000</td>\n",
       "      <td>102974.500000</td>\n",
       "      <td>101300.000000</td>\n",
       "      <td>79424.500000</td>\n",
       "    </tr>\n",
       "  </tbody>\n",
       "</table>\n",
       "</div>"
      ],
      "text/plain": [
       "             target    ct_utility     t_utility     util_diff      de_cache  \\\n",
       "count  23063.000000  23063.000000  23063.000000  23063.000000  23063.000000   \n",
       "mean       0.513593      4.049603      3.438625      0.610979      0.001214   \n",
       "std        0.499826      5.626369      5.041536      6.148150      0.034823   \n",
       "min        0.000000      0.000000      0.000000    -20.000000      0.000000   \n",
       "25%        0.000000      0.000000      0.000000     -2.000000      0.000000   \n",
       "50%        1.000000      1.000000      1.000000      0.000000      0.000000   \n",
       "75%        1.000000      5.000000      4.000000      3.000000      0.000000   \n",
       "max        1.000000     20.000000     21.000000     20.000000      1.000000   \n",
       "\n",
       "           de_dust2    de_inferno     de_mirage       de_nuke   de_overpass  \\\n",
       "count  23063.000000  23063.000000  23063.000000  23063.000000  23063.000000   \n",
       "mean       0.180983      0.194207      0.151455      0.143130      0.135065   \n",
       "std        0.385012      0.395598      0.358499      0.350213      0.341800   \n",
       "min        0.000000      0.000000      0.000000      0.000000      0.000000   \n",
       "25%        0.000000      0.000000      0.000000      0.000000      0.000000   \n",
       "50%        0.000000      0.000000      0.000000      0.000000      0.000000   \n",
       "75%        0.000000      0.000000      0.000000      0.000000      0.000000   \n",
       "max        1.000000      1.000000      1.000000      1.000000      1.000000   \n",
       "\n",
       "           de_train    de_vertigo      ct_score       t_score    score_diff  \\\n",
       "count  23063.000000  23063.000000  23063.000000  23063.000000  23063.000000   \n",
       "mean       0.101288      0.092659      7.082426      7.182630     -0.100204   \n",
       "std        0.301716      0.289961      4.675862      4.638725      4.302939   \n",
       "min        0.000000      0.000000      0.000000      0.000000    -15.000000   \n",
       "25%        0.000000      0.000000      3.000000      4.000000     -3.000000   \n",
       "50%        0.000000      0.000000      7.000000      7.000000      0.000000   \n",
       "75%        0.000000      0.000000     11.000000     11.000000      3.000000   \n",
       "max        1.000000      1.000000     32.000000     33.000000     14.000000   \n",
       "\n",
       "              new_ct          new_t      new_diff  \n",
       "count   23063.000000   23063.000000  23063.000000  \n",
       "mean    28288.341239   27552.504314    735.836925  \n",
       "std     18363.832805   18106.186846  20435.821871  \n",
       "min         0.000000       0.000000 -71775.000000  \n",
       "25%     12800.000000   14100.000000 -11834.250000  \n",
       "50%     27550.000000   25200.000000      0.000000  \n",
       "75%     38912.250000   38266.500000  13670.250000  \n",
       "max    102974.500000  101300.000000  79424.500000  "
      ]
     },
     "execution_count": 116,
     "metadata": {},
     "output_type": "execute_result"
    }
   ],
   "source": [
    "df.describe()"
   ]
  },
  {
   "cell_type": "code",
   "execution_count": 117,
   "metadata": {
    "ExecuteTime": {
     "end_time": "2020-06-12T15:45:06.057786Z",
     "start_time": "2020-06-12T15:45:06.055615Z"
    }
   },
   "outputs": [],
   "source": [
    "# round status time left ->separate?\n",
    "\n",
    "# questions - interaction terms, difference ok because I am always doing ct - t?\n",
    "\n",
    "# money X health?\n",
    "\n",
    "#grid search on xgboost and rfc or all models? \n",
    "\n",
    "# remove not important features? if not important or if it improves accuracy\n",
    "# drop first\n",
    "\n",
    "# poly transforms?\n",
    "\n",
    "# nn\n",
    "\n",
    "# positional \n"
   ]
  }
 ],
 "metadata": {
  "kernelspec": {
   "display_name": "Python 3",
   "language": "python",
   "name": "python3"
  },
  "language_info": {
   "codemirror_mode": {
    "name": "ipython",
    "version": 3
   },
   "file_extension": ".py",
   "mimetype": "text/x-python",
   "name": "python",
   "nbconvert_exporter": "python",
   "pygments_lexer": "ipython3",
   "version": "3.7.6"
  },
  "toc": {
   "base_numbering": 1,
   "nav_menu": {},
   "number_sections": true,
   "sideBar": true,
   "skip_h1_title": false,
   "title_cell": "Table of Contents",
   "title_sidebar": "Contents",
   "toc_cell": false,
   "toc_position": {},
   "toc_section_display": true,
   "toc_window_display": false
  },
  "varInspector": {
   "cols": {
    "lenName": 16,
    "lenType": 16,
    "lenVar": 40
   },
   "kernels_config": {
    "python": {
     "delete_cmd_postfix": "",
     "delete_cmd_prefix": "del ",
     "library": "var_list.py",
     "varRefreshCmd": "print(var_dic_list())"
    },
    "r": {
     "delete_cmd_postfix": ") ",
     "delete_cmd_prefix": "rm(",
     "library": "var_list.r",
     "varRefreshCmd": "cat(var_dic_list()) "
    }
   },
   "types_to_exclude": [
    "module",
    "function",
    "builtin_function_or_method",
    "instance",
    "_Feature"
   ],
   "window_display": false
  }
 },
 "nbformat": 4,
 "nbformat_minor": 4
}
