{
 "cells": [
  {
   "cell_type": "code",
   "execution_count": null,
   "metadata": {},
   "outputs": [],
   "source": [
    "# NOTE : Cleaning up first thing after bootcamp and moving functions to .py files"
   ]
  },
  {
   "cell_type": "code",
   "execution_count": 5,
   "metadata": {
    "ExecuteTime": {
     "end_time": "2020-06-12T15:08:03.197180Z",
     "start_time": "2020-06-12T15:08:03.181529Z"
    }
   },
   "outputs": [],
   "source": [
    "#Constants\n",
    "\n",
    "equipment = ['SmokeGrenade','HeGrenade','Flashbang','IncendiaryGrenade','MolotovGrenade','DecoyGrenade']\n",
    "\n",
    "\n",
    "COSTS = {'Ak47':2700,\n",
    "         'M4a4': 3100,\n",
    "         'M4a1S':2900,\n",
    "         'Famas':2050,\n",
    "         'GalilAr':1800,\n",
    "         'Sg553':3000,\n",
    "         'Aug':3300,        \n",
    "         \n",
    "         'Ssg08':1700,\n",
    "         'Scar20':5000,\n",
    "         'Awp':4750,\n",
    "         'G3sg1':5000,\n",
    "         \n",
    "         'Glock':200,\n",
    "         'Deagle':700,\n",
    "         'P250':300,\n",
    "         'P2000':200,\n",
    "         'Cz75Auto':500,\n",
    "         'UspS':200,\n",
    "         'Elite':400,\n",
    "         'FiveSeven':500,\n",
    "         'Tec9':500,\n",
    "         'R8Revolver':600,\n",
    "         \n",
    "         'Mac10':1050,\n",
    "         'Ump45':1200,\n",
    "         'Mp9':1250,\n",
    "         'Mp5sd':1500,\n",
    "         'Mp7':1500,\n",
    "         'P90':2350,\n",
    "         'Bizon':1400,\n",
    "         \n",
    "         'Mag7':1300,\n",
    "         'Nova':1050,\n",
    "         'Xm1014':2000,\n",
    "         'Sawedoff':1100,\n",
    "         \n",
    "         'Negev':1700,\n",
    "         'M249':5200,\n",
    "         \n",
    "         'ZeusX27':200,\n",
    "         'Flashbang':200,\n",
    "         'SmokeGrenade':300,\n",
    "         'HeGrenade':300,\n",
    "         'IncendiaryGrenade':600,\n",
    "         'MolotovGrenade':400,\n",
    "         'DecoyGrenade':50,\n",
    "         'C4':0,\n",
    "         \n",
    "         'Helmet':350,\n",
    "         'Kevlar':650,\n",
    "         'DefuseKit':400 \n",
    "        }"
   ]
  },
  {
   "cell_type": "code",
   "execution_count": 6,
   "metadata": {
    "ExecuteTime": {
     "end_time": "2020-06-12T15:08:04.898567Z",
     "start_time": "2020-06-12T15:08:03.198515Z"
    }
   },
   "outputs": [
    {
     "name": "stderr",
     "output_type": "stream",
     "text": [
      "Using TensorFlow backend.\n"
     ]
    }
   ],
   "source": [
    "import pandas as pd\n",
    "import seaborn as sns\n",
    "import numpy as np\n",
    "import matplotlib.pyplot as plt\n",
    "import pprint\n",
    "\n",
    "from sklearn.linear_model import LogisticRegression\n",
    "from sklearn.metrics import precision_score, recall_score, accuracy_score, roc_auc_score, precision_recall_curve,f1_score, fbeta_score, confusion_matrix, roc_curve, log_loss, make_scorer\n",
    "from sklearn.preprocessing import StandardScaler,PolynomialFeatures\n",
    "from sklearn.model_selection import train_test_split, RandomizedSearchCV, cross_val_score, StratifiedKFold\n",
    "from sklearn.svm import SVC\n",
    "from sklearn.naive_bayes import GaussianNB\n",
    "from sklearn.ensemble import RandomForestClassifier, GradientBoostingClassifier\n",
    "from sklearn.neighbors import KNeighborsClassifier\n",
    "from sklearn.dummy import DummyClassifier\n",
    "\n",
    "from keras.models import Sequential\n",
    "from keras.layers import Dense\n",
    "from keras.wrappers.scikit_learn import KerasClassifier\n",
    "\n",
    "from collections import defaultdict\n",
    "import xgboost as xgb\n",
    "\n",
    "from IPython.display import Image"
   ]
  },
  {
   "cell_type": "markdown",
   "metadata": {},
   "source": [
    "## Data / EDA / FE"
   ]
  },
  {
   "cell_type": "code",
   "execution_count": 7,
   "metadata": {
    "ExecuteTime": {
     "end_time": "2020-06-12T15:08:04.902550Z",
     "start_time": "2020-06-12T15:08:04.900120Z"
    }
   },
   "outputs": [],
   "source": [
    "# move to .py\n",
    "\n",
    "def read_dataset(path, start_idx, end_idx):\n",
    "    frames = [ pd.read_json(f) for f in [path.format(i) for i in range(start_idx, end_idx+1)] ]\n",
    "    return pd.concat(frames, ignore_index = True)"
   ]
  },
  {
   "cell_type": "code",
   "execution_count": 8,
   "metadata": {
    "ExecuteTime": {
     "end_time": "2020-06-12T15:08:12.647397Z",
     "start_time": "2020-06-12T15:08:04.904106Z"
    }
   },
   "outputs": [],
   "source": [
    "file_path = '/home/ethan/Documents/dataset_initial/dataset_{:02}.json'\n",
    "\n",
    "df = read_dataset(file_path, 0, 17)"
   ]
  },
  {
   "cell_type": "code",
   "execution_count": 9,
   "metadata": {
    "ExecuteTime": {
     "end_time": "2020-06-12T15:08:12.690672Z",
     "start_time": "2020-06-12T15:08:12.648417Z"
    }
   },
   "outputs": [
    {
     "data": {
      "text/html": [
       "<div>\n",
       "<style scoped>\n",
       "    .dataframe tbody tr th:only-of-type {\n",
       "        vertical-align: middle;\n",
       "    }\n",
       "\n",
       "    .dataframe tbody tr th {\n",
       "        vertical-align: top;\n",
       "    }\n",
       "\n",
       "    .dataframe thead th {\n",
       "        text-align: right;\n",
       "    }\n",
       "</style>\n",
       "<table border=\"1\" class=\"dataframe\">\n",
       "  <thead>\n",
       "    <tr style=\"text-align: right;\">\n",
       "      <th></th>\n",
       "      <th>map</th>\n",
       "      <th>current_score</th>\n",
       "      <th>round_status</th>\n",
       "      <th>round_status_time_left</th>\n",
       "      <th>alive_players</th>\n",
       "      <th>active_smokes</th>\n",
       "      <th>active_molotovs</th>\n",
       "      <th>previous_kills</th>\n",
       "      <th>round_winner</th>\n",
       "      <th>planted_bomb</th>\n",
       "    </tr>\n",
       "  </thead>\n",
       "  <tbody>\n",
       "    <tr>\n",
       "      <th>0</th>\n",
       "      <td>de_dust2</td>\n",
       "      <td>[0, 0]</td>\n",
       "      <td>FreezeTime</td>\n",
       "      <td>20.00000</td>\n",
       "      <td>[{'health': 100, 'armor': 0, 'has_helmet': Fal...</td>\n",
       "      <td>[]</td>\n",
       "      <td>[]</td>\n",
       "      <td>[]</td>\n",
       "      <td>CT</td>\n",
       "      <td>None</td>\n",
       "    </tr>\n",
       "    <tr>\n",
       "      <th>1</th>\n",
       "      <td>de_dust2</td>\n",
       "      <td>[0, 0]</td>\n",
       "      <td>FreezeTime</td>\n",
       "      <td>1.03125</td>\n",
       "      <td>[{'health': 100, 'armor': 100, 'has_helmet': F...</td>\n",
       "      <td>[]</td>\n",
       "      <td>[]</td>\n",
       "      <td>[]</td>\n",
       "      <td>CT</td>\n",
       "      <td>None</td>\n",
       "    </tr>\n",
       "    <tr>\n",
       "      <th>2</th>\n",
       "      <td>de_dust2</td>\n",
       "      <td>[0, 0]</td>\n",
       "      <td>Normal</td>\n",
       "      <td>96.03125</td>\n",
       "      <td>[{'health': 100, 'armor': 100, 'has_helmet': F...</td>\n",
       "      <td>[]</td>\n",
       "      <td>[]</td>\n",
       "      <td>[{'weapon': 'Glock', 'attacker_position': {'x'...</td>\n",
       "      <td>CT</td>\n",
       "      <td>None</td>\n",
       "    </tr>\n",
       "    <tr>\n",
       "      <th>3</th>\n",
       "      <td>de_dust2</td>\n",
       "      <td>[0, 0]</td>\n",
       "      <td>Normal</td>\n",
       "      <td>76.03125</td>\n",
       "      <td>[{'health': 100, 'armor': 100, 'has_helmet': F...</td>\n",
       "      <td>[{'position': {'x': 1184.4062, 'y': 2223.8438,...</td>\n",
       "      <td>[]</td>\n",
       "      <td>[{'weapon': 'Glock', 'attacker_position': {'x'...</td>\n",
       "      <td>CT</td>\n",
       "      <td>None</td>\n",
       "    </tr>\n",
       "    <tr>\n",
       "      <th>4</th>\n",
       "      <td>de_dust2</td>\n",
       "      <td>[1, 0]</td>\n",
       "      <td>FreezeTime</td>\n",
       "      <td>19.96875</td>\n",
       "      <td>[{'health': 100, 'armor': 100, 'has_helmet': F...</td>\n",
       "      <td>[]</td>\n",
       "      <td>[]</td>\n",
       "      <td>[]</td>\n",
       "      <td>CT</td>\n",
       "      <td>None</td>\n",
       "    </tr>\n",
       "  </tbody>\n",
       "</table>\n",
       "</div>"
      ],
      "text/plain": [
       "        map current_score round_status  round_status_time_left  \\\n",
       "0  de_dust2        [0, 0]   FreezeTime                20.00000   \n",
       "1  de_dust2        [0, 0]   FreezeTime                 1.03125   \n",
       "2  de_dust2        [0, 0]       Normal                96.03125   \n",
       "3  de_dust2        [0, 0]       Normal                76.03125   \n",
       "4  de_dust2        [1, 0]   FreezeTime                19.96875   \n",
       "\n",
       "                                       alive_players  \\\n",
       "0  [{'health': 100, 'armor': 0, 'has_helmet': Fal...   \n",
       "1  [{'health': 100, 'armor': 100, 'has_helmet': F...   \n",
       "2  [{'health': 100, 'armor': 100, 'has_helmet': F...   \n",
       "3  [{'health': 100, 'armor': 100, 'has_helmet': F...   \n",
       "4  [{'health': 100, 'armor': 100, 'has_helmet': F...   \n",
       "\n",
       "                                       active_smokes active_molotovs  \\\n",
       "0                                                 []              []   \n",
       "1                                                 []              []   \n",
       "2                                                 []              []   \n",
       "3  [{'position': {'x': 1184.4062, 'y': 2223.8438,...              []   \n",
       "4                                                 []              []   \n",
       "\n",
       "                                      previous_kills round_winner planted_bomb  \n",
       "0                                                 []           CT         None  \n",
       "1                                                 []           CT         None  \n",
       "2  [{'weapon': 'Glock', 'attacker_position': {'x'...           CT         None  \n",
       "3  [{'weapon': 'Glock', 'attacker_position': {'x'...           CT         None  \n",
       "4                                                 []           CT         None  "
      ]
     },
     "execution_count": 9,
     "metadata": {},
     "output_type": "execute_result"
    }
   ],
   "source": [
    "df.head()"
   ]
  },
  {
   "cell_type": "code",
   "execution_count": 10,
   "metadata": {
    "ExecuteTime": {
     "end_time": "2020-06-12T15:08:12.731853Z",
     "start_time": "2020-06-12T15:08:12.691659Z"
    }
   },
   "outputs": [
    {
     "data": {
      "text/plain": [
       "de_inferno     17938\n",
       "de_dust2       15534\n",
       "de_mirage      12939\n",
       "de_overpass    11961\n",
       "de_nuke        11831\n",
       "de_train        8625\n",
       "de_vertigo      8386\n",
       "de_cache         145\n",
       "Name: map, dtype: int64"
      ]
     },
     "execution_count": 10,
     "metadata": {},
     "output_type": "execute_result"
    }
   ],
   "source": [
    "df.map.value_counts()"
   ]
  },
  {
   "cell_type": "code",
   "execution_count": 11,
   "metadata": {
    "ExecuteTime": {
     "end_time": "2020-06-12T15:08:12.748705Z",
     "start_time": "2020-06-12T15:08:12.732936Z"
    }
   },
   "outputs": [
    {
     "data": {
      "text/plain": [
       "(87359, 10)"
      ]
     },
     "execution_count": 11,
     "metadata": {},
     "output_type": "execute_result"
    }
   ],
   "source": [
    "df.shape"
   ]
  },
  {
   "cell_type": "code",
   "execution_count": 12,
   "metadata": {
    "ExecuteTime": {
     "end_time": "2020-06-12T15:08:12.900872Z",
     "start_time": "2020-06-12T15:08:12.749670Z"
    }
   },
   "outputs": [
    {
     "name": "stdout",
     "output_type": "stream",
     "text": [
      "<class 'pandas.core.frame.DataFrame'>\n",
      "RangeIndex: 87359 entries, 0 to 87358\n",
      "Data columns (total 10 columns):\n",
      " #   Column                  Non-Null Count  Dtype  \n",
      "---  ------                  --------------  -----  \n",
      " 0   map                     87359 non-null  object \n",
      " 1   current_score           87359 non-null  object \n",
      " 2   round_status            87359 non-null  object \n",
      " 3   round_status_time_left  87359 non-null  float64\n",
      " 4   alive_players           87359 non-null  object \n",
      " 5   active_smokes           87359 non-null  object \n",
      " 6   active_molotovs         87359 non-null  object \n",
      " 7   previous_kills          87359 non-null  object \n",
      " 8   round_winner            87359 non-null  object \n",
      " 9   planted_bomb            9868 non-null   object \n",
      "dtypes: float64(1), object(9)\n",
      "memory usage: 6.7+ MB\n"
     ]
    }
   ],
   "source": [
    "df.info()"
   ]
  },
  {
   "cell_type": "code",
   "execution_count": 13,
   "metadata": {
    "ExecuteTime": {
     "end_time": "2020-06-12T15:08:12.928243Z",
     "start_time": "2020-06-12T15:08:12.901863Z"
    }
   },
   "outputs": [
    {
     "data": {
      "text/plain": [
       "Normal         54428\n",
       "FreezeTime     23063\n",
       "BombPlanted     9868\n",
       "Name: round_status, dtype: int64"
      ]
     },
     "execution_count": 13,
     "metadata": {},
     "output_type": "execute_result"
    }
   ],
   "source": [
    "df.round_status.value_counts()"
   ]
  },
  {
   "cell_type": "code",
   "execution_count": 14,
   "metadata": {
    "ExecuteTime": {
     "end_time": "2020-06-12T15:08:12.944375Z",
     "start_time": "2020-06-12T15:08:12.929188Z"
    }
   },
   "outputs": [],
   "source": [
    "df['alive_players'][87327]"
   ]
  },
  {
   "cell_type": "code",
   "execution_count": 17,
   "metadata": {
    "ExecuteTime": {
     "end_time": "2020-06-12T15:08:12.994416Z",
     "start_time": "2020-06-12T15:08:12.978578Z"
    }
   },
   "outputs": [
    {
     "data": {
      "text/plain": [
       "Index(['map', 'current_score', 'round_status', 'round_status_time_left',\n",
       "       'alive_players', 'active_smokes', 'active_molotovs', 'previous_kills',\n",
       "       'round_winner', 'planted_bomb'],\n",
       "      dtype='object')"
      ]
     },
     "execution_count": 17,
     "metadata": {},
     "output_type": "execute_result"
    }
   ],
   "source": [
    "df.columns"
   ]
  },
  {
   "cell_type": "code",
   "execution_count": 18,
   "metadata": {
    "ExecuteTime": {
     "end_time": "2020-06-12T15:08:13.042375Z",
     "start_time": "2020-06-12T15:08:12.995381Z"
    }
   },
   "outputs": [],
   "source": [
    "df =  df.loc[df['round_status'] != 'FreezeTime']"
   ]
  },
  {
   "cell_type": "code",
   "execution_count": 19,
   "metadata": {
    "ExecuteTime": {
     "end_time": "2020-06-12T15:08:13.055887Z",
     "start_time": "2020-06-12T15:08:13.044478Z"
    }
   },
   "outputs": [],
   "source": [
    "df['target'] = (df['round_winner'] == 'CT').astype(int)"
   ]
  },
  {
   "cell_type": "code",
   "execution_count": 20,
   "metadata": {
    "ExecuteTime": {
     "end_time": "2020-06-12T15:08:13.072427Z",
     "start_time": "2020-06-12T15:08:13.057386Z"
    }
   },
   "outputs": [],
   "source": [
    "# move to .py\n",
    "\n",
    "def get_attr(df, team, attr=None):\n",
    "    team_players = map(lambda players: filter(lambda p: p[\"team\"] == team, players), df['alive_players'])\n",
    "    if attr:\n",
    "        team_players = map(lambda players: map(lambda p: p[attr], players), team_players)\n",
    "    \n",
    "    return list(map(lambda p: list(p), team_players))"
   ]
  },
  {
   "cell_type": "code",
   "execution_count": 21,
   "metadata": {
    "ExecuteTime": {
     "end_time": "2020-06-12T15:08:15.758256Z",
     "start_time": "2020-06-12T15:08:13.073530Z"
    }
   },
   "outputs": [],
   "source": [
    "df['alive_players_t']  = list(map(len ,get_attr(df, \"Terrorist\")))\n",
    "df['alive_players_ct'] = list(map(len, get_attr(df, \"CT\")))\n",
    "df['health_ct']        = list(map(sum, get_attr(df, \"CT\", \"health\")))\n",
    "df['health_t']         = list(map(sum, get_attr(df, \"Terrorist\", \"health\")))\n",
    "df['money_ct']         = list(map(sum, get_attr(df, \"CT\", \"money\")))\n",
    "df['money_t']          = list(map(sum, get_attr(df, \"Terrorist\", \"money\")))\n",
    "\n",
    "df['inventory_t']      = get_attr(df, \"Terrorist\", \"inventory\")\n",
    "df['inventory_ct']     = get_attr(df, \"CT\", \"inventory\")\n",
    "\n",
    "df['health_diff'] = df['health_ct'] - df['health_t']"
   ]
  },
  {
   "cell_type": "code",
   "execution_count": 22,
   "metadata": {
    "ExecuteTime": {
     "end_time": "2020-06-12T15:08:15.820602Z",
     "start_time": "2020-06-12T15:08:15.759209Z"
    }
   },
   "outputs": [
    {
     "data": {
      "text/html": [
       "<div>\n",
       "<style scoped>\n",
       "    .dataframe tbody tr th:only-of-type {\n",
       "        vertical-align: middle;\n",
       "    }\n",
       "\n",
       "    .dataframe tbody tr th {\n",
       "        vertical-align: top;\n",
       "    }\n",
       "\n",
       "    .dataframe thead th {\n",
       "        text-align: right;\n",
       "    }\n",
       "</style>\n",
       "<table border=\"1\" class=\"dataframe\">\n",
       "  <thead>\n",
       "    <tr style=\"text-align: right;\">\n",
       "      <th></th>\n",
       "      <th>map</th>\n",
       "      <th>current_score</th>\n",
       "      <th>round_status</th>\n",
       "      <th>round_status_time_left</th>\n",
       "      <th>alive_players</th>\n",
       "      <th>active_smokes</th>\n",
       "      <th>active_molotovs</th>\n",
       "      <th>previous_kills</th>\n",
       "      <th>round_winner</th>\n",
       "      <th>planted_bomb</th>\n",
       "      <th>target</th>\n",
       "      <th>alive_players_t</th>\n",
       "      <th>alive_players_ct</th>\n",
       "      <th>health_ct</th>\n",
       "      <th>health_t</th>\n",
       "      <th>money_ct</th>\n",
       "      <th>money_t</th>\n",
       "      <th>inventory_t</th>\n",
       "      <th>inventory_ct</th>\n",
       "      <th>health_diff</th>\n",
       "    </tr>\n",
       "  </thead>\n",
       "  <tbody>\n",
       "    <tr>\n",
       "      <th>2</th>\n",
       "      <td>de_dust2</td>\n",
       "      <td>[0, 0]</td>\n",
       "      <td>Normal</td>\n",
       "      <td>96.03125</td>\n",
       "      <td>[{'health': 100, 'armor': 100, 'has_helmet': F...</td>\n",
       "      <td>[]</td>\n",
       "      <td>[]</td>\n",
       "      <td>[{'weapon': 'Glock', 'attacker_position': {'x'...</td>\n",
       "      <td>CT</td>\n",
       "      <td>None</td>\n",
       "      <td>1</td>\n",
       "      <td>4</td>\n",
       "      <td>4</td>\n",
       "      <td>391</td>\n",
       "      <td>400</td>\n",
       "      <td>750</td>\n",
       "      <td>500</td>\n",
       "      <td>[[{'item_type': 'Glock', 'clip_ammo': 20, 'res...</td>\n",
       "      <td>[[{'item_type': 'UspS', 'clip_ammo': 12, 'rese...</td>\n",
       "      <td>-9</td>\n",
       "    </tr>\n",
       "    <tr>\n",
       "      <th>3</th>\n",
       "      <td>de_dust2</td>\n",
       "      <td>[0, 0]</td>\n",
       "      <td>Normal</td>\n",
       "      <td>76.03125</td>\n",
       "      <td>[{'health': 100, 'armor': 100, 'has_helmet': F...</td>\n",
       "      <td>[{'position': {'x': 1184.4062, 'y': 2223.8438,...</td>\n",
       "      <td>[]</td>\n",
       "      <td>[{'weapon': 'Glock', 'attacker_position': {'x'...</td>\n",
       "      <td>CT</td>\n",
       "      <td>None</td>\n",
       "      <td>1</td>\n",
       "      <td>4</td>\n",
       "      <td>4</td>\n",
       "      <td>391</td>\n",
       "      <td>400</td>\n",
       "      <td>750</td>\n",
       "      <td>500</td>\n",
       "      <td>[[{'item_type': 'Glock', 'clip_ammo': 16, 'res...</td>\n",
       "      <td>[[{'item_type': 'UspS', 'clip_ammo': 12, 'rese...</td>\n",
       "      <td>-9</td>\n",
       "    </tr>\n",
       "    <tr>\n",
       "      <th>5</th>\n",
       "      <td>de_dust2</td>\n",
       "      <td>[1, 0]</td>\n",
       "      <td>Normal</td>\n",
       "      <td>114.96875</td>\n",
       "      <td>[{'health': 100, 'armor': 100, 'has_helmet': T...</td>\n",
       "      <td>[]</td>\n",
       "      <td>[]</td>\n",
       "      <td>[]</td>\n",
       "      <td>CT</td>\n",
       "      <td>None</td>\n",
       "      <td>1</td>\n",
       "      <td>5</td>\n",
       "      <td>5</td>\n",
       "      <td>500</td>\n",
       "      <td>500</td>\n",
       "      <td>1750</td>\n",
       "      <td>10550</td>\n",
       "      <td>[[{'item_type': 'Glock', 'clip_ammo': 20, 'res...</td>\n",
       "      <td>[[{'item_type': 'UspS', 'clip_ammo': 12, 'rese...</td>\n",
       "      <td>0</td>\n",
       "    </tr>\n",
       "    <tr>\n",
       "      <th>6</th>\n",
       "      <td>de_dust2</td>\n",
       "      <td>[1, 0]</td>\n",
       "      <td>Normal</td>\n",
       "      <td>94.96875</td>\n",
       "      <td>[{'health': 100, 'armor': 100, 'has_helmet': T...</td>\n",
       "      <td>[{'position': {'x': -411.125, 'y': 2274.1875, ...</td>\n",
       "      <td>[]</td>\n",
       "      <td>[{'weapon': 'Famas', 'attacker_position': {'x'...</td>\n",
       "      <td>CT</td>\n",
       "      <td>None</td>\n",
       "      <td>1</td>\n",
       "      <td>2</td>\n",
       "      <td>3</td>\n",
       "      <td>295</td>\n",
       "      <td>111</td>\n",
       "      <td>1700</td>\n",
       "      <td>5000</td>\n",
       "      <td>[[{'item_type': 'Glock', 'clip_ammo': 20, 'res...</td>\n",
       "      <td>[[{'item_type': 'UspS', 'clip_ammo': 12, 'rese...</td>\n",
       "      <td>184</td>\n",
       "    </tr>\n",
       "    <tr>\n",
       "      <th>7</th>\n",
       "      <td>de_dust2</td>\n",
       "      <td>[1, 0]</td>\n",
       "      <td>Normal</td>\n",
       "      <td>74.96875</td>\n",
       "      <td>[{'health': 100, 'armor': 100, 'has_helmet': T...</td>\n",
       "      <td>[]</td>\n",
       "      <td>[]</td>\n",
       "      <td>[{'weapon': 'Famas', 'attacker_position': {'x'...</td>\n",
       "      <td>CT</td>\n",
       "      <td>None</td>\n",
       "      <td>1</td>\n",
       "      <td>2</td>\n",
       "      <td>3</td>\n",
       "      <td>295</td>\n",
       "      <td>111</td>\n",
       "      <td>1700</td>\n",
       "      <td>5000</td>\n",
       "      <td>[[{'item_type': 'Glock', 'clip_ammo': 20, 'res...</td>\n",
       "      <td>[[{'item_type': 'UspS', 'clip_ammo': 12, 'rese...</td>\n",
       "      <td>184</td>\n",
       "    </tr>\n",
       "  </tbody>\n",
       "</table>\n",
       "</div>"
      ],
      "text/plain": [
       "        map current_score round_status  round_status_time_left  \\\n",
       "2  de_dust2        [0, 0]       Normal                96.03125   \n",
       "3  de_dust2        [0, 0]       Normal                76.03125   \n",
       "5  de_dust2        [1, 0]       Normal               114.96875   \n",
       "6  de_dust2        [1, 0]       Normal                94.96875   \n",
       "7  de_dust2        [1, 0]       Normal                74.96875   \n",
       "\n",
       "                                       alive_players  \\\n",
       "2  [{'health': 100, 'armor': 100, 'has_helmet': F...   \n",
       "3  [{'health': 100, 'armor': 100, 'has_helmet': F...   \n",
       "5  [{'health': 100, 'armor': 100, 'has_helmet': T...   \n",
       "6  [{'health': 100, 'armor': 100, 'has_helmet': T...   \n",
       "7  [{'health': 100, 'armor': 100, 'has_helmet': T...   \n",
       "\n",
       "                                       active_smokes active_molotovs  \\\n",
       "2                                                 []              []   \n",
       "3  [{'position': {'x': 1184.4062, 'y': 2223.8438,...              []   \n",
       "5                                                 []              []   \n",
       "6  [{'position': {'x': -411.125, 'y': 2274.1875, ...              []   \n",
       "7                                                 []              []   \n",
       "\n",
       "                                      previous_kills round_winner  \\\n",
       "2  [{'weapon': 'Glock', 'attacker_position': {'x'...           CT   \n",
       "3  [{'weapon': 'Glock', 'attacker_position': {'x'...           CT   \n",
       "5                                                 []           CT   \n",
       "6  [{'weapon': 'Famas', 'attacker_position': {'x'...           CT   \n",
       "7  [{'weapon': 'Famas', 'attacker_position': {'x'...           CT   \n",
       "\n",
       "  planted_bomb  target  alive_players_t  alive_players_ct  health_ct  \\\n",
       "2         None       1                4                 4        391   \n",
       "3         None       1                4                 4        391   \n",
       "5         None       1                5                 5        500   \n",
       "6         None       1                2                 3        295   \n",
       "7         None       1                2                 3        295   \n",
       "\n",
       "   health_t  money_ct  money_t  \\\n",
       "2       400       750      500   \n",
       "3       400       750      500   \n",
       "5       500      1750    10550   \n",
       "6       111      1700     5000   \n",
       "7       111      1700     5000   \n",
       "\n",
       "                                         inventory_t  \\\n",
       "2  [[{'item_type': 'Glock', 'clip_ammo': 20, 'res...   \n",
       "3  [[{'item_type': 'Glock', 'clip_ammo': 16, 'res...   \n",
       "5  [[{'item_type': 'Glock', 'clip_ammo': 20, 'res...   \n",
       "6  [[{'item_type': 'Glock', 'clip_ammo': 20, 'res...   \n",
       "7  [[{'item_type': 'Glock', 'clip_ammo': 20, 'res...   \n",
       "\n",
       "                                        inventory_ct  health_diff  \n",
       "2  [[{'item_type': 'UspS', 'clip_ammo': 12, 'rese...           -9  \n",
       "3  [[{'item_type': 'UspS', 'clip_ammo': 12, 'rese...           -9  \n",
       "5  [[{'item_type': 'UspS', 'clip_ammo': 12, 'rese...            0  \n",
       "6  [[{'item_type': 'UspS', 'clip_ammo': 12, 'rese...          184  \n",
       "7  [[{'item_type': 'UspS', 'clip_ammo': 12, 'rese...          184  "
      ]
     },
     "execution_count": 22,
     "metadata": {},
     "output_type": "execute_result"
    }
   ],
   "source": [
    "df.head()"
   ]
  },
  {
   "cell_type": "code",
   "execution_count": 23,
   "metadata": {
    "ExecuteTime": {
     "end_time": "2020-06-12T15:08:15.823942Z",
     "start_time": "2020-06-12T15:08:15.821588Z"
    }
   },
   "outputs": [],
   "source": [
    "# move to .py\n",
    "\n",
    "def get_items(inventory):\n",
    "    items_list = []\n",
    "\n",
    "    for player in inventory:\n",
    "        for item in player:\n",
    "            if item['item_type']:\n",
    "                items_list.append(item['item_type'])\n",
    "    return items_list"
   ]
  },
  {
   "cell_type": "code",
   "execution_count": 24,
   "metadata": {
    "ExecuteTime": {
     "end_time": "2020-06-12T15:08:16.282718Z",
     "start_time": "2020-06-12T15:08:15.824846Z"
    }
   },
   "outputs": [],
   "source": [
    "df['t_items'] = df.inventory_t.apply(get_items)\n",
    "df['ct_items'] = df.inventory_ct.apply(get_items)"
   ]
  },
  {
   "cell_type": "code",
   "execution_count": 25,
   "metadata": {
    "ExecuteTime": {
     "end_time": "2020-06-12T15:08:16.286013Z",
     "start_time": "2020-06-12T15:08:16.283717Z"
    }
   },
   "outputs": [],
   "source": [
    "# move to .py\n",
    "\n",
    "def get_invent_value(inventory):\n",
    "    value = 0 \n",
    "    for weapon in inventory:\n",
    "        value += COSTS[weapon]\n",
    "    return value"
   ]
  },
  {
   "cell_type": "code",
   "execution_count": 26,
   "metadata": {
    "ExecuteTime": {
     "end_time": "2020-06-12T15:08:16.302969Z",
     "start_time": "2020-06-12T15:08:16.287036Z"
    }
   },
   "outputs": [],
   "source": [
    "# move to .py\n",
    "\n",
    "\n",
    "def get_total_value(team):\n",
    "    \n",
    "    if team == 'CT':\n",
    "        \n",
    "        value = df.ct_items.apply(get_invent_value)\n",
    "        \n",
    "        num_defusers = list(map(sum, get_attr(df, team, \"has_defuser\")))\n",
    "        cost_defusers = [defuser * COSTS['DefuseKit'] for defuser in num_defusers]\n",
    "        value += cost_defusers\n",
    "    \n",
    "    else:\n",
    "        value = df.t_items.apply(get_invent_value)\n",
    "\n",
    "    num_helmets = list(map(sum, get_attr(df, team, \"has_helmet\")))\n",
    "    cost_helmets =  [helmet * COSTS['Helmet'] for helmet in num_helmets]\n",
    "    value += cost_helmets\n",
    "\n",
    "    total_armor = list(map(sum, get_attr(df, team, \"armor\")))\n",
    "    cost_armor = [((armor/100) * COSTS['Kevlar']) for armor in total_armor]\n",
    "    value += cost_armor\n",
    "        \n",
    "    return value"
   ]
  },
  {
   "cell_type": "code",
   "execution_count": 27,
   "metadata": {
    "ExecuteTime": {
     "end_time": "2020-06-12T15:08:17.654175Z",
     "start_time": "2020-06-12T15:08:16.303997Z"
    }
   },
   "outputs": [],
   "source": [
    "df['total_value_ct'] = get_total_value('CT')\n",
    "df['total_value_t'] = get_total_value('Terrorist')"
   ]
  },
  {
   "cell_type": "code",
   "execution_count": 28,
   "metadata": {
    "ExecuteTime": {
     "end_time": "2020-06-12T15:08:17.657754Z",
     "start_time": "2020-06-12T15:08:17.655492Z"
    }
   },
   "outputs": [],
   "source": [
    "# move to .py / vectorize?\n",
    "\n",
    "def get_utility_score(inventory):\n",
    "    count = 0\n",
    "    for item in inventory:\n",
    "        if item in equipment:\n",
    "            count += 1\n",
    "            \n",
    "    return count\n",
    "     "
   ]
  },
  {
   "cell_type": "code",
   "execution_count": 29,
   "metadata": {
    "ExecuteTime": {
     "end_time": "2020-06-12T15:08:17.888034Z",
     "start_time": "2020-06-12T15:08:17.658714Z"
    }
   },
   "outputs": [],
   "source": [
    "df['ct_utility'] = df.ct_items.apply(get_utility_score)\n",
    "df['t_utility'] = df.t_items.apply(get_utility_score)"
   ]
  },
  {
   "cell_type": "code",
   "execution_count": 30,
   "metadata": {
    "ExecuteTime": {
     "end_time": "2020-06-12T15:08:17.956455Z",
     "start_time": "2020-06-12T15:08:17.889029Z"
    }
   },
   "outputs": [
    {
     "data": {
      "text/html": [
       "<div>\n",
       "<style scoped>\n",
       "    .dataframe tbody tr th:only-of-type {\n",
       "        vertical-align: middle;\n",
       "    }\n",
       "\n",
       "    .dataframe tbody tr th {\n",
       "        vertical-align: top;\n",
       "    }\n",
       "\n",
       "    .dataframe thead th {\n",
       "        text-align: right;\n",
       "    }\n",
       "</style>\n",
       "<table border=\"1\" class=\"dataframe\">\n",
       "  <thead>\n",
       "    <tr style=\"text-align: right;\">\n",
       "      <th></th>\n",
       "      <th>map</th>\n",
       "      <th>current_score</th>\n",
       "      <th>round_status</th>\n",
       "      <th>round_status_time_left</th>\n",
       "      <th>alive_players</th>\n",
       "      <th>active_smokes</th>\n",
       "      <th>active_molotovs</th>\n",
       "      <th>previous_kills</th>\n",
       "      <th>round_winner</th>\n",
       "      <th>planted_bomb</th>\n",
       "      <th>...</th>\n",
       "      <th>money_t</th>\n",
       "      <th>inventory_t</th>\n",
       "      <th>inventory_ct</th>\n",
       "      <th>health_diff</th>\n",
       "      <th>t_items</th>\n",
       "      <th>ct_items</th>\n",
       "      <th>total_value_ct</th>\n",
       "      <th>total_value_t</th>\n",
       "      <th>ct_utility</th>\n",
       "      <th>t_utility</th>\n",
       "    </tr>\n",
       "  </thead>\n",
       "  <tbody>\n",
       "    <tr>\n",
       "      <th>2</th>\n",
       "      <td>de_dust2</td>\n",
       "      <td>[0, 0]</td>\n",
       "      <td>Normal</td>\n",
       "      <td>96.03125</td>\n",
       "      <td>[{'health': 100, 'armor': 100, 'has_helmet': F...</td>\n",
       "      <td>[]</td>\n",
       "      <td>[]</td>\n",
       "      <td>[{'weapon': 'Glock', 'attacker_position': {'x'...</td>\n",
       "      <td>CT</td>\n",
       "      <td>None</td>\n",
       "      <td>...</td>\n",
       "      <td>500</td>\n",
       "      <td>[[{'item_type': 'Glock', 'clip_ammo': 20, 'res...</td>\n",
       "      <td>[[{'item_type': 'UspS', 'clip_ammo': 12, 'rese...</td>\n",
       "      <td>-9</td>\n",
       "      <td>[Glock, Glock, Flashbang, SmokeGrenade, C4, Gl...</td>\n",
       "      <td>[UspS, UspS, Flashbang, UspS, UspS]</td>\n",
       "      <td>3311.0</td>\n",
       "      <td>3100.0</td>\n",
       "      <td>1</td>\n",
       "      <td>4</td>\n",
       "    </tr>\n",
       "    <tr>\n",
       "      <th>3</th>\n",
       "      <td>de_dust2</td>\n",
       "      <td>[0, 0]</td>\n",
       "      <td>Normal</td>\n",
       "      <td>76.03125</td>\n",
       "      <td>[{'health': 100, 'armor': 100, 'has_helmet': F...</td>\n",
       "      <td>[{'position': {'x': 1184.4062, 'y': 2223.8438,...</td>\n",
       "      <td>[]</td>\n",
       "      <td>[{'weapon': 'Glock', 'attacker_position': {'x'...</td>\n",
       "      <td>CT</td>\n",
       "      <td>None</td>\n",
       "      <td>...</td>\n",
       "      <td>500</td>\n",
       "      <td>[[{'item_type': 'Glock', 'clip_ammo': 16, 'res...</td>\n",
       "      <td>[[{'item_type': 'UspS', 'clip_ammo': 12, 'rese...</td>\n",
       "      <td>-9</td>\n",
       "      <td>[Glock, Glock, C4, P2000, Glock]</td>\n",
       "      <td>[UspS, UspS, UspS, UspS]</td>\n",
       "      <td>3111.0</td>\n",
       "      <td>2100.0</td>\n",
       "      <td>0</td>\n",
       "      <td>0</td>\n",
       "    </tr>\n",
       "    <tr>\n",
       "      <th>5</th>\n",
       "      <td>de_dust2</td>\n",
       "      <td>[1, 0]</td>\n",
       "      <td>Normal</td>\n",
       "      <td>114.96875</td>\n",
       "      <td>[{'health': 100, 'armor': 100, 'has_helmet': T...</td>\n",
       "      <td>[]</td>\n",
       "      <td>[]</td>\n",
       "      <td>[]</td>\n",
       "      <td>CT</td>\n",
       "      <td>None</td>\n",
       "      <td>...</td>\n",
       "      <td>10550</td>\n",
       "      <td>[[{'item_type': 'Glock', 'clip_ammo': 20, 'res...</td>\n",
       "      <td>[[{'item_type': 'UspS', 'clip_ammo': 12, 'rese...</td>\n",
       "      <td>0</td>\n",
       "      <td>[Glock, Glock, Glock, Glock, Glock, Flashbang]</td>\n",
       "      <td>[UspS, Ump45, Flashbang, Famas, UspS, HeGrenad...</td>\n",
       "      <td>18450.0</td>\n",
       "      <td>1200.0</td>\n",
       "      <td>10</td>\n",
       "      <td>1</td>\n",
       "    </tr>\n",
       "    <tr>\n",
       "      <th>6</th>\n",
       "      <td>de_dust2</td>\n",
       "      <td>[1, 0]</td>\n",
       "      <td>Normal</td>\n",
       "      <td>94.96875</td>\n",
       "      <td>[{'health': 100, 'armor': 100, 'has_helmet': T...</td>\n",
       "      <td>[{'position': {'x': -411.125, 'y': 2274.1875, ...</td>\n",
       "      <td>[]</td>\n",
       "      <td>[{'weapon': 'Famas', 'attacker_position': {'x'...</td>\n",
       "      <td>CT</td>\n",
       "      <td>None</td>\n",
       "      <td>...</td>\n",
       "      <td>5000</td>\n",
       "      <td>[[{'item_type': 'Glock', 'clip_ammo': 20, 'res...</td>\n",
       "      <td>[[{'item_type': 'UspS', 'clip_ammo': 12, 'rese...</td>\n",
       "      <td>184</td>\n",
       "      <td>[Glock, C4, Famas, Glock]</td>\n",
       "      <td>[UspS, Ump45, Flashbang, Famas, UspS, SmokeGre...</td>\n",
       "      <td>9224.0</td>\n",
       "      <td>2450.0</td>\n",
       "      <td>3</td>\n",
       "      <td>0</td>\n",
       "    </tr>\n",
       "    <tr>\n",
       "      <th>7</th>\n",
       "      <td>de_dust2</td>\n",
       "      <td>[1, 0]</td>\n",
       "      <td>Normal</td>\n",
       "      <td>74.96875</td>\n",
       "      <td>[{'health': 100, 'armor': 100, 'has_helmet': T...</td>\n",
       "      <td>[]</td>\n",
       "      <td>[]</td>\n",
       "      <td>[{'weapon': 'Famas', 'attacker_position': {'x'...</td>\n",
       "      <td>CT</td>\n",
       "      <td>None</td>\n",
       "      <td>...</td>\n",
       "      <td>5000</td>\n",
       "      <td>[[{'item_type': 'Glock', 'clip_ammo': 20, 'res...</td>\n",
       "      <td>[[{'item_type': 'UspS', 'clip_ammo': 12, 'rese...</td>\n",
       "      <td>184</td>\n",
       "      <td>[Glock, C4, Famas, Glock]</td>\n",
       "      <td>[UspS, Ump45, Flashbang, Famas, UspS, SmokeGre...</td>\n",
       "      <td>9224.0</td>\n",
       "      <td>2450.0</td>\n",
       "      <td>3</td>\n",
       "      <td>0</td>\n",
       "    </tr>\n",
       "  </tbody>\n",
       "</table>\n",
       "<p>5 rows × 26 columns</p>\n",
       "</div>"
      ],
      "text/plain": [
       "        map current_score round_status  round_status_time_left  \\\n",
       "2  de_dust2        [0, 0]       Normal                96.03125   \n",
       "3  de_dust2        [0, 0]       Normal                76.03125   \n",
       "5  de_dust2        [1, 0]       Normal               114.96875   \n",
       "6  de_dust2        [1, 0]       Normal                94.96875   \n",
       "7  de_dust2        [1, 0]       Normal                74.96875   \n",
       "\n",
       "                                       alive_players  \\\n",
       "2  [{'health': 100, 'armor': 100, 'has_helmet': F...   \n",
       "3  [{'health': 100, 'armor': 100, 'has_helmet': F...   \n",
       "5  [{'health': 100, 'armor': 100, 'has_helmet': T...   \n",
       "6  [{'health': 100, 'armor': 100, 'has_helmet': T...   \n",
       "7  [{'health': 100, 'armor': 100, 'has_helmet': T...   \n",
       "\n",
       "                                       active_smokes active_molotovs  \\\n",
       "2                                                 []              []   \n",
       "3  [{'position': {'x': 1184.4062, 'y': 2223.8438,...              []   \n",
       "5                                                 []              []   \n",
       "6  [{'position': {'x': -411.125, 'y': 2274.1875, ...              []   \n",
       "7                                                 []              []   \n",
       "\n",
       "                                      previous_kills round_winner  \\\n",
       "2  [{'weapon': 'Glock', 'attacker_position': {'x'...           CT   \n",
       "3  [{'weapon': 'Glock', 'attacker_position': {'x'...           CT   \n",
       "5                                                 []           CT   \n",
       "6  [{'weapon': 'Famas', 'attacker_position': {'x'...           CT   \n",
       "7  [{'weapon': 'Famas', 'attacker_position': {'x'...           CT   \n",
       "\n",
       "  planted_bomb  ...  money_t  \\\n",
       "2         None  ...      500   \n",
       "3         None  ...      500   \n",
       "5         None  ...    10550   \n",
       "6         None  ...     5000   \n",
       "7         None  ...     5000   \n",
       "\n",
       "                                         inventory_t  \\\n",
       "2  [[{'item_type': 'Glock', 'clip_ammo': 20, 'res...   \n",
       "3  [[{'item_type': 'Glock', 'clip_ammo': 16, 'res...   \n",
       "5  [[{'item_type': 'Glock', 'clip_ammo': 20, 'res...   \n",
       "6  [[{'item_type': 'Glock', 'clip_ammo': 20, 'res...   \n",
       "7  [[{'item_type': 'Glock', 'clip_ammo': 20, 'res...   \n",
       "\n",
       "                                        inventory_ct  health_diff  \\\n",
       "2  [[{'item_type': 'UspS', 'clip_ammo': 12, 'rese...           -9   \n",
       "3  [[{'item_type': 'UspS', 'clip_ammo': 12, 'rese...           -9   \n",
       "5  [[{'item_type': 'UspS', 'clip_ammo': 12, 'rese...            0   \n",
       "6  [[{'item_type': 'UspS', 'clip_ammo': 12, 'rese...          184   \n",
       "7  [[{'item_type': 'UspS', 'clip_ammo': 12, 'rese...          184   \n",
       "\n",
       "                                             t_items  \\\n",
       "2  [Glock, Glock, Flashbang, SmokeGrenade, C4, Gl...   \n",
       "3                   [Glock, Glock, C4, P2000, Glock]   \n",
       "5     [Glock, Glock, Glock, Glock, Glock, Flashbang]   \n",
       "6                          [Glock, C4, Famas, Glock]   \n",
       "7                          [Glock, C4, Famas, Glock]   \n",
       "\n",
       "                                            ct_items  total_value_ct  \\\n",
       "2                [UspS, UspS, Flashbang, UspS, UspS]          3311.0   \n",
       "3                           [UspS, UspS, UspS, UspS]          3111.0   \n",
       "5  [UspS, Ump45, Flashbang, Famas, UspS, HeGrenad...         18450.0   \n",
       "6  [UspS, Ump45, Flashbang, Famas, UspS, SmokeGre...          9224.0   \n",
       "7  [UspS, Ump45, Flashbang, Famas, UspS, SmokeGre...          9224.0   \n",
       "\n",
       "  total_value_t ct_utility  t_utility  \n",
       "2        3100.0          1          4  \n",
       "3        2100.0          0          0  \n",
       "5        1200.0         10          1  \n",
       "6        2450.0          3          0  \n",
       "7        2450.0          3          0  \n",
       "\n",
       "[5 rows x 26 columns]"
      ]
     },
     "execution_count": 30,
     "metadata": {},
     "output_type": "execute_result"
    }
   ],
   "source": [
    "df.head()"
   ]
  },
  {
   "cell_type": "code",
   "execution_count": 31,
   "metadata": {
    "ExecuteTime": {
     "end_time": "2020-06-12T15:08:17.973417Z",
     "start_time": "2020-06-12T15:08:17.957402Z"
    }
   },
   "outputs": [],
   "source": [
    "df['util_diff'] = df['ct_utility'] - df['t_utility']\n",
    "df['value_diff'] = df['total_value_ct'] - df['total_value_t']"
   ]
  },
  {
   "cell_type": "code",
   "execution_count": 32,
   "metadata": {
    "ExecuteTime": {
     "end_time": "2020-06-12T15:08:18.135856Z",
     "start_time": "2020-06-12T15:08:17.974384Z"
    }
   },
   "outputs": [
    {
     "data": {
      "text/plain": [
       "round_winner\n",
       "CT           30931\n",
       "Terrorist    33365\n",
       "Name: map, dtype: int64"
      ]
     },
     "execution_count": 32,
     "metadata": {},
     "output_type": "execute_result"
    }
   ],
   "source": [
    "df.groupby('round_winner').count().map"
   ]
  },
  {
   "cell_type": "code",
   "execution_count": 33,
   "metadata": {
    "ExecuteTime": {
     "end_time": "2020-06-12T15:08:18.268432Z",
     "start_time": "2020-06-12T15:08:18.136929Z"
    }
   },
   "outputs": [
    {
     "data": {
      "text/plain": [
       "array([[<matplotlib.axes._subplots.AxesSubplot object at 0x7fe8b1620450>]],\n",
       "      dtype=object)"
      ]
     },
     "execution_count": 33,
     "metadata": {},
     "output_type": "execute_result"
    },
    {
     "data": {
      "image/png": "[encoded data removed]",
      "text/plain": [
       "<Figure size 432x288 with 1 Axes>"
      ]
     },
     "metadata": {
      "needs_background": "light"
     },
     "output_type": "display_data"
    }
   ],
   "source": [
    "df.hist('round_status_time_left')"
   ]
  },
  {
   "cell_type": "code",
   "execution_count": 34,
   "metadata": {
    "ExecuteTime": {
     "end_time": "2020-06-12T15:08:18.270987Z",
     "start_time": "2020-06-12T15:08:18.269449Z"
    }
   },
   "outputs": [],
   "source": [
    "# even include things that didnt work?\n",
    "\n",
    "# dummy = pd.get_dummies(df['round_status'], drop_first = True)\n",
    "# df = pd.concat([df,dummy], axis = 1)"
   ]
  },
  {
   "cell_type": "code",
   "execution_count": 35,
   "metadata": {
    "ExecuteTime": {
     "end_time": "2020-06-12T15:08:18.338881Z",
     "start_time": "2020-06-12T15:08:18.271926Z"
    }
   },
   "outputs": [],
   "source": [
    "dummy_map = pd.get_dummies(df['map'], drop_first = False)\n",
    "df = pd.concat([df,dummy_map], axis = 1)"
   ]
  },
  {
   "cell_type": "code",
   "execution_count": 36,
   "metadata": {
    "ExecuteTime": {
     "end_time": "2020-06-12T15:08:18.448252Z",
     "start_time": "2020-06-12T15:08:18.339916Z"
    }
   },
   "outputs": [],
   "source": [
    "df.loc[:, 'ct_score'] = df.current_score.map(lambda x: x[0])\n",
    "df.loc[:, 't_score'] = df.current_score.map(lambda x: x[1])\n",
    "\n",
    "df['score_diff'] = df['ct_score'] - df['t_score']"
   ]
  },
  {
   "cell_type": "code",
   "execution_count": 37,
   "metadata": {
    "ExecuteTime": {
     "end_time": "2020-06-12T15:08:18.452564Z",
     "start_time": "2020-06-12T15:08:18.449281Z"
    }
   },
   "outputs": [],
   "source": [
    "df['player_diff'] = df['alive_players_ct'] - df['alive_players_t']\n",
    "df['money_diff'] = df['money_ct'] - df['money_t']"
   ]
  },
  {
   "cell_type": "code",
   "execution_count": 38,
   "metadata": {
    "ExecuteTime": {
     "end_time": "2020-06-12T15:08:18.569692Z",
     "start_time": "2020-06-12T15:08:18.453578Z"
    }
   },
   "outputs": [
    {
     "data": {
      "text/plain": [
       "<matplotlib.axes._subplots.AxesSubplot at 0x7fe8b11a0ad0>"
      ]
     },
     "execution_count": 38,
     "metadata": {},
     "output_type": "execute_result"
    },
    {
     "data": {
      "image/png": "[encoded data removed]",
      "text/plain": [
       "<Figure size 432x288 with 1 Axes>"
      ]
     },
     "metadata": {
      "needs_background": "light"
     },
     "output_type": "display_data"
    }
   ],
   "source": [
    "sns.boxplot(x = 'round_status', y = 'money_diff', data = df)"
   ]
  },
  {
   "cell_type": "code",
   "execution_count": 39,
   "metadata": {
    "ExecuteTime": {
     "end_time": "2020-06-12T15:08:18.671512Z",
     "start_time": "2020-06-12T15:08:18.570670Z"
    }
   },
   "outputs": [
    {
     "data": {
      "text/plain": [
       "<matplotlib.axes._subplots.AxesSubplot at 0x7fe8b1930a90>"
      ]
     },
     "execution_count": 39,
     "metadata": {},
     "output_type": "execute_result"
    },
    {
     "data": {
      "image/png": "[encoded data removed]",
      "text/plain": [
       "<Figure size 432x288 with 1 Axes>"
      ]
     },
     "metadata": {
      "needs_background": "light"
     },
     "output_type": "display_data"
    }
   ],
   "source": [
    "sns.boxplot(x = 'round_status', y = 'value_diff', data = df)"
   ]
  },
  {
   "cell_type": "code",
   "execution_count": 40,
   "metadata": {
    "ExecuteTime": {
     "end_time": "2020-06-12T15:08:18.775856Z",
     "start_time": "2020-06-12T15:08:18.672499Z"
    }
   },
   "outputs": [
    {
     "data": {
      "text/plain": [
       "<matplotlib.axes._subplots.AxesSubplot at 0x7fe8b16fc950>"
      ]
     },
     "execution_count": 40,
     "metadata": {},
     "output_type": "execute_result"
    },
    {
     "data": {
      "image/png": "[encoded data removed]",
      "text/plain": [
       "<Figure size 432x288 with 1 Axes>"
      ]
     },
     "metadata": {
      "needs_background": "light"
     },
     "output_type": "display_data"
    }
   ],
   "source": [
    "sns.boxplot(x = 'round_status', y = 'health_diff', data = df)"
   ]
  },
  {
   "cell_type": "code",
   "execution_count": 41,
   "metadata": {
    "ExecuteTime": {
     "end_time": "2020-06-12T15:08:18.895449Z",
     "start_time": "2020-06-12T15:08:18.776846Z"
    }
   },
   "outputs": [
    {
     "data": {
      "text/plain": [
       "<matplotlib.axes._subplots.AxesSubplot at 0x7fe8b16d87d0>"
      ]
     },
     "execution_count": 41,
     "metadata": {},
     "output_type": "execute_result"
    },
    {
     "data": {
      "image/png": "[encoded data removed]",
      "text/plain": [
       "<Figure size 432x288 with 1 Axes>"
      ]
     },
     "metadata": {
      "needs_background": "light"
     },
     "output_type": "display_data"
    }
   ],
   "source": [
    "sns.boxplot(x = 'round_status', y = 'player_diff', data = df)"
   ]
  },
  {
   "cell_type": "code",
   "execution_count": 42,
   "metadata": {
    "ExecuteTime": {
     "end_time": "2020-06-12T15:08:19.024915Z",
     "start_time": "2020-06-12T15:08:18.896454Z"
    }
   },
   "outputs": [
    {
     "data": {
      "text/plain": [
       "<matplotlib.axes._subplots.AxesSubplot at 0x7fe8b15a6050>"
      ]
     },
     "execution_count": 42,
     "metadata": {},
     "output_type": "execute_result"
    },
    {
     "data": {
      "image/png": "[encoded data removed]",
      "text/plain": [
       "<Figure size 432x288 with 1 Axes>"
      ]
     },
     "metadata": {
      "needs_background": "light"
     },
     "output_type": "display_data"
    }
   ],
   "source": [
    "pd.crosstab(df.map, df.target.astype(bool)).plot(kind='bar')\n"
   ]
  },
  {
   "cell_type": "code",
   "execution_count": 44,
   "metadata": {
    "ExecuteTime": {
     "end_time": "2020-06-12T15:08:19.113912Z",
     "start_time": "2020-06-12T15:08:19.033651Z"
    }
   },
   "outputs": [],
   "source": [
    "df = df.drop(['alive_players','map', 'active_smokes', 'active_molotovs', 'previous_kills',\n",
    "              'round_winner','planted_bomb','inventory_ct','inventory_t','t_items','ct_items', \n",
    "              'round_status','current_score'], axis = 1 )"
   ]
  },
  {
   "cell_type": "code",
   "execution_count": 45,
   "metadata": {
    "ExecuteTime": {
     "end_time": "2020-06-12T15:08:19.126623Z",
     "start_time": "2020-06-12T15:08:19.114910Z"
    }
   },
   "outputs": [
    {
     "data": {
      "text/html": [
       "<div>\n",
       "<style scoped>\n",
       "    .dataframe tbody tr th:only-of-type {\n",
       "        vertical-align: middle;\n",
       "    }\n",
       "\n",
       "    .dataframe tbody tr th {\n",
       "        vertical-align: top;\n",
       "    }\n",
       "\n",
       "    .dataframe thead th {\n",
       "        text-align: right;\n",
       "    }\n",
       "</style>\n",
       "<table border=\"1\" class=\"dataframe\">\n",
       "  <thead>\n",
       "    <tr style=\"text-align: right;\">\n",
       "      <th></th>\n",
       "      <th>round_status_time_left</th>\n",
       "      <th>target</th>\n",
       "      <th>alive_players_t</th>\n",
       "      <th>alive_players_ct</th>\n",
       "      <th>health_ct</th>\n",
       "      <th>health_t</th>\n",
       "      <th>money_ct</th>\n",
       "      <th>money_t</th>\n",
       "      <th>health_diff</th>\n",
       "      <th>total_value_ct</th>\n",
       "      <th>...</th>\n",
       "      <th>de_mirage</th>\n",
       "      <th>de_nuke</th>\n",
       "      <th>de_overpass</th>\n",
       "      <th>de_train</th>\n",
       "      <th>de_vertigo</th>\n",
       "      <th>ct_score</th>\n",
       "      <th>t_score</th>\n",
       "      <th>score_diff</th>\n",
       "      <th>player_diff</th>\n",
       "      <th>money_diff</th>\n",
       "    </tr>\n",
       "  </thead>\n",
       "  <tbody>\n",
       "    <tr>\n",
       "      <th>2</th>\n",
       "      <td>96.03125</td>\n",
       "      <td>1</td>\n",
       "      <td>4</td>\n",
       "      <td>4</td>\n",
       "      <td>391</td>\n",
       "      <td>400</td>\n",
       "      <td>750</td>\n",
       "      <td>500</td>\n",
       "      <td>-9</td>\n",
       "      <td>3311.0</td>\n",
       "      <td>...</td>\n",
       "      <td>0</td>\n",
       "      <td>0</td>\n",
       "      <td>0</td>\n",
       "      <td>0</td>\n",
       "      <td>0</td>\n",
       "      <td>0</td>\n",
       "      <td>0</td>\n",
       "      <td>0</td>\n",
       "      <td>0</td>\n",
       "      <td>250</td>\n",
       "    </tr>\n",
       "    <tr>\n",
       "      <th>3</th>\n",
       "      <td>76.03125</td>\n",
       "      <td>1</td>\n",
       "      <td>4</td>\n",
       "      <td>4</td>\n",
       "      <td>391</td>\n",
       "      <td>400</td>\n",
       "      <td>750</td>\n",
       "      <td>500</td>\n",
       "      <td>-9</td>\n",
       "      <td>3111.0</td>\n",
       "      <td>...</td>\n",
       "      <td>0</td>\n",
       "      <td>0</td>\n",
       "      <td>0</td>\n",
       "      <td>0</td>\n",
       "      <td>0</td>\n",
       "      <td>0</td>\n",
       "      <td>0</td>\n",
       "      <td>0</td>\n",
       "      <td>0</td>\n",
       "      <td>250</td>\n",
       "    </tr>\n",
       "    <tr>\n",
       "      <th>5</th>\n",
       "      <td>114.96875</td>\n",
       "      <td>1</td>\n",
       "      <td>5</td>\n",
       "      <td>5</td>\n",
       "      <td>500</td>\n",
       "      <td>500</td>\n",
       "      <td>1750</td>\n",
       "      <td>10550</td>\n",
       "      <td>0</td>\n",
       "      <td>18450.0</td>\n",
       "      <td>...</td>\n",
       "      <td>0</td>\n",
       "      <td>0</td>\n",
       "      <td>0</td>\n",
       "      <td>0</td>\n",
       "      <td>0</td>\n",
       "      <td>1</td>\n",
       "      <td>0</td>\n",
       "      <td>1</td>\n",
       "      <td>0</td>\n",
       "      <td>-8800</td>\n",
       "    </tr>\n",
       "    <tr>\n",
       "      <th>6</th>\n",
       "      <td>94.96875</td>\n",
       "      <td>1</td>\n",
       "      <td>2</td>\n",
       "      <td>3</td>\n",
       "      <td>295</td>\n",
       "      <td>111</td>\n",
       "      <td>1700</td>\n",
       "      <td>5000</td>\n",
       "      <td>184</td>\n",
       "      <td>9224.0</td>\n",
       "      <td>...</td>\n",
       "      <td>0</td>\n",
       "      <td>0</td>\n",
       "      <td>0</td>\n",
       "      <td>0</td>\n",
       "      <td>0</td>\n",
       "      <td>1</td>\n",
       "      <td>0</td>\n",
       "      <td>1</td>\n",
       "      <td>1</td>\n",
       "      <td>-3300</td>\n",
       "    </tr>\n",
       "    <tr>\n",
       "      <th>7</th>\n",
       "      <td>74.96875</td>\n",
       "      <td>1</td>\n",
       "      <td>2</td>\n",
       "      <td>3</td>\n",
       "      <td>295</td>\n",
       "      <td>111</td>\n",
       "      <td>1700</td>\n",
       "      <td>5000</td>\n",
       "      <td>184</td>\n",
       "      <td>9224.0</td>\n",
       "      <td>...</td>\n",
       "      <td>0</td>\n",
       "      <td>0</td>\n",
       "      <td>0</td>\n",
       "      <td>0</td>\n",
       "      <td>0</td>\n",
       "      <td>1</td>\n",
       "      <td>0</td>\n",
       "      <td>1</td>\n",
       "      <td>1</td>\n",
       "      <td>-3300</td>\n",
       "    </tr>\n",
       "  </tbody>\n",
       "</table>\n",
       "<p>5 rows × 28 columns</p>\n",
       "</div>"
      ],
      "text/plain": [
       "   round_status_time_left  target  alive_players_t  alive_players_ct  \\\n",
       "2                96.03125       1                4                 4   \n",
       "3                76.03125       1                4                 4   \n",
       "5               114.96875       1                5                 5   \n",
       "6                94.96875       1                2                 3   \n",
       "7                74.96875       1                2                 3   \n",
       "\n",
       "   health_ct  health_t  money_ct  money_t  health_diff  total_value_ct  ...  \\\n",
       "2        391       400       750      500           -9          3311.0  ...   \n",
       "3        391       400       750      500           -9          3111.0  ...   \n",
       "5        500       500      1750    10550            0         18450.0  ...   \n",
       "6        295       111      1700     5000          184          9224.0  ...   \n",
       "7        295       111      1700     5000          184          9224.0  ...   \n",
       "\n",
       "   de_mirage  de_nuke  de_overpass  de_train  de_vertigo  ct_score  t_score  \\\n",
       "2          0        0            0         0           0         0        0   \n",
       "3          0        0            0         0           0         0        0   \n",
       "5          0        0            0         0           0         1        0   \n",
       "6          0        0            0         0           0         1        0   \n",
       "7          0        0            0         0           0         1        0   \n",
       "\n",
       "   score_diff  player_diff  money_diff  \n",
       "2           0            0         250  \n",
       "3           0            0         250  \n",
       "5           1            0       -8800  \n",
       "6           1            1       -3300  \n",
       "7           1            1       -3300  \n",
       "\n",
       "[5 rows x 28 columns]"
      ]
     },
     "execution_count": 45,
     "metadata": {},
     "output_type": "execute_result"
    }
   ],
   "source": [
    "df.head()"
   ]
  },
  {
   "cell_type": "code",
   "execution_count": 46,
   "metadata": {
    "ExecuteTime": {
     "end_time": "2020-06-12T15:08:19.209282Z",
     "start_time": "2020-06-12T15:08:19.127522Z"
    }
   },
   "outputs": [
    {
     "data": {
      "text/html": [
       "<div>\n",
       "<style scoped>\n",
       "    .dataframe tbody tr th:only-of-type {\n",
       "        vertical-align: middle;\n",
       "    }\n",
       "\n",
       "    .dataframe tbody tr th {\n",
       "        vertical-align: top;\n",
       "    }\n",
       "\n",
       "    .dataframe thead th {\n",
       "        text-align: right;\n",
       "    }\n",
       "</style>\n",
       "<table border=\"1\" class=\"dataframe\">\n",
       "  <thead>\n",
       "    <tr style=\"text-align: right;\">\n",
       "      <th></th>\n",
       "      <th>round_status_time_left</th>\n",
       "      <th>target</th>\n",
       "      <th>alive_players_t</th>\n",
       "      <th>alive_players_ct</th>\n",
       "      <th>health_ct</th>\n",
       "      <th>health_t</th>\n",
       "      <th>money_ct</th>\n",
       "      <th>money_t</th>\n",
       "      <th>health_diff</th>\n",
       "      <th>total_value_ct</th>\n",
       "      <th>...</th>\n",
       "      <th>de_mirage</th>\n",
       "      <th>de_nuke</th>\n",
       "      <th>de_overpass</th>\n",
       "      <th>de_train</th>\n",
       "      <th>de_vertigo</th>\n",
       "      <th>ct_score</th>\n",
       "      <th>t_score</th>\n",
       "      <th>score_diff</th>\n",
       "      <th>player_diff</th>\n",
       "      <th>money_diff</th>\n",
       "    </tr>\n",
       "  </thead>\n",
       "  <tbody>\n",
       "    <tr>\n",
       "      <th>count</th>\n",
       "      <td>64296.000000</td>\n",
       "      <td>64296.000000</td>\n",
       "      <td>64296.000000</td>\n",
       "      <td>64296.000000</td>\n",
       "      <td>64296.000000</td>\n",
       "      <td>64296.000000</td>\n",
       "      <td>64296.000000</td>\n",
       "      <td>64296.000000</td>\n",
       "      <td>64296.000000</td>\n",
       "      <td>64296.000000</td>\n",
       "      <td>...</td>\n",
       "      <td>64296.000000</td>\n",
       "      <td>64296.000000</td>\n",
       "      <td>64296.000000</td>\n",
       "      <td>64296.000000</td>\n",
       "      <td>64296.000000</td>\n",
       "      <td>64296.000000</td>\n",
       "      <td>64296.000000</td>\n",
       "      <td>64296.000000</td>\n",
       "      <td>64296.000000</td>\n",
       "      <td>64296.000000</td>\n",
       "    </tr>\n",
       "    <tr>\n",
       "      <th>mean</th>\n",
       "      <td>69.179673</td>\n",
       "      <td>0.481072</td>\n",
       "      <td>3.979174</td>\n",
       "      <td>3.996438</td>\n",
       "      <td>378.406853</td>\n",
       "      <td>365.051667</td>\n",
       "      <td>7383.410321</td>\n",
       "      <td>8739.607441</td>\n",
       "      <td>13.355185</td>\n",
       "      <td>16938.800058</td>\n",
       "      <td>...</td>\n",
       "      <td>0.146914</td>\n",
       "      <td>0.132668</td>\n",
       "      <td>0.137582</td>\n",
       "      <td>0.097813</td>\n",
       "      <td>0.097191</td>\n",
       "      <td>6.741259</td>\n",
       "      <td>6.841965</td>\n",
       "      <td>-0.100706</td>\n",
       "      <td>0.017264</td>\n",
       "      <td>-1356.197120</td>\n",
       "    </tr>\n",
       "    <tr>\n",
       "      <th>std</th>\n",
       "      <td>33.452756</td>\n",
       "      <td>0.499645</td>\n",
       "      <td>1.345496</td>\n",
       "      <td>1.317267</td>\n",
       "      <td>142.081558</td>\n",
       "      <td>148.858765</td>\n",
       "      <td>9268.642746</td>\n",
       "      <td>10333.622006</td>\n",
       "      <td>111.935436</td>\n",
       "      <td>9615.116000</td>\n",
       "      <td>...</td>\n",
       "      <td>0.354023</td>\n",
       "      <td>0.339218</td>\n",
       "      <td>0.344464</td>\n",
       "      <td>0.297064</td>\n",
       "      <td>0.296220</td>\n",
       "      <td>4.952320</td>\n",
       "      <td>4.900350</td>\n",
       "      <td>4.073882</td>\n",
       "      <td>1.239604</td>\n",
       "      <td>13380.118626</td>\n",
       "    </tr>\n",
       "    <tr>\n",
       "      <th>min</th>\n",
       "      <td>0.007812</td>\n",
       "      <td>0.000000</td>\n",
       "      <td>0.000000</td>\n",
       "      <td>1.000000</td>\n",
       "      <td>1.000000</td>\n",
       "      <td>0.000000</td>\n",
       "      <td>0.000000</td>\n",
       "      <td>0.000000</td>\n",
       "      <td>-475.000000</td>\n",
       "      <td>200.000000</td>\n",
       "      <td>...</td>\n",
       "      <td>0.000000</td>\n",
       "      <td>0.000000</td>\n",
       "      <td>0.000000</td>\n",
       "      <td>0.000000</td>\n",
       "      <td>0.000000</td>\n",
       "      <td>0.000000</td>\n",
       "      <td>0.000000</td>\n",
       "      <td>-15.000000</td>\n",
       "      <td>-4.000000</td>\n",
       "      <td>-65750.000000</td>\n",
       "    </tr>\n",
       "    <tr>\n",
       "      <th>25%</th>\n",
       "      <td>35.107422</td>\n",
       "      <td>0.000000</td>\n",
       "      <td>3.000000</td>\n",
       "      <td>3.000000</td>\n",
       "      <td>291.000000</td>\n",
       "      <td>263.000000</td>\n",
       "      <td>900.000000</td>\n",
       "      <td>1200.000000</td>\n",
       "      <td>-21.000000</td>\n",
       "      <td>8144.000000</td>\n",
       "      <td>...</td>\n",
       "      <td>0.000000</td>\n",
       "      <td>0.000000</td>\n",
       "      <td>0.000000</td>\n",
       "      <td>0.000000</td>\n",
       "      <td>0.000000</td>\n",
       "      <td>3.000000</td>\n",
       "      <td>3.000000</td>\n",
       "      <td>-3.000000</td>\n",
       "      <td>0.000000</td>\n",
       "      <td>-7500.000000</td>\n",
       "    </tr>\n",
       "    <tr>\n",
       "      <th>50%</th>\n",
       "      <td>74.914060</td>\n",
       "      <td>0.000000</td>\n",
       "      <td>5.000000</td>\n",
       "      <td>5.000000</td>\n",
       "      <td>434.000000</td>\n",
       "      <td>400.000000</td>\n",
       "      <td>3900.000000</td>\n",
       "      <td>4950.000000</td>\n",
       "      <td>0.000000</td>\n",
       "      <td>17937.000000</td>\n",
       "      <td>...</td>\n",
       "      <td>0.000000</td>\n",
       "      <td>0.000000</td>\n",
       "      <td>0.000000</td>\n",
       "      <td>0.000000</td>\n",
       "      <td>0.000000</td>\n",
       "      <td>6.000000</td>\n",
       "      <td>6.000000</td>\n",
       "      <td>0.000000</td>\n",
       "      <td>0.000000</td>\n",
       "      <td>-400.000000</td>\n",
       "    </tr>\n",
       "    <tr>\n",
       "      <th>75%</th>\n",
       "      <td>94.945310</td>\n",
       "      <td>1.000000</td>\n",
       "      <td>5.000000</td>\n",
       "      <td>5.000000</td>\n",
       "      <td>500.000000</td>\n",
       "      <td>500.000000</td>\n",
       "      <td>10650.000000</td>\n",
       "      <td>12100.000000</td>\n",
       "      <td>64.000000</td>\n",
       "      <td>25648.000000</td>\n",
       "      <td>...</td>\n",
       "      <td>0.000000</td>\n",
       "      <td>0.000000</td>\n",
       "      <td>0.000000</td>\n",
       "      <td>0.000000</td>\n",
       "      <td>0.000000</td>\n",
       "      <td>10.000000</td>\n",
       "      <td>10.000000</td>\n",
       "      <td>2.000000</td>\n",
       "      <td>0.000000</td>\n",
       "      <td>4650.000000</td>\n",
       "    </tr>\n",
       "    <tr>\n",
       "      <th>max</th>\n",
       "      <td>115.000000</td>\n",
       "      <td>1.000000</td>\n",
       "      <td>5.000000</td>\n",
       "      <td>5.000000</td>\n",
       "      <td>500.000000</td>\n",
       "      <td>500.000000</td>\n",
       "      <td>68650.000000</td>\n",
       "      <td>68300.000000</td>\n",
       "      <td>500.000000</td>\n",
       "      <td>39198.500000</td>\n",
       "      <td>...</td>\n",
       "      <td>1.000000</td>\n",
       "      <td>1.000000</td>\n",
       "      <td>1.000000</td>\n",
       "      <td>1.000000</td>\n",
       "      <td>1.000000</td>\n",
       "      <td>32.000000</td>\n",
       "      <td>33.000000</td>\n",
       "      <td>14.000000</td>\n",
       "      <td>5.000000</td>\n",
       "      <td>68000.000000</td>\n",
       "    </tr>\n",
       "  </tbody>\n",
       "</table>\n",
       "<p>8 rows × 28 columns</p>\n",
       "</div>"
      ],
      "text/plain": [
       "       round_status_time_left        target  alive_players_t  \\\n",
       "count            64296.000000  64296.000000     64296.000000   \n",
       "mean                69.179673      0.481072         3.979174   \n",
       "std                 33.452756      0.499645         1.345496   \n",
       "min                  0.007812      0.000000         0.000000   \n",
       "25%                 35.107422      0.000000         3.000000   \n",
       "50%                 74.914060      0.000000         5.000000   \n",
       "75%                 94.945310      1.000000         5.000000   \n",
       "max                115.000000      1.000000         5.000000   \n",
       "\n",
       "       alive_players_ct     health_ct      health_t      money_ct  \\\n",
       "count      64296.000000  64296.000000  64296.000000  64296.000000   \n",
       "mean           3.996438    378.406853    365.051667   7383.410321   \n",
       "std            1.317267    142.081558    148.858765   9268.642746   \n",
       "min            1.000000      1.000000      0.000000      0.000000   \n",
       "25%            3.000000    291.000000    263.000000    900.000000   \n",
       "50%            5.000000    434.000000    400.000000   3900.000000   \n",
       "75%            5.000000    500.000000    500.000000  10650.000000   \n",
       "max            5.000000    500.000000    500.000000  68650.000000   \n",
       "\n",
       "            money_t   health_diff  total_value_ct  ...     de_mirage  \\\n",
       "count  64296.000000  64296.000000    64296.000000  ...  64296.000000   \n",
       "mean    8739.607441     13.355185    16938.800058  ...      0.146914   \n",
       "std    10333.622006    111.935436     9615.116000  ...      0.354023   \n",
       "min        0.000000   -475.000000      200.000000  ...      0.000000   \n",
       "25%     1200.000000    -21.000000     8144.000000  ...      0.000000   \n",
       "50%     4950.000000      0.000000    17937.000000  ...      0.000000   \n",
       "75%    12100.000000     64.000000    25648.000000  ...      0.000000   \n",
       "max    68300.000000    500.000000    39198.500000  ...      1.000000   \n",
       "\n",
       "            de_nuke   de_overpass      de_train    de_vertigo      ct_score  \\\n",
       "count  64296.000000  64296.000000  64296.000000  64296.000000  64296.000000   \n",
       "mean       0.132668      0.137582      0.097813      0.097191      6.741259   \n",
       "std        0.339218      0.344464      0.297064      0.296220      4.952320   \n",
       "min        0.000000      0.000000      0.000000      0.000000      0.000000   \n",
       "25%        0.000000      0.000000      0.000000      0.000000      3.000000   \n",
       "50%        0.000000      0.000000      0.000000      0.000000      6.000000   \n",
       "75%        0.000000      0.000000      0.000000      0.000000     10.000000   \n",
       "max        1.000000      1.000000      1.000000      1.000000     32.000000   \n",
       "\n",
       "            t_score    score_diff   player_diff    money_diff  \n",
       "count  64296.000000  64296.000000  64296.000000  64296.000000  \n",
       "mean       6.841965     -0.100706      0.017264  -1356.197120  \n",
       "std        4.900350      4.073882      1.239604  13380.118626  \n",
       "min        0.000000    -15.000000     -4.000000 -65750.000000  \n",
       "25%        3.000000     -3.000000      0.000000  -7500.000000  \n",
       "50%        6.000000      0.000000      0.000000   -400.000000  \n",
       "75%       10.000000      2.000000      0.000000   4650.000000  \n",
       "max       33.000000     14.000000      5.000000  68000.000000  \n",
       "\n",
       "[8 rows x 28 columns]"
      ]
     },
     "execution_count": 46,
     "metadata": {},
     "output_type": "execute_result"
    }
   ],
   "source": [
    "df.describe()"
   ]
  },
  {
   "cell_type": "code",
   "execution_count": 47,
   "metadata": {
    "ExecuteTime": {
     "end_time": "2020-06-12T15:08:19.212772Z",
     "start_time": "2020-06-12T15:08:19.210303Z"
    }
   },
   "outputs": [
    {
     "data": {
      "text/plain": [
       "(64296, 28)"
      ]
     },
     "execution_count": 47,
     "metadata": {},
     "output_type": "execute_result"
    }
   ],
   "source": [
    "df.shape"
   ]
  },
  {
   "cell_type": "code",
   "execution_count": 48,
   "metadata": {
    "ExecuteTime": {
     "end_time": "2020-06-12T15:08:19.228633Z",
     "start_time": "2020-06-12T15:08:19.213731Z"
    }
   },
   "outputs": [],
   "source": [
    "# pair_plot = sns.pairplot(df, hue = 'target')\n",
    "# pair_plot.savefig('csgo_pair')\n"
   ]
  },
  {
   "cell_type": "code",
   "execution_count": 49,
   "metadata": {
    "ExecuteTime": {
     "end_time": "2020-06-12T15:08:19.340857Z",
     "start_time": "2020-06-12T15:08:19.229549Z"
    }
   },
   "outputs": [
    {
     "data": {
      "text/plain": [
       "array([[<matplotlib.axes._subplots.AxesSubplot object at 0x7fe8b3566090>]],\n",
       "      dtype=object)"
      ]
     },
     "execution_count": 49,
     "metadata": {},
     "output_type": "execute_result"
    },
    {
     "data": {
      "image/png": "[encoded data removed]",
      "text/plain": [
       "<Figure size 432x288 with 1 Axes>"
      ]
     },
     "metadata": {
      "needs_background": "light"
     },
     "output_type": "display_data"
    }
   ],
   "source": [
    "df.hist('target')"
   ]
  },
  {
   "cell_type": "code",
   "execution_count": 50,
   "metadata": {
    "ExecuteTime": {
     "end_time": "2020-06-12T15:08:19.362464Z",
     "start_time": "2020-06-12T15:08:19.341809Z"
    }
   },
   "outputs": [
    {
     "data": {
      "text/html": [
       "<div>\n",
       "<style scoped>\n",
       "    .dataframe tbody tr th:only-of-type {\n",
       "        vertical-align: middle;\n",
       "    }\n",
       "\n",
       "    .dataframe tbody tr th {\n",
       "        vertical-align: top;\n",
       "    }\n",
       "\n",
       "    .dataframe thead th {\n",
       "        text-align: right;\n",
       "    }\n",
       "</style>\n",
       "<table border=\"1\" class=\"dataframe\">\n",
       "  <thead>\n",
       "    <tr style=\"text-align: right;\">\n",
       "      <th></th>\n",
       "      <th>round_status_time_left</th>\n",
       "      <th>alive_players_t</th>\n",
       "      <th>alive_players_ct</th>\n",
       "      <th>health_ct</th>\n",
       "      <th>health_t</th>\n",
       "      <th>money_ct</th>\n",
       "      <th>money_t</th>\n",
       "      <th>health_diff</th>\n",
       "      <th>total_value_ct</th>\n",
       "      <th>total_value_t</th>\n",
       "      <th>...</th>\n",
       "      <th>de_mirage</th>\n",
       "      <th>de_nuke</th>\n",
       "      <th>de_overpass</th>\n",
       "      <th>de_train</th>\n",
       "      <th>de_vertigo</th>\n",
       "      <th>ct_score</th>\n",
       "      <th>t_score</th>\n",
       "      <th>score_diff</th>\n",
       "      <th>player_diff</th>\n",
       "      <th>money_diff</th>\n",
       "    </tr>\n",
       "    <tr>\n",
       "      <th>target</th>\n",
       "      <th></th>\n",
       "      <th></th>\n",
       "      <th></th>\n",
       "      <th></th>\n",
       "      <th></th>\n",
       "      <th></th>\n",
       "      <th></th>\n",
       "      <th></th>\n",
       "      <th></th>\n",
       "      <th></th>\n",
       "      <th></th>\n",
       "      <th></th>\n",
       "      <th></th>\n",
       "      <th></th>\n",
       "      <th></th>\n",
       "      <th></th>\n",
       "      <th></th>\n",
       "      <th></th>\n",
       "      <th></th>\n",
       "      <th></th>\n",
       "      <th></th>\n",
       "    </tr>\n",
       "  </thead>\n",
       "  <tbody>\n",
       "    <tr>\n",
       "      <th>0</th>\n",
       "      <td>66.053650</td>\n",
       "      <td>4.233149</td>\n",
       "      <td>3.668755</td>\n",
       "      <td>347.116020</td>\n",
       "      <td>384.639143</td>\n",
       "      <td>6283.581597</td>\n",
       "      <td>9788.483441</td>\n",
       "      <td>-37.523123</td>\n",
       "      <td>13716.048134</td>\n",
       "      <td>17845.644268</td>\n",
       "      <td>...</td>\n",
       "      <td>0.144822</td>\n",
       "      <td>0.119796</td>\n",
       "      <td>0.133433</td>\n",
       "      <td>0.087936</td>\n",
       "      <td>0.099475</td>\n",
       "      <td>6.448704</td>\n",
       "      <td>6.834797</td>\n",
       "      <td>-0.386093</td>\n",
       "      <td>-0.564394</td>\n",
       "      <td>-3504.901843</td>\n",
       "    </tr>\n",
       "    <tr>\n",
       "      <th>1</th>\n",
       "      <td>72.551687</td>\n",
       "      <td>3.705215</td>\n",
       "      <td>4.349908</td>\n",
       "      <td>412.160001</td>\n",
       "      <td>343.922828</td>\n",
       "      <td>8569.785975</td>\n",
       "      <td>7608.194045</td>\n",
       "      <td>68.237173</td>\n",
       "      <td>20415.154457</td>\n",
       "      <td>13503.029808</td>\n",
       "      <td>...</td>\n",
       "      <td>0.149171</td>\n",
       "      <td>0.146552</td>\n",
       "      <td>0.142058</td>\n",
       "      <td>0.108467</td>\n",
       "      <td>0.094727</td>\n",
       "      <td>7.056836</td>\n",
       "      <td>6.849698</td>\n",
       "      <td>0.207138</td>\n",
       "      <td>0.644693</td>\n",
       "      <td>961.591930</td>\n",
       "    </tr>\n",
       "  </tbody>\n",
       "</table>\n",
       "<p>2 rows × 27 columns</p>\n",
       "</div>"
      ],
      "text/plain": [
       "        round_status_time_left  alive_players_t  alive_players_ct   health_ct  \\\n",
       "target                                                                          \n",
       "0                    66.053650         4.233149          3.668755  347.116020   \n",
       "1                    72.551687         3.705215          4.349908  412.160001   \n",
       "\n",
       "          health_t     money_ct      money_t  health_diff  total_value_ct  \\\n",
       "target                                                                      \n",
       "0       384.639143  6283.581597  9788.483441   -37.523123    13716.048134   \n",
       "1       343.922828  8569.785975  7608.194045    68.237173    20415.154457   \n",
       "\n",
       "        total_value_t  ...  de_mirage   de_nuke  de_overpass  de_train  \\\n",
       "target                 ...                                               \n",
       "0        17845.644268  ...   0.144822  0.119796     0.133433  0.087936   \n",
       "1        13503.029808  ...   0.149171  0.146552     0.142058  0.108467   \n",
       "\n",
       "        de_vertigo  ct_score   t_score  score_diff  player_diff   money_diff  \n",
       "target                                                                        \n",
       "0         0.099475  6.448704  6.834797   -0.386093    -0.564394 -3504.901843  \n",
       "1         0.094727  7.056836  6.849698    0.207138     0.644693   961.591930  \n",
       "\n",
       "[2 rows x 27 columns]"
      ]
     },
     "execution_count": 50,
     "metadata": {},
     "output_type": "execute_result"
    }
   ],
   "source": [
    "df.groupby('target').mean()"
   ]
  },
  {
   "cell_type": "code",
   "execution_count": 51,
   "metadata": {
    "ExecuteTime": {
     "end_time": "2020-06-12T15:08:19.366027Z",
     "start_time": "2020-06-12T15:08:19.363464Z"
    }
   },
   "outputs": [
    {
     "data": {
      "text/plain": [
       "Index(['round_status_time_left', 'target', 'alive_players_t',\n",
       "       'alive_players_ct', 'health_ct', 'health_t', 'money_ct', 'money_t',\n",
       "       'health_diff', 'total_value_ct', 'total_value_t', 'ct_utility',\n",
       "       't_utility', 'util_diff', 'value_diff', 'de_cache', 'de_dust2',\n",
       "       'de_inferno', 'de_mirage', 'de_nuke', 'de_overpass', 'de_train',\n",
       "       'de_vertigo', 'ct_score', 't_score', 'score_diff', 'player_diff',\n",
       "       'money_diff'],\n",
       "      dtype='object')"
      ]
     },
     "execution_count": 51,
     "metadata": {},
     "output_type": "execute_result"
    }
   ],
   "source": [
    "df.columns"
   ]
  },
  {
   "cell_type": "code",
   "execution_count": 53,
   "metadata": {
    "ExecuteTime": {
     "end_time": "2020-06-12T15:08:19.402356Z",
     "start_time": "2020-06-12T15:08:19.382460Z"
    }
   },
   "outputs": [],
   "source": [
    "df['player_diff^1/2'] = df['player_diff'] ** (1/2)\n",
    "\n",
    "df = df.fillna(0)\n"
   ]
  },
  {
   "cell_type": "markdown",
   "metadata": {},
   "source": [
    "## Modeling"
   ]
  },
  {
   "cell_type": "code",
   "execution_count": 55,
   "metadata": {
    "ExecuteTime": {
     "end_time": "2020-06-12T15:08:19.432608Z",
     "start_time": "2020-06-12T15:08:19.419177Z"
    }
   },
   "outputs": [],
   "source": [
    "X, y = df.drop(['target', 'alive_players_ct', 'alive_players_t',\n",
    "                'health_t','health_ct','t_utility','ct_utility'], axis = 1), df.target\n"
   ]
  },
  {
   "cell_type": "code",
   "execution_count": 56,
   "metadata": {
    "ExecuteTime": {
     "end_time": "2020-06-12T15:08:19.455467Z",
     "start_time": "2020-06-12T15:08:19.434910Z"
    }
   },
   "outputs": [],
   "source": [
    "X_train, X_test, y_train, y_test = train_test_split(X, y, test_size = 0.25, random_state = 42)\n"
   ]
  },
  {
   "cell_type": "code",
   "execution_count": 57,
   "metadata": {
    "ExecuteTime": {
     "end_time": "2020-06-12T15:08:19.467515Z",
     "start_time": "2020-06-12T15:08:19.456513Z"
    }
   },
   "outputs": [
    {
     "data": {
      "text/plain": [
       "47916    0\n",
       "57089    1\n",
       "35457    1\n",
       "9341     0\n",
       "45015    1\n",
       "        ..\n",
       "45864    0\n",
       "14335    0\n",
       "36709    1\n",
       "5615     0\n",
       "18308    1\n",
       "Name: target, Length: 16074, dtype: int64"
      ]
     },
     "execution_count": 57,
     "metadata": {},
     "output_type": "execute_result"
    }
   ],
   "source": [
    "y_test"
   ]
  },
  {
   "cell_type": "code",
   "execution_count": 58,
   "metadata": {
    "ExecuteTime": {
     "end_time": "2020-06-12T15:08:19.486306Z",
     "start_time": "2020-06-12T15:08:19.468375Z"
    }
   },
   "outputs": [
    {
     "data": {
      "text/plain": [
       "0.5275600348388703"
      ]
     },
     "execution_count": 58,
     "metadata": {},
     "output_type": "execute_result"
    }
   ],
   "source": [
    "accuracy_score(y_test,np.array([0]*len(X_test)))"
   ]
  },
  {
   "cell_type": "code",
   "execution_count": 59,
   "metadata": {
    "ExecuteTime": {
     "end_time": "2020-06-12T15:08:19.501327Z",
     "start_time": "2020-06-12T15:08:19.487308Z"
    }
   },
   "outputs": [
    {
     "data": {
      "text/plain": [
       "(48222, 22)"
      ]
     },
     "execution_count": 59,
     "metadata": {},
     "output_type": "execute_result"
    }
   ],
   "source": [
    "X_train.shape"
   ]
  },
  {
   "cell_type": "code",
   "execution_count": 60,
   "metadata": {
    "ExecuteTime": {
     "end_time": "2020-06-12T15:08:19.527400Z",
     "start_time": "2020-06-12T15:08:19.502366Z"
    }
   },
   "outputs": [
    {
     "data": {
      "text/html": [
       "<div>\n",
       "<style scoped>\n",
       "    .dataframe tbody tr th:only-of-type {\n",
       "        vertical-align: middle;\n",
       "    }\n",
       "\n",
       "    .dataframe tbody tr th {\n",
       "        vertical-align: top;\n",
       "    }\n",
       "\n",
       "    .dataframe thead th {\n",
       "        text-align: right;\n",
       "    }\n",
       "</style>\n",
       "<table border=\"1\" class=\"dataframe\">\n",
       "  <thead>\n",
       "    <tr style=\"text-align: right;\">\n",
       "      <th></th>\n",
       "      <th>round_status_time_left</th>\n",
       "      <th>money_ct</th>\n",
       "      <th>money_t</th>\n",
       "      <th>health_diff</th>\n",
       "      <th>total_value_ct</th>\n",
       "      <th>total_value_t</th>\n",
       "      <th>util_diff</th>\n",
       "      <th>value_diff</th>\n",
       "      <th>de_cache</th>\n",
       "      <th>de_dust2</th>\n",
       "      <th>...</th>\n",
       "      <th>de_nuke</th>\n",
       "      <th>de_overpass</th>\n",
       "      <th>de_train</th>\n",
       "      <th>de_vertigo</th>\n",
       "      <th>ct_score</th>\n",
       "      <th>t_score</th>\n",
       "      <th>score_diff</th>\n",
       "      <th>player_diff</th>\n",
       "      <th>money_diff</th>\n",
       "      <th>player_diff^1/2</th>\n",
       "    </tr>\n",
       "  </thead>\n",
       "  <tbody>\n",
       "    <tr>\n",
       "      <th>79398</th>\n",
       "      <td>86.843750</td>\n",
       "      <td>12750</td>\n",
       "      <td>3850</td>\n",
       "      <td>-1</td>\n",
       "      <td>24008.0</td>\n",
       "      <td>24550.0</td>\n",
       "      <td>2</td>\n",
       "      <td>-542.0</td>\n",
       "      <td>0</td>\n",
       "      <td>0</td>\n",
       "      <td>...</td>\n",
       "      <td>0</td>\n",
       "      <td>0</td>\n",
       "      <td>1</td>\n",
       "      <td>0</td>\n",
       "      <td>2</td>\n",
       "      <td>0</td>\n",
       "      <td>2</td>\n",
       "      <td>0</td>\n",
       "      <td>8900</td>\n",
       "      <td>0.000000</td>\n",
       "    </tr>\n",
       "    <tr>\n",
       "      <th>49354</th>\n",
       "      <td>16.312500</td>\n",
       "      <td>50</td>\n",
       "      <td>1650</td>\n",
       "      <td>-84</td>\n",
       "      <td>6300.0</td>\n",
       "      <td>16685.0</td>\n",
       "      <td>2</td>\n",
       "      <td>-10385.0</td>\n",
       "      <td>0</td>\n",
       "      <td>1</td>\n",
       "      <td>...</td>\n",
       "      <td>0</td>\n",
       "      <td>0</td>\n",
       "      <td>0</td>\n",
       "      <td>0</td>\n",
       "      <td>0</td>\n",
       "      <td>1</td>\n",
       "      <td>-1</td>\n",
       "      <td>-2</td>\n",
       "      <td>-1600</td>\n",
       "      <td>0.000000</td>\n",
       "    </tr>\n",
       "    <tr>\n",
       "      <th>54582</th>\n",
       "      <td>34.945312</td>\n",
       "      <td>1650</td>\n",
       "      <td>9400</td>\n",
       "      <td>140</td>\n",
       "      <td>14000.0</td>\n",
       "      <td>10591.5</td>\n",
       "      <td>3</td>\n",
       "      <td>3408.5</td>\n",
       "      <td>0</td>\n",
       "      <td>0</td>\n",
       "      <td>...</td>\n",
       "      <td>0</td>\n",
       "      <td>0</td>\n",
       "      <td>0</td>\n",
       "      <td>0</td>\n",
       "      <td>7</td>\n",
       "      <td>13</td>\n",
       "      <td>-6</td>\n",
       "      <td>1</td>\n",
       "      <td>-7750</td>\n",
       "      <td>1.000000</td>\n",
       "    </tr>\n",
       "    <tr>\n",
       "      <th>46224</th>\n",
       "      <td>14.921875</td>\n",
       "      <td>15400</td>\n",
       "      <td>5200</td>\n",
       "      <td>162</td>\n",
       "      <td>20848.0</td>\n",
       "      <td>4767.5</td>\n",
       "      <td>1</td>\n",
       "      <td>16080.5</td>\n",
       "      <td>0</td>\n",
       "      <td>0</td>\n",
       "      <td>...</td>\n",
       "      <td>1</td>\n",
       "      <td>0</td>\n",
       "      <td>0</td>\n",
       "      <td>0</td>\n",
       "      <td>15</td>\n",
       "      <td>18</td>\n",
       "      <td>-3</td>\n",
       "      <td>3</td>\n",
       "      <td>10200</td>\n",
       "      <td>1.732051</td>\n",
       "    </tr>\n",
       "    <tr>\n",
       "      <th>52516</th>\n",
       "      <td>94.945310</td>\n",
       "      <td>0</td>\n",
       "      <td>9250</td>\n",
       "      <td>-178</td>\n",
       "      <td>14524.0</td>\n",
       "      <td>24347.0</td>\n",
       "      <td>-4</td>\n",
       "      <td>-9823.0</td>\n",
       "      <td>0</td>\n",
       "      <td>0</td>\n",
       "      <td>...</td>\n",
       "      <td>0</td>\n",
       "      <td>0</td>\n",
       "      <td>0</td>\n",
       "      <td>0</td>\n",
       "      <td>7</td>\n",
       "      <td>5</td>\n",
       "      <td>2</td>\n",
       "      <td>-2</td>\n",
       "      <td>-9250</td>\n",
       "      <td>0.000000</td>\n",
       "    </tr>\n",
       "  </tbody>\n",
       "</table>\n",
       "<p>5 rows × 22 columns</p>\n",
       "</div>"
      ],
      "text/plain": [
       "       round_status_time_left  money_ct  money_t  health_diff  total_value_ct  \\\n",
       "79398               86.843750     12750     3850           -1         24008.0   \n",
       "49354               16.312500        50     1650          -84          6300.0   \n",
       "54582               34.945312      1650     9400          140         14000.0   \n",
       "46224               14.921875     15400     5200          162         20848.0   \n",
       "52516               94.945310         0     9250         -178         14524.0   \n",
       "\n",
       "       total_value_t  util_diff  value_diff  de_cache  de_dust2  ...  de_nuke  \\\n",
       "79398        24550.0          2      -542.0         0         0  ...        0   \n",
       "49354        16685.0          2    -10385.0         0         1  ...        0   \n",
       "54582        10591.5          3      3408.5         0         0  ...        0   \n",
       "46224         4767.5          1     16080.5         0         0  ...        1   \n",
       "52516        24347.0         -4     -9823.0         0         0  ...        0   \n",
       "\n",
       "       de_overpass  de_train  de_vertigo  ct_score  t_score  score_diff  \\\n",
       "79398            0         1           0         2        0           2   \n",
       "49354            0         0           0         0        1          -1   \n",
       "54582            0         0           0         7       13          -6   \n",
       "46224            0         0           0        15       18          -3   \n",
       "52516            0         0           0         7        5           2   \n",
       "\n",
       "       player_diff  money_diff  player_diff^1/2  \n",
       "79398            0        8900         0.000000  \n",
       "49354           -2       -1600         0.000000  \n",
       "54582            1       -7750         1.000000  \n",
       "46224            3       10200         1.732051  \n",
       "52516           -2       -9250         0.000000  \n",
       "\n",
       "[5 rows x 22 columns]"
      ]
     },
     "execution_count": 60,
     "metadata": {},
     "output_type": "execute_result"
    }
   ],
   "source": [
    "X_train.head()"
   ]
  },
  {
   "cell_type": "code",
   "execution_count": 61,
   "metadata": {
    "ExecuteTime": {
     "end_time": "2020-06-12T15:08:19.543869Z",
     "start_time": "2020-06-12T15:08:19.528321Z"
    }
   },
   "outputs": [
    {
     "data": {
      "text/plain": [
       "(48222,)"
      ]
     },
     "execution_count": 61,
     "metadata": {},
     "output_type": "execute_result"
    }
   ],
   "source": [
    "y_train.shape"
   ]
  },
  {
   "cell_type": "code",
   "execution_count": 62,
   "metadata": {
    "ExecuteTime": {
     "end_time": "2020-06-12T15:08:19.561569Z",
     "start_time": "2020-06-12T15:08:19.545018Z"
    }
   },
   "outputs": [
    {
     "data": {
      "text/plain": [
       "79398    0\n",
       "49354    0\n",
       "54582    1\n",
       "46224    1\n",
       "52516    0\n",
       "        ..\n",
       "84934    1\n",
       "51963    1\n",
       "1155     0\n",
       "21526    1\n",
       "76630    0\n",
       "Name: target, Length: 48222, dtype: int64"
      ]
     },
     "execution_count": 62,
     "metadata": {},
     "output_type": "execute_result"
    }
   ],
   "source": [
    "y_train"
   ]
  },
  {
   "cell_type": "code",
   "execution_count": 63,
   "metadata": {
    "ExecuteTime": {
     "end_time": "2020-06-12T15:08:19.577458Z",
     "start_time": "2020-06-12T15:08:19.562437Z"
    }
   },
   "outputs": [],
   "source": [
    "# std = StandardScaler()\n",
    "# std.fit(X_train.values)\n",
    "# X_tr = std.transform(X_train.values)"
   ]
  },
  {
   "cell_type": "code",
   "execution_count": 64,
   "metadata": {
    "ExecuteTime": {
     "end_time": "2020-06-12T15:08:19.601016Z",
     "start_time": "2020-06-12T15:08:19.578418Z"
    }
   },
   "outputs": [
    {
     "name": "stdout",
     "output_type": "stream",
     "text": [
      "<class 'pandas.core.frame.DataFrame'>\n",
      "Int64Index: 48222 entries, 79398 to 76630\n",
      "Data columns (total 22 columns):\n",
      " #   Column                  Non-Null Count  Dtype  \n",
      "---  ------                  --------------  -----  \n",
      " 0   round_status_time_left  48222 non-null  float64\n",
      " 1   money_ct                48222 non-null  int64  \n",
      " 2   money_t                 48222 non-null  int64  \n",
      " 3   health_diff             48222 non-null  int64  \n",
      " 4   total_value_ct          48222 non-null  float64\n",
      " 5   total_value_t           48222 non-null  float64\n",
      " 6   util_diff               48222 non-null  int64  \n",
      " 7   value_diff              48222 non-null  float64\n",
      " 8   de_cache                48222 non-null  uint8  \n",
      " 9   de_dust2                48222 non-null  uint8  \n",
      " 10  de_inferno              48222 non-null  uint8  \n",
      " 11  de_mirage               48222 non-null  uint8  \n",
      " 12  de_nuke                 48222 non-null  uint8  \n",
      " 13  de_overpass             48222 non-null  uint8  \n",
      " 14  de_train                48222 non-null  uint8  \n",
      " 15  de_vertigo              48222 non-null  uint8  \n",
      " 16  ct_score                48222 non-null  int64  \n",
      " 17  t_score                 48222 non-null  int64  \n",
      " 18  score_diff              48222 non-null  int64  \n",
      " 19  player_diff             48222 non-null  int64  \n",
      " 20  money_diff              48222 non-null  int64  \n",
      " 21  player_diff^1/2         48222 non-null  float64\n",
      "dtypes: float64(5), int64(9), uint8(8)\n",
      "memory usage: 5.9 MB\n"
     ]
    }
   ],
   "source": [
    "X_train.info()"
   ]
  },
  {
   "cell_type": "code",
   "execution_count": 66,
   "metadata": {
    "ExecuteTime": {
     "end_time": "2020-06-12T15:08:38.648400Z",
     "start_time": "2020-06-12T15:08:19.611941Z"
    }
   },
   "outputs": [
    {
     "name": "stderr",
     "output_type": "stream",
     "text": [
      "/home/ethan/anaconda3/lib/python3.7/site-packages/sklearn/linear_model/_logistic.py:940: ConvergenceWarning: lbfgs failed to converge (status=1):\n",
      "STOP: TOTAL NO. of ITERATIONS REACHED LIMIT.\n",
      "\n",
      "Increase the number of iterations (max_iter) or scale the data as shown in:\n",
      "    https://scikit-learn.org/stable/modules/preprocessing.html\n",
      "Please also refer to the documentation for alternative solver options:\n",
      "    https://scikit-learn.org/stable/modules/linear_model.html#logistic-regression\n",
      "  extra_warning_msg=_LOGISTIC_SOLVER_CONVERGENCE_MSG)\n"
     ]
    },
    {
     "name": "stdout",
     "output_type": "stream",
     "text": [
      "KNeighborsClassifier\n",
      "Accuracy:  0.7317406992658952\n",
      "Precision:  0.7126198497019953\n",
      "Recall:  0.7242559915722939\n",
      "F1:  0.7183908045977011\n",
      "\n",
      "\n",
      "LogisticRegression\n",
      "Accuracy:  0.737899713823566\n",
      "Precision:  0.7163147792706334\n",
      "Recall:  0.7371609165130366\n",
      "F1:  0.7265883574534364\n",
      "\n",
      "\n",
      "GaussianNB\n",
      "Accuracy:  0.7381485628966032\n",
      "Precision:  0.7469721289946009\n",
      "Recall:  0.6740848037924677\n",
      "F1:  0.7086592372118778\n",
      "\n",
      "\n",
      "RandomForestClassifier\n",
      "Accuracy:  0.8292273236282195\n",
      "Precision:  0.8151566359027688\n",
      "Recall:  0.8257835132999737\n",
      "F1:  0.8204356642899195\n",
      "\n",
      "\n",
      "GradientBoostingClassifier\n",
      "Accuracy:  0.7529550827423168\n",
      "Precision:  0.7195491455581142\n",
      "Recall:  0.7818014221754016\n",
      "F1:  0.7493846639318399\n",
      "\n",
      "\n",
      "XGBClassifier\n",
      "Accuracy:  0.7749782257061092\n",
      "Precision:  0.7531508593252705\n",
      "Recall:  0.7790360811166711\n",
      "F1:  0.7658748139038126\n",
      "\n",
      "\n"
     ]
    }
   ],
   "source": [
    "    \n",
    "models = []\n",
    "\n",
    "knn = KNeighborsClassifier()\n",
    "knn.fit(X_train, y_train)\n",
    "models.append(knn)\n",
    "\n",
    "lr = LogisticRegression(C=1)\n",
    "lr.fit(X_train, y_train)\n",
    "lr_pred = lr.predict(X_test)\n",
    "models.append(lr)\n",
    "    \n",
    "nb = GaussianNB()\n",
    "nb.fit(X_train, y_train)\n",
    "models.append(nb)\n",
    "\n",
    "# svm = SVC(probability = True)\n",
    "# svm.fit(X_train, y_train)\n",
    "# models.append(svm)\n",
    "\n",
    "rfc = RandomForestClassifier(random_state = 42, oob_score = True)\n",
    "rfc.fit(X_train, y_train)\n",
    "models.append(rfc)\n",
    "\n",
    "gb = GradientBoostingClassifier()\n",
    "gb.fit(X_train, y_train)\n",
    "models.append(gb)\n",
    "\n",
    "xgboost = xgb.XGBClassifier()\n",
    "xgboost.fit(X_train, y_train)\n",
    "models.append(xgboost)\n",
    "\n",
    "for model in models:\n",
    "        print (type(model).__name__)\n",
    "        print ('Accuracy: ', accuracy_score(y_test, model.predict(X_test)))\n",
    "        print('Precision: ', precision_score(y_test, model.predict(X_test)))\n",
    "        print('Recall: ', recall_score(y_test, model.predict(X_test)))\n",
    "        print('F1: ',f1_score(y_test, model.predict(X_test)))\n",
    "        print('\\n')\n",
    "    \n",
    "        \n",
    "        \n",
    "        \n",
    "    \n",
    "\n",
    "    "
   ]
  },
  {
   "cell_type": "code",
   "execution_count": 67,
   "metadata": {
    "ExecuteTime": {
     "end_time": "2020-06-12T15:08:38.652633Z",
     "start_time": "2020-06-12T15:08:38.649714Z"
    }
   },
   "outputs": [],
   "source": [
    "# Accuracy log\n",
    "\n",
    "# RandomForestClassifier\n",
    "# Accuracy:  0.8284807764091079\n",
    "# Precision:  0.8156898577209242\n",
    "# Recall:  0.8228864893336845\n",
    "# F1:  0.8192723697148475\n",
    "\n",
    "\n",
    "# RandomForestClassifier\n",
    "# Accuracy:  0.8269876819708847\n",
    "# Precision:  0.8138776574931524\n",
    "# Recall:  0.8217013431656571\n",
    "# F1:  0.8177707882838608\n",
    "\n",
    "\n",
    "#with dummied maps and dummied round status\n",
    "#RandomForestClassifier\n",
    "# Accuracy:  0.7950091575091575\n",
    "# Precision:  0.7869018094975659\n",
    "# Recall:  0.7988623647892578\n",
    "# F1:  0.7928369811669982\n",
    "\n",
    "\n",
    "\n",
    "# with dummied maps\n",
    "# RandomForestClassifier\n",
    "# Accuracy:  0.7945054945054945\n",
    "# Precision:  0.7880103454646222\n",
    "# Recall:  0.7955054084296904\n",
    "# F1:  0.791740139211137\n",
    "\n",
    "\n",
    "# with score diff\n",
    "# RandomForestClassifier\n",
    "# Accuracy:  0.7795787545787546\n",
    "# Precision:  0.7725009221689414\n",
    "# Recall:  0.7811450951137635\n",
    "# F1:  0.7767989614243322\n",
    "\n",
    "\n",
    "\n",
    "#base well not base but you know\n",
    "# KNeighborsClassifier\n",
    "# Accuracy:  0.7063186813186814\n",
    "# Precision:  0.7024995301635031\n",
    "# Recall:  0.6971279373368147\n",
    "# F1:  0.6998034260039315\n",
    "\n",
    "\n",
    "# LogisticRegression\n",
    "# Accuracy:  0.6972527472527472\n",
    "# Precision:  0.6976923076923077\n",
    "# Recall:  0.6766132040283477\n",
    "# F1:  0.6869911001704224\n",
    "\n",
    "\n",
    "# GaussianNB\n",
    "# Accuracy:  0.6993131868131868\n",
    "# Precision:  0.7090415367595293\n",
    "# Recall:  0.6574039537486013\n",
    "# F1:  0.6822470605312817\n",
    "\n",
    "\n",
    "# RandomForestClassifier\n",
    "# Accuracy:  0.7737179487179487\n",
    "# Precision:  0.765521675238795\n",
    "# Recall:  0.7772286460276017\n",
    "# F1:  0.7713307421802702\n",
    "\n",
    "\n",
    "# GradientBoostingClassifier\n",
    "# Accuracy:  0.7091117216117216\n",
    "# Precision:  0.6907900480139677\n",
    "# Recall:  0.7378776575904513\n",
    "# F1:  0.7135578700572613\n",
    "\n",
    "\n",
    "# XGBClassifier\n",
    "# Accuracy:  0.7326923076923076\n",
    "# Precision:  0.7202885482416591\n",
    "# Recall:  0.7448713166728832\n",
    "# F1:  0.7323737049601173\n"
   ]
  },
  {
   "cell_type": "code",
   "execution_count": 68,
   "metadata": {
    "ExecuteTime": {
     "end_time": "2020-06-12T15:08:38.682124Z",
     "start_time": "2020-06-12T15:08:38.653844Z"
    }
   },
   "outputs": [],
   "source": [
    "# for model in models:\n",
    "#         print (type(model).__name__)\n",
    "#         print ('Accuracy: ', accuracy_score(y_train, model.predict(X_train)))\n",
    "#         print('Precision: ', precision_score(y_train, model.predict(X_train)))\n",
    "#         print('Recall: ', recall_score(y_train, model.predict(X_train)))\n",
    "#         print('F1: ',f1_score(y_train, model.predict(X_train)))\n",
    "#         print('\\n')"
   ]
  },
  {
   "cell_type": "code",
   "execution_count": 69,
   "metadata": {
    "ExecuteTime": {
     "end_time": "2020-06-12T15:08:38.701926Z",
     "start_time": "2020-06-12T15:08:38.683201Z"
    }
   },
   "outputs": [
    {
     "data": {
      "text/plain": [
       "0.8145452283190245"
      ]
     },
     "execution_count": 69,
     "metadata": {},
     "output_type": "execute_result"
    }
   ],
   "source": [
    "rfc.oob_score_"
   ]
  },
  {
   "cell_type": "code",
   "execution_count": 70,
   "metadata": {
    "ExecuteTime": {
     "end_time": "2020-06-12T15:08:40.164694Z",
     "start_time": "2020-06-12T15:08:38.702927Z"
    }
   },
   "outputs": [
    {
     "name": "stdout",
     "output_type": "stream",
     "text": [
      "KNeighborsClassifier  AUC =  0.8107193458340993\n",
      "LogisticRegression  AUC =  0.8336239493318955\n",
      "GaussianNB  AUC =  0.8277673209609375\n",
      "RandomForestClassifier  AUC =  0.9098103067342143\n",
      "GradientBoostingClassifier  AUC =  0.8513786486103725\n",
      "XGBClassifier  AUC =  0.8712687927658876\n"
     ]
    },
    {
     "data": {
      "text/plain": [
       "<matplotlib.legend.Legend at 0x7fe8b4c39610>"
      ]
     },
     "execution_count": 70,
     "metadata": {},
     "output_type": "execute_result"
    },
    {
     "data": {
      "image/png": "[encoded data removed]",
      "text/plain": [
       "<Figure size 432x288 with 1 Axes>"
      ]
     },
     "metadata": {
      "needs_background": "light"
     },
     "output_type": "display_data"
    }
   ],
   "source": [
    "labels = []\n",
    "for model in models:\n",
    "    fpr, tpr, thresholds = roc_curve(y_test, model.predict_proba(X_test)[:, 1])\n",
    "    plt.plot(fpr, tpr, label = model)\n",
    "    name = type(model).__name__\n",
    "    print(name, \" AUC = \", roc_auc_score(y_test, model.predict_proba(X_test)[:,1]))\n",
    "    labels.append(name)\n",
    "\n",
    "plt.legend(labels = labels)"
   ]
  },
  {
   "cell_type": "code",
   "execution_count": 71,
   "metadata": {
    "ExecuteTime": {
     "end_time": "2020-06-12T15:08:40.191422Z",
     "start_time": "2020-06-12T15:08:40.165934Z"
    }
   },
   "outputs": [
    {
     "name": "stdout",
     "output_type": "stream",
     "text": [
      "[('round_status_time_left', 0.058138757377880296),\n",
      " ('money_ct', 0.06285921062888485),\n",
      " ('money_t', 0.06295115431608499),\n",
      " ('health_diff', 0.09168043150012153),\n",
      " ('total_value_ct', 0.09443237933179041),\n",
      " ('total_value_t', 0.08447011778889563),\n",
      " ('util_diff', 0.04871005567689101),\n",
      " ('value_diff', 0.15767593185505838),\n",
      " ('de_cache', 0.00034371758918787064),\n",
      " ('de_dust2', 0.0070641569769747765),\n",
      " ('de_inferno', 0.008139270970383382),\n",
      " ('de_mirage', 0.006862355181793598),\n",
      " ('de_nuke', 0.006559613556849763),\n",
      " ('de_overpass', 0.006274441306126606),\n",
      " ('de_train', 0.005751871893749164),\n",
      " ('de_vertigo', 0.005736322194585294),\n",
      " ('ct_score', 0.03839249554555156),\n",
      " ('t_score', 0.03863571721629751),\n",
      " ('score_diff', 0.03991112853713426),\n",
      " ('player_diff', 0.06786664375934924),\n",
      " ('money_diff', 0.0650926122766143),\n",
      " ('player_diff^1/2', 0.042451614519795566)]\n"
     ]
    }
   ],
   "source": [
    "pprint.pprint(list(zip(X_train.columns ,rfc.feature_importances_)))"
   ]
  },
  {
   "cell_type": "code",
   "execution_count": 72,
   "metadata": {
    "ExecuteTime": {
     "end_time": "2020-06-12T15:08:40.342942Z",
     "start_time": "2020-06-12T15:08:40.192696Z"
    }
   },
   "outputs": [
    {
     "data": {
      "image/png": "[encoded data removed]",
      "text/plain": [
       "<Figure size 432x288 with 1 Axes>"
      ]
     },
     "metadata": {
      "needs_background": "light"
     },
     "output_type": "display_data"
    }
   ],
   "source": [
    "features = X_train.columns\n",
    "importances = rfc.feature_importances_\n",
    "indices = np.argsort(importances)\n",
    "\n",
    "plt.title('Feature Importances')\n",
    "plt.barh(range(len(indices)), importances[indices], color='b', align='center')\n",
    "plt.yticks(range(len(indices)), [features[i] for i in indices])\n",
    "plt.xlabel('Relative Importance')\n",
    "plt.show()"
   ]
  },
  {
   "cell_type": "code",
   "execution_count": 73,
   "metadata": {
    "ExecuteTime": {
     "end_time": "2020-06-12T15:08:46.491758Z",
     "start_time": "2020-06-12T15:08:40.343991Z"
    }
   },
   "outputs": [],
   "source": [
    "rfc = RandomForestClassifier(random_state = 42)\n",
    "rfc.fit(X_train, y_train)\n",
    "pred = rfc.predict(X_test)"
   ]
  },
  {
   "cell_type": "code",
   "execution_count": 74,
   "metadata": {
    "ExecuteTime": {
     "end_time": "2020-06-12T15:08:46.599672Z",
     "start_time": "2020-06-12T15:08:46.492813Z"
    }
   },
   "outputs": [
    {
     "data": {
      "text/plain": [
       "<matplotlib.axes._subplots.AxesSubplot at 0x7fe8b3621dd0>"
      ]
     },
     "execution_count": 74,
     "metadata": {},
     "output_type": "execute_result"
    },
    {
     "data": {
      "image/png": "[encoded data removed]",
      "text/plain": [
       "<Figure size 504x504 with 2 Axes>"
      ]
     },
     "metadata": {
      "needs_background": "light"
     },
     "output_type": "display_data"
    }
   ],
   "source": [
    "to_plot = confusion_matrix(y_test, pred)\n",
    "plt.figure(figsize = (7,7))\n",
    "sns_plot = sns.heatmap(to_plot, annot = True,fmt = 'g')\n",
    "sns_plot"
   ]
  },
  {
   "cell_type": "code",
   "execution_count": 75,
   "metadata": {
    "ExecuteTime": {
     "end_time": "2020-06-12T15:08:46.602609Z",
     "start_time": "2020-06-12T15:08:46.600723Z"
    }
   },
   "outputs": [],
   "source": [
    "y_test = np.asarray(y_test)\n",
    "misclassified = np.where(y_test != pred)"
   ]
  },
  {
   "cell_type": "code",
   "execution_count": 76,
   "metadata": {
    "ExecuteTime": {
     "end_time": "2020-06-12T15:08:46.619517Z",
     "start_time": "2020-06-12T15:08:46.603578Z"
    }
   },
   "outputs": [],
   "source": [
    "misclass_df =  X_test.iloc[misclassified[0],:]"
   ]
  },
  {
   "cell_type": "code",
   "execution_count": 77,
   "metadata": {
    "ExecuteTime": {
     "end_time": "2020-06-12T15:08:46.650126Z",
     "start_time": "2020-06-12T15:08:46.620949Z"
    }
   },
   "outputs": [
    {
     "data": {
      "text/plain": [
       "(2745, 22)"
      ]
     },
     "execution_count": 77,
     "metadata": {},
     "output_type": "execute_result"
    }
   ],
   "source": [
    "misclass_df.shape"
   ]
  },
  {
   "cell_type": "code",
   "execution_count": 78,
   "metadata": {
    "ExecuteTime": {
     "end_time": "2020-06-12T15:08:46.678568Z",
     "start_time": "2020-06-12T15:08:46.655693Z"
    }
   },
   "outputs": [
    {
     "data": {
      "text/html": [
       "<div>\n",
       "<style scoped>\n",
       "    .dataframe tbody tr th:only-of-type {\n",
       "        vertical-align: middle;\n",
       "    }\n",
       "\n",
       "    .dataframe tbody tr th {\n",
       "        vertical-align: top;\n",
       "    }\n",
       "\n",
       "    .dataframe thead th {\n",
       "        text-align: right;\n",
       "    }\n",
       "</style>\n",
       "<table border=\"1\" class=\"dataframe\">\n",
       "  <thead>\n",
       "    <tr style=\"text-align: right;\">\n",
       "      <th></th>\n",
       "      <th>round_status_time_left</th>\n",
       "      <th>money_ct</th>\n",
       "      <th>money_t</th>\n",
       "      <th>health_diff</th>\n",
       "      <th>total_value_ct</th>\n",
       "      <th>total_value_t</th>\n",
       "      <th>util_diff</th>\n",
       "      <th>value_diff</th>\n",
       "      <th>de_cache</th>\n",
       "      <th>de_dust2</th>\n",
       "      <th>...</th>\n",
       "      <th>de_nuke</th>\n",
       "      <th>de_overpass</th>\n",
       "      <th>de_train</th>\n",
       "      <th>de_vertigo</th>\n",
       "      <th>ct_score</th>\n",
       "      <th>t_score</th>\n",
       "      <th>score_diff</th>\n",
       "      <th>player_diff</th>\n",
       "      <th>money_diff</th>\n",
       "      <th>player_diff^1/2</th>\n",
       "    </tr>\n",
       "  </thead>\n",
       "  <tbody>\n",
       "    <tr>\n",
       "      <th>43838</th>\n",
       "      <td>114.929690</td>\n",
       "      <td>27450</td>\n",
       "      <td>3750</td>\n",
       "      <td>0</td>\n",
       "      <td>32009.5</td>\n",
       "      <td>26550.0</td>\n",
       "      <td>6</td>\n",
       "      <td>5459.5</td>\n",
       "      <td>0</td>\n",
       "      <td>0</td>\n",
       "      <td>...</td>\n",
       "      <td>0</td>\n",
       "      <td>0</td>\n",
       "      <td>1</td>\n",
       "      <td>0</td>\n",
       "      <td>5</td>\n",
       "      <td>0</td>\n",
       "      <td>5</td>\n",
       "      <td>0</td>\n",
       "      <td>23700</td>\n",
       "      <td>0.0</td>\n",
       "    </tr>\n",
       "    <tr>\n",
       "      <th>40790</th>\n",
       "      <td>114.953125</td>\n",
       "      <td>750</td>\n",
       "      <td>550</td>\n",
       "      <td>0</td>\n",
       "      <td>4250.0</td>\n",
       "      <td>4050.0</td>\n",
       "      <td>-4</td>\n",
       "      <td>200.0</td>\n",
       "      <td>0</td>\n",
       "      <td>0</td>\n",
       "      <td>...</td>\n",
       "      <td>0</td>\n",
       "      <td>0</td>\n",
       "      <td>0</td>\n",
       "      <td>0</td>\n",
       "      <td>0</td>\n",
       "      <td>0</td>\n",
       "      <td>0</td>\n",
       "      <td>0</td>\n",
       "      <td>200</td>\n",
       "      <td>0.0</td>\n",
       "    </tr>\n",
       "    <tr>\n",
       "      <th>34176</th>\n",
       "      <td>86.875000</td>\n",
       "      <td>2650</td>\n",
       "      <td>850</td>\n",
       "      <td>-80</td>\n",
       "      <td>13400.0</td>\n",
       "      <td>13828.5</td>\n",
       "      <td>-1</td>\n",
       "      <td>-428.5</td>\n",
       "      <td>0</td>\n",
       "      <td>0</td>\n",
       "      <td>...</td>\n",
       "      <td>0</td>\n",
       "      <td>0</td>\n",
       "      <td>0</td>\n",
       "      <td>0</td>\n",
       "      <td>7</td>\n",
       "      <td>9</td>\n",
       "      <td>-2</td>\n",
       "      <td>-1</td>\n",
       "      <td>1800</td>\n",
       "      <td>0.0</td>\n",
       "    </tr>\n",
       "    <tr>\n",
       "      <th>62303</th>\n",
       "      <td>94.804690</td>\n",
       "      <td>600</td>\n",
       "      <td>550</td>\n",
       "      <td>-26</td>\n",
       "      <td>4400.0</td>\n",
       "      <td>3250.0</td>\n",
       "      <td>2</td>\n",
       "      <td>1150.0</td>\n",
       "      <td>0</td>\n",
       "      <td>0</td>\n",
       "      <td>...</td>\n",
       "      <td>0</td>\n",
       "      <td>0</td>\n",
       "      <td>0</td>\n",
       "      <td>0</td>\n",
       "      <td>0</td>\n",
       "      <td>0</td>\n",
       "      <td>0</td>\n",
       "      <td>0</td>\n",
       "      <td>50</td>\n",
       "      <td>0.0</td>\n",
       "    </tr>\n",
       "    <tr>\n",
       "      <th>36152</th>\n",
       "      <td>74.921875</td>\n",
       "      <td>2700</td>\n",
       "      <td>3550</td>\n",
       "      <td>31</td>\n",
       "      <td>23217.5</td>\n",
       "      <td>21022.0</td>\n",
       "      <td>-2</td>\n",
       "      <td>2195.5</td>\n",
       "      <td>0</td>\n",
       "      <td>0</td>\n",
       "      <td>...</td>\n",
       "      <td>0</td>\n",
       "      <td>0</td>\n",
       "      <td>0</td>\n",
       "      <td>0</td>\n",
       "      <td>14</td>\n",
       "      <td>15</td>\n",
       "      <td>-1</td>\n",
       "      <td>0</td>\n",
       "      <td>-850</td>\n",
       "      <td>0.0</td>\n",
       "    </tr>\n",
       "  </tbody>\n",
       "</table>\n",
       "<p>5 rows × 22 columns</p>\n",
       "</div>"
      ],
      "text/plain": [
       "       round_status_time_left  money_ct  money_t  health_diff  total_value_ct  \\\n",
       "43838              114.929690     27450     3750            0         32009.5   \n",
       "40790              114.953125       750      550            0          4250.0   \n",
       "34176               86.875000      2650      850          -80         13400.0   \n",
       "62303               94.804690       600      550          -26          4400.0   \n",
       "36152               74.921875      2700     3550           31         23217.5   \n",
       "\n",
       "       total_value_t  util_diff  value_diff  de_cache  de_dust2  ...  de_nuke  \\\n",
       "43838        26550.0          6      5459.5         0         0  ...        0   \n",
       "40790         4050.0         -4       200.0         0         0  ...        0   \n",
       "34176        13828.5         -1      -428.5         0         0  ...        0   \n",
       "62303         3250.0          2      1150.0         0         0  ...        0   \n",
       "36152        21022.0         -2      2195.5         0         0  ...        0   \n",
       "\n",
       "       de_overpass  de_train  de_vertigo  ct_score  t_score  score_diff  \\\n",
       "43838            0         1           0         5        0           5   \n",
       "40790            0         0           0         0        0           0   \n",
       "34176            0         0           0         7        9          -2   \n",
       "62303            0         0           0         0        0           0   \n",
       "36152            0         0           0        14       15          -1   \n",
       "\n",
       "       player_diff  money_diff  player_diff^1/2  \n",
       "43838            0       23700              0.0  \n",
       "40790            0         200              0.0  \n",
       "34176           -1        1800              0.0  \n",
       "62303            0          50              0.0  \n",
       "36152            0        -850              0.0  \n",
       "\n",
       "[5 rows x 22 columns]"
      ]
     },
     "execution_count": 78,
     "metadata": {},
     "output_type": "execute_result"
    }
   ],
   "source": [
    "misclass_df.head()"
   ]
  },
  {
   "cell_type": "code",
   "execution_count": 79,
   "metadata": {
    "ExecuteTime": {
     "end_time": "2020-06-12T15:08:46.694609Z",
     "start_time": "2020-06-12T15:08:46.679471Z"
    }
   },
   "outputs": [],
   "source": [
    "misclass_pred = pd.Series(pred[misclassified[0]])\n",
    "\n",
    "truth = pd.Series(y_test[misclassified[0]])"
   ]
  },
  {
   "cell_type": "code",
   "execution_count": 80,
   "metadata": {
    "ExecuteTime": {
     "end_time": "2020-06-12T15:08:46.711995Z",
     "start_time": "2020-06-12T15:08:46.695601Z"
    }
   },
   "outputs": [
    {
     "name": "stderr",
     "output_type": "stream",
     "text": [
      "/home/ethan/anaconda3/lib/python3.7/site-packages/ipykernel_launcher.py:1: SettingWithCopyWarning: \n",
      "A value is trying to be set on a copy of a slice from a DataFrame.\n",
      "Try using .loc[row_indexer,col_indexer] = value instead\n",
      "\n",
      "See the caveats in the documentation: https://pandas.pydata.org/pandas-docs/stable/user_guide/indexing.html#returning-a-view-versus-a-copy\n",
      "  \"\"\"Entry point for launching an IPython kernel.\n",
      "/home/ethan/anaconda3/lib/python3.7/site-packages/ipykernel_launcher.py:2: SettingWithCopyWarning: \n",
      "A value is trying to be set on a copy of a slice from a DataFrame.\n",
      "Try using .loc[row_indexer,col_indexer] = value instead\n",
      "\n",
      "See the caveats in the documentation: https://pandas.pydata.org/pandas-docs/stable/user_guide/indexing.html#returning-a-view-versus-a-copy\n",
      "  \n"
     ]
    }
   ],
   "source": [
    "misclass_df['truth'] = pred[misclassified[0]]\n",
    "misclass_df['misclass_pred'] = y_test[misclassified[0]]"
   ]
  },
  {
   "cell_type": "code",
   "execution_count": 81,
   "metadata": {
    "ExecuteTime": {
     "end_time": "2020-06-12T15:08:46.743499Z",
     "start_time": "2020-06-12T15:08:46.712951Z"
    }
   },
   "outputs": [
    {
     "data": {
      "text/html": [
       "<div>\n",
       "<style scoped>\n",
       "    .dataframe tbody tr th:only-of-type {\n",
       "        vertical-align: middle;\n",
       "    }\n",
       "\n",
       "    .dataframe tbody tr th {\n",
       "        vertical-align: top;\n",
       "    }\n",
       "\n",
       "    .dataframe thead th {\n",
       "        text-align: right;\n",
       "    }\n",
       "</style>\n",
       "<table border=\"1\" class=\"dataframe\">\n",
       "  <thead>\n",
       "    <tr style=\"text-align: right;\">\n",
       "      <th></th>\n",
       "      <th>round_status_time_left</th>\n",
       "      <th>money_ct</th>\n",
       "      <th>money_t</th>\n",
       "      <th>health_diff</th>\n",
       "      <th>total_value_ct</th>\n",
       "      <th>total_value_t</th>\n",
       "      <th>util_diff</th>\n",
       "      <th>value_diff</th>\n",
       "      <th>de_cache</th>\n",
       "      <th>de_dust2</th>\n",
       "      <th>...</th>\n",
       "      <th>de_train</th>\n",
       "      <th>de_vertigo</th>\n",
       "      <th>ct_score</th>\n",
       "      <th>t_score</th>\n",
       "      <th>score_diff</th>\n",
       "      <th>player_diff</th>\n",
       "      <th>money_diff</th>\n",
       "      <th>player_diff^1/2</th>\n",
       "      <th>truth</th>\n",
       "      <th>misclass_pred</th>\n",
       "    </tr>\n",
       "  </thead>\n",
       "  <tbody>\n",
       "    <tr>\n",
       "      <th>43838</th>\n",
       "      <td>114.929690</td>\n",
       "      <td>27450</td>\n",
       "      <td>3750</td>\n",
       "      <td>0</td>\n",
       "      <td>32009.5</td>\n",
       "      <td>26550.0</td>\n",
       "      <td>6</td>\n",
       "      <td>5459.5</td>\n",
       "      <td>0</td>\n",
       "      <td>0</td>\n",
       "      <td>...</td>\n",
       "      <td>1</td>\n",
       "      <td>0</td>\n",
       "      <td>5</td>\n",
       "      <td>0</td>\n",
       "      <td>5</td>\n",
       "      <td>0</td>\n",
       "      <td>23700</td>\n",
       "      <td>0.0</td>\n",
       "      <td>1</td>\n",
       "      <td>0</td>\n",
       "    </tr>\n",
       "    <tr>\n",
       "      <th>40790</th>\n",
       "      <td>114.953125</td>\n",
       "      <td>750</td>\n",
       "      <td>550</td>\n",
       "      <td>0</td>\n",
       "      <td>4250.0</td>\n",
       "      <td>4050.0</td>\n",
       "      <td>-4</td>\n",
       "      <td>200.0</td>\n",
       "      <td>0</td>\n",
       "      <td>0</td>\n",
       "      <td>...</td>\n",
       "      <td>0</td>\n",
       "      <td>0</td>\n",
       "      <td>0</td>\n",
       "      <td>0</td>\n",
       "      <td>0</td>\n",
       "      <td>0</td>\n",
       "      <td>200</td>\n",
       "      <td>0.0</td>\n",
       "      <td>1</td>\n",
       "      <td>0</td>\n",
       "    </tr>\n",
       "    <tr>\n",
       "      <th>34176</th>\n",
       "      <td>86.875000</td>\n",
       "      <td>2650</td>\n",
       "      <td>850</td>\n",
       "      <td>-80</td>\n",
       "      <td>13400.0</td>\n",
       "      <td>13828.5</td>\n",
       "      <td>-1</td>\n",
       "      <td>-428.5</td>\n",
       "      <td>0</td>\n",
       "      <td>0</td>\n",
       "      <td>...</td>\n",
       "      <td>0</td>\n",
       "      <td>0</td>\n",
       "      <td>7</td>\n",
       "      <td>9</td>\n",
       "      <td>-2</td>\n",
       "      <td>-1</td>\n",
       "      <td>1800</td>\n",
       "      <td>0.0</td>\n",
       "      <td>0</td>\n",
       "      <td>1</td>\n",
       "    </tr>\n",
       "    <tr>\n",
       "      <th>62303</th>\n",
       "      <td>94.804690</td>\n",
       "      <td>600</td>\n",
       "      <td>550</td>\n",
       "      <td>-26</td>\n",
       "      <td>4400.0</td>\n",
       "      <td>3250.0</td>\n",
       "      <td>2</td>\n",
       "      <td>1150.0</td>\n",
       "      <td>0</td>\n",
       "      <td>0</td>\n",
       "      <td>...</td>\n",
       "      <td>0</td>\n",
       "      <td>0</td>\n",
       "      <td>0</td>\n",
       "      <td>0</td>\n",
       "      <td>0</td>\n",
       "      <td>0</td>\n",
       "      <td>50</td>\n",
       "      <td>0.0</td>\n",
       "      <td>1</td>\n",
       "      <td>0</td>\n",
       "    </tr>\n",
       "    <tr>\n",
       "      <th>36152</th>\n",
       "      <td>74.921875</td>\n",
       "      <td>2700</td>\n",
       "      <td>3550</td>\n",
       "      <td>31</td>\n",
       "      <td>23217.5</td>\n",
       "      <td>21022.0</td>\n",
       "      <td>-2</td>\n",
       "      <td>2195.5</td>\n",
       "      <td>0</td>\n",
       "      <td>0</td>\n",
       "      <td>...</td>\n",
       "      <td>0</td>\n",
       "      <td>0</td>\n",
       "      <td>14</td>\n",
       "      <td>15</td>\n",
       "      <td>-1</td>\n",
       "      <td>0</td>\n",
       "      <td>-850</td>\n",
       "      <td>0.0</td>\n",
       "      <td>0</td>\n",
       "      <td>1</td>\n",
       "    </tr>\n",
       "    <tr>\n",
       "      <th>7324</th>\n",
       "      <td>88.578125</td>\n",
       "      <td>300</td>\n",
       "      <td>29000</td>\n",
       "      <td>0</td>\n",
       "      <td>21300.0</td>\n",
       "      <td>26265.5</td>\n",
       "      <td>-8</td>\n",
       "      <td>-4965.5</td>\n",
       "      <td>0</td>\n",
       "      <td>0</td>\n",
       "      <td>...</td>\n",
       "      <td>0</td>\n",
       "      <td>0</td>\n",
       "      <td>5</td>\n",
       "      <td>6</td>\n",
       "      <td>-1</td>\n",
       "      <td>0</td>\n",
       "      <td>-28700</td>\n",
       "      <td>0.0</td>\n",
       "      <td>1</td>\n",
       "      <td>0</td>\n",
       "    </tr>\n",
       "    <tr>\n",
       "      <th>30798</th>\n",
       "      <td>90.984375</td>\n",
       "      <td>750</td>\n",
       "      <td>7250</td>\n",
       "      <td>32</td>\n",
       "      <td>20267.5</td>\n",
       "      <td>24496.0</td>\n",
       "      <td>-5</td>\n",
       "      <td>-4228.5</td>\n",
       "      <td>0</td>\n",
       "      <td>0</td>\n",
       "      <td>...</td>\n",
       "      <td>0</td>\n",
       "      <td>0</td>\n",
       "      <td>14</td>\n",
       "      <td>13</td>\n",
       "      <td>1</td>\n",
       "      <td>0</td>\n",
       "      <td>-6500</td>\n",
       "      <td>0.0</td>\n",
       "      <td>1</td>\n",
       "      <td>0</td>\n",
       "    </tr>\n",
       "    <tr>\n",
       "      <th>54711</th>\n",
       "      <td>38.312500</td>\n",
       "      <td>2550</td>\n",
       "      <td>650</td>\n",
       "      <td>0</td>\n",
       "      <td>5800.0</td>\n",
       "      <td>4200.0</td>\n",
       "      <td>2</td>\n",
       "      <td>1600.0</td>\n",
       "      <td>0</td>\n",
       "      <td>0</td>\n",
       "      <td>...</td>\n",
       "      <td>0</td>\n",
       "      <td>1</td>\n",
       "      <td>6</td>\n",
       "      <td>6</td>\n",
       "      <td>0</td>\n",
       "      <td>0</td>\n",
       "      <td>1900</td>\n",
       "      <td>0.0</td>\n",
       "      <td>0</td>\n",
       "      <td>1</td>\n",
       "    </tr>\n",
       "    <tr>\n",
       "      <th>29222</th>\n",
       "      <td>114.960940</td>\n",
       "      <td>9000</td>\n",
       "      <td>1200</td>\n",
       "      <td>0</td>\n",
       "      <td>31150.0</td>\n",
       "      <td>19450.0</td>\n",
       "      <td>5</td>\n",
       "      <td>11700.0</td>\n",
       "      <td>0</td>\n",
       "      <td>0</td>\n",
       "      <td>...</td>\n",
       "      <td>0</td>\n",
       "      <td>0</td>\n",
       "      <td>2</td>\n",
       "      <td>3</td>\n",
       "      <td>-1</td>\n",
       "      <td>0</td>\n",
       "      <td>7800</td>\n",
       "      <td>0.0</td>\n",
       "      <td>1</td>\n",
       "      <td>0</td>\n",
       "    </tr>\n",
       "    <tr>\n",
       "      <th>12342</th>\n",
       "      <td>74.937500</td>\n",
       "      <td>350</td>\n",
       "      <td>19950</td>\n",
       "      <td>17</td>\n",
       "      <td>13950.0</td>\n",
       "      <td>25403.0</td>\n",
       "      <td>-5</td>\n",
       "      <td>-11453.0</td>\n",
       "      <td>0</td>\n",
       "      <td>0</td>\n",
       "      <td>...</td>\n",
       "      <td>0</td>\n",
       "      <td>0</td>\n",
       "      <td>3</td>\n",
       "      <td>15</td>\n",
       "      <td>-12</td>\n",
       "      <td>0</td>\n",
       "      <td>-19600</td>\n",
       "      <td>0.0</td>\n",
       "      <td>0</td>\n",
       "      <td>1</td>\n",
       "    </tr>\n",
       "    <tr>\n",
       "      <th>49843</th>\n",
       "      <td>50.312500</td>\n",
       "      <td>7500</td>\n",
       "      <td>5500</td>\n",
       "      <td>43</td>\n",
       "      <td>8150.0</td>\n",
       "      <td>19252.5</td>\n",
       "      <td>-5</td>\n",
       "      <td>-11102.5</td>\n",
       "      <td>0</td>\n",
       "      <td>0</td>\n",
       "      <td>...</td>\n",
       "      <td>0</td>\n",
       "      <td>1</td>\n",
       "      <td>4</td>\n",
       "      <td>6</td>\n",
       "      <td>-2</td>\n",
       "      <td>0</td>\n",
       "      <td>2000</td>\n",
       "      <td>0.0</td>\n",
       "      <td>0</td>\n",
       "      <td>1</td>\n",
       "    </tr>\n",
       "    <tr>\n",
       "      <th>30206</th>\n",
       "      <td>94.898440</td>\n",
       "      <td>750</td>\n",
       "      <td>2250</td>\n",
       "      <td>0</td>\n",
       "      <td>12550.0</td>\n",
       "      <td>15317.5</td>\n",
       "      <td>1</td>\n",
       "      <td>-2767.5</td>\n",
       "      <td>0</td>\n",
       "      <td>0</td>\n",
       "      <td>...</td>\n",
       "      <td>0</td>\n",
       "      <td>0</td>\n",
       "      <td>10</td>\n",
       "      <td>12</td>\n",
       "      <td>-2</td>\n",
       "      <td>0</td>\n",
       "      <td>-1500</td>\n",
       "      <td>0.0</td>\n",
       "      <td>0</td>\n",
       "      <td>1</td>\n",
       "    </tr>\n",
       "    <tr>\n",
       "      <th>44800</th>\n",
       "      <td>69.945310</td>\n",
       "      <td>200</td>\n",
       "      <td>850</td>\n",
       "      <td>0</td>\n",
       "      <td>10900.0</td>\n",
       "      <td>16850.0</td>\n",
       "      <td>-7</td>\n",
       "      <td>-5950.0</td>\n",
       "      <td>0</td>\n",
       "      <td>0</td>\n",
       "      <td>...</td>\n",
       "      <td>0</td>\n",
       "      <td>0</td>\n",
       "      <td>9</td>\n",
       "      <td>7</td>\n",
       "      <td>2</td>\n",
       "      <td>0</td>\n",
       "      <td>-650</td>\n",
       "      <td>0.0</td>\n",
       "      <td>0</td>\n",
       "      <td>1</td>\n",
       "    </tr>\n",
       "    <tr>\n",
       "      <th>25898</th>\n",
       "      <td>27.164062</td>\n",
       "      <td>9700</td>\n",
       "      <td>350</td>\n",
       "      <td>29</td>\n",
       "      <td>14670.0</td>\n",
       "      <td>10337.0</td>\n",
       "      <td>1</td>\n",
       "      <td>4333.0</td>\n",
       "      <td>0</td>\n",
       "      <td>0</td>\n",
       "      <td>...</td>\n",
       "      <td>1</td>\n",
       "      <td>0</td>\n",
       "      <td>18</td>\n",
       "      <td>17</td>\n",
       "      <td>1</td>\n",
       "      <td>1</td>\n",
       "      <td>9350</td>\n",
       "      <td>1.0</td>\n",
       "      <td>1</td>\n",
       "      <td>0</td>\n",
       "    </tr>\n",
       "    <tr>\n",
       "      <th>40041</th>\n",
       "      <td>114.890625</td>\n",
       "      <td>7250</td>\n",
       "      <td>300</td>\n",
       "      <td>0</td>\n",
       "      <td>23543.5</td>\n",
       "      <td>9600.0</td>\n",
       "      <td>10</td>\n",
       "      <td>13943.5</td>\n",
       "      <td>0</td>\n",
       "      <td>0</td>\n",
       "      <td>...</td>\n",
       "      <td>0</td>\n",
       "      <td>0</td>\n",
       "      <td>1</td>\n",
       "      <td>1</td>\n",
       "      <td>0</td>\n",
       "      <td>0</td>\n",
       "      <td>6950</td>\n",
       "      <td>0.0</td>\n",
       "      <td>1</td>\n",
       "      <td>0</td>\n",
       "    </tr>\n",
       "    <tr>\n",
       "      <th>2138</th>\n",
       "      <td>94.898440</td>\n",
       "      <td>6700</td>\n",
       "      <td>13000</td>\n",
       "      <td>0</td>\n",
       "      <td>26746.0</td>\n",
       "      <td>4450.0</td>\n",
       "      <td>13</td>\n",
       "      <td>22296.0</td>\n",
       "      <td>0</td>\n",
       "      <td>0</td>\n",
       "      <td>...</td>\n",
       "      <td>1</td>\n",
       "      <td>0</td>\n",
       "      <td>7</td>\n",
       "      <td>10</td>\n",
       "      <td>-3</td>\n",
       "      <td>0</td>\n",
       "      <td>-6300</td>\n",
       "      <td>0.0</td>\n",
       "      <td>1</td>\n",
       "      <td>0</td>\n",
       "    </tr>\n",
       "    <tr>\n",
       "      <th>12949</th>\n",
       "      <td>74.937500</td>\n",
       "      <td>4350</td>\n",
       "      <td>2500</td>\n",
       "      <td>-49</td>\n",
       "      <td>13463.5</td>\n",
       "      <td>14350.0</td>\n",
       "      <td>0</td>\n",
       "      <td>-886.5</td>\n",
       "      <td>0</td>\n",
       "      <td>0</td>\n",
       "      <td>...</td>\n",
       "      <td>0</td>\n",
       "      <td>0</td>\n",
       "      <td>1</td>\n",
       "      <td>3</td>\n",
       "      <td>-2</td>\n",
       "      <td>0</td>\n",
       "      <td>1850</td>\n",
       "      <td>0.0</td>\n",
       "      <td>0</td>\n",
       "      <td>1</td>\n",
       "    </tr>\n",
       "    <tr>\n",
       "      <th>48525</th>\n",
       "      <td>114.953125</td>\n",
       "      <td>500</td>\n",
       "      <td>1000</td>\n",
       "      <td>0</td>\n",
       "      <td>11250.0</td>\n",
       "      <td>19250.0</td>\n",
       "      <td>-9</td>\n",
       "      <td>-8000.0</td>\n",
       "      <td>0</td>\n",
       "      <td>1</td>\n",
       "      <td>...</td>\n",
       "      <td>0</td>\n",
       "      <td>0</td>\n",
       "      <td>3</td>\n",
       "      <td>13</td>\n",
       "      <td>-10</td>\n",
       "      <td>0</td>\n",
       "      <td>-500</td>\n",
       "      <td>0.0</td>\n",
       "      <td>0</td>\n",
       "      <td>1</td>\n",
       "    </tr>\n",
       "    <tr>\n",
       "      <th>58801</th>\n",
       "      <td>114.875000</td>\n",
       "      <td>27000</td>\n",
       "      <td>350</td>\n",
       "      <td>0</td>\n",
       "      <td>31643.5</td>\n",
       "      <td>23600.0</td>\n",
       "      <td>8</td>\n",
       "      <td>8043.5</td>\n",
       "      <td>0</td>\n",
       "      <td>0</td>\n",
       "      <td>...</td>\n",
       "      <td>0</td>\n",
       "      <td>1</td>\n",
       "      <td>5</td>\n",
       "      <td>5</td>\n",
       "      <td>0</td>\n",
       "      <td>0</td>\n",
       "      <td>26650</td>\n",
       "      <td>0.0</td>\n",
       "      <td>0</td>\n",
       "      <td>1</td>\n",
       "    </tr>\n",
       "    <tr>\n",
       "      <th>42402</th>\n",
       "      <td>94.960940</td>\n",
       "      <td>3850</td>\n",
       "      <td>10100</td>\n",
       "      <td>1</td>\n",
       "      <td>26380.5</td>\n",
       "      <td>25626.5</td>\n",
       "      <td>-3</td>\n",
       "      <td>754.0</td>\n",
       "      <td>0</td>\n",
       "      <td>1</td>\n",
       "      <td>...</td>\n",
       "      <td>0</td>\n",
       "      <td>0</td>\n",
       "      <td>1</td>\n",
       "      <td>4</td>\n",
       "      <td>-3</td>\n",
       "      <td>0</td>\n",
       "      <td>-6250</td>\n",
       "      <td>0.0</td>\n",
       "      <td>1</td>\n",
       "      <td>0</td>\n",
       "    </tr>\n",
       "  </tbody>\n",
       "</table>\n",
       "<p>20 rows × 24 columns</p>\n",
       "</div>"
      ],
      "text/plain": [
       "       round_status_time_left  money_ct  money_t  health_diff  total_value_ct  \\\n",
       "43838              114.929690     27450     3750            0         32009.5   \n",
       "40790              114.953125       750      550            0          4250.0   \n",
       "34176               86.875000      2650      850          -80         13400.0   \n",
       "62303               94.804690       600      550          -26          4400.0   \n",
       "36152               74.921875      2700     3550           31         23217.5   \n",
       "7324                88.578125       300    29000            0         21300.0   \n",
       "30798               90.984375       750     7250           32         20267.5   \n",
       "54711               38.312500      2550      650            0          5800.0   \n",
       "29222              114.960940      9000     1200            0         31150.0   \n",
       "12342               74.937500       350    19950           17         13950.0   \n",
       "49843               50.312500      7500     5500           43          8150.0   \n",
       "30206               94.898440       750     2250            0         12550.0   \n",
       "44800               69.945310       200      850            0         10900.0   \n",
       "25898               27.164062      9700      350           29         14670.0   \n",
       "40041              114.890625      7250      300            0         23543.5   \n",
       "2138                94.898440      6700    13000            0         26746.0   \n",
       "12949               74.937500      4350     2500          -49         13463.5   \n",
       "48525              114.953125       500     1000            0         11250.0   \n",
       "58801              114.875000     27000      350            0         31643.5   \n",
       "42402               94.960940      3850    10100            1         26380.5   \n",
       "\n",
       "       total_value_t  util_diff  value_diff  de_cache  de_dust2  ...  \\\n",
       "43838        26550.0          6      5459.5         0         0  ...   \n",
       "40790         4050.0         -4       200.0         0         0  ...   \n",
       "34176        13828.5         -1      -428.5         0         0  ...   \n",
       "62303         3250.0          2      1150.0         0         0  ...   \n",
       "36152        21022.0         -2      2195.5         0         0  ...   \n",
       "7324         26265.5         -8     -4965.5         0         0  ...   \n",
       "30798        24496.0         -5     -4228.5         0         0  ...   \n",
       "54711         4200.0          2      1600.0         0         0  ...   \n",
       "29222        19450.0          5     11700.0         0         0  ...   \n",
       "12342        25403.0         -5    -11453.0         0         0  ...   \n",
       "49843        19252.5         -5    -11102.5         0         0  ...   \n",
       "30206        15317.5          1     -2767.5         0         0  ...   \n",
       "44800        16850.0         -7     -5950.0         0         0  ...   \n",
       "25898        10337.0          1      4333.0         0         0  ...   \n",
       "40041         9600.0         10     13943.5         0         0  ...   \n",
       "2138          4450.0         13     22296.0         0         0  ...   \n",
       "12949        14350.0          0      -886.5         0         0  ...   \n",
       "48525        19250.0         -9     -8000.0         0         1  ...   \n",
       "58801        23600.0          8      8043.5         0         0  ...   \n",
       "42402        25626.5         -3       754.0         0         1  ...   \n",
       "\n",
       "       de_train  de_vertigo  ct_score  t_score  score_diff  player_diff  \\\n",
       "43838         1           0         5        0           5            0   \n",
       "40790         0           0         0        0           0            0   \n",
       "34176         0           0         7        9          -2           -1   \n",
       "62303         0           0         0        0           0            0   \n",
       "36152         0           0        14       15          -1            0   \n",
       "7324          0           0         5        6          -1            0   \n",
       "30798         0           0        14       13           1            0   \n",
       "54711         0           1         6        6           0            0   \n",
       "29222         0           0         2        3          -1            0   \n",
       "12342         0           0         3       15         -12            0   \n",
       "49843         0           1         4        6          -2            0   \n",
       "30206         0           0        10       12          -2            0   \n",
       "44800         0           0         9        7           2            0   \n",
       "25898         1           0        18       17           1            1   \n",
       "40041         0           0         1        1           0            0   \n",
       "2138          1           0         7       10          -3            0   \n",
       "12949         0           0         1        3          -2            0   \n",
       "48525         0           0         3       13         -10            0   \n",
       "58801         0           1         5        5           0            0   \n",
       "42402         0           0         1        4          -3            0   \n",
       "\n",
       "       money_diff  player_diff^1/2  truth  misclass_pred  \n",
       "43838       23700              0.0      1              0  \n",
       "40790         200              0.0      1              0  \n",
       "34176        1800              0.0      0              1  \n",
       "62303          50              0.0      1              0  \n",
       "36152        -850              0.0      0              1  \n",
       "7324       -28700              0.0      1              0  \n",
       "30798       -6500              0.0      1              0  \n",
       "54711        1900              0.0      0              1  \n",
       "29222        7800              0.0      1              0  \n",
       "12342      -19600              0.0      0              1  \n",
       "49843        2000              0.0      0              1  \n",
       "30206       -1500              0.0      0              1  \n",
       "44800        -650              0.0      0              1  \n",
       "25898        9350              1.0      1              0  \n",
       "40041        6950              0.0      1              0  \n",
       "2138        -6300              0.0      1              0  \n",
       "12949        1850              0.0      0              1  \n",
       "48525        -500              0.0      0              1  \n",
       "58801       26650              0.0      0              1  \n",
       "42402       -6250              0.0      1              0  \n",
       "\n",
       "[20 rows x 24 columns]"
      ]
     },
     "execution_count": 81,
     "metadata": {},
     "output_type": "execute_result"
    }
   ],
   "source": [
    "misclass_df.head(20)"
   ]
  },
  {
   "cell_type": "code",
   "execution_count": 82,
   "metadata": {
    "ExecuteTime": {
     "end_time": "2020-06-12T15:08:46.746671Z",
     "start_time": "2020-06-12T15:08:46.744467Z"
    }
   },
   "outputs": [
    {
     "data": {
      "text/plain": [
       "(2745, 24)"
      ]
     },
     "execution_count": 82,
     "metadata": {},
     "output_type": "execute_result"
    }
   ],
   "source": [
    "misclass_df.shape"
   ]
  },
  {
   "cell_type": "code",
   "execution_count": 83,
   "metadata": {
    "ExecuteTime": {
     "end_time": "2020-06-12T15:08:46.807520Z",
     "start_time": "2020-06-12T15:08:46.747609Z"
    }
   },
   "outputs": [
    {
     "data": {
      "text/html": [
       "<div>\n",
       "<style scoped>\n",
       "    .dataframe tbody tr th:only-of-type {\n",
       "        vertical-align: middle;\n",
       "    }\n",
       "\n",
       "    .dataframe tbody tr th {\n",
       "        vertical-align: top;\n",
       "    }\n",
       "\n",
       "    .dataframe thead th {\n",
       "        text-align: right;\n",
       "    }\n",
       "</style>\n",
       "<table border=\"1\" class=\"dataframe\">\n",
       "  <thead>\n",
       "    <tr style=\"text-align: right;\">\n",
       "      <th></th>\n",
       "      <th>round_status_time_left</th>\n",
       "      <th>money_ct</th>\n",
       "      <th>money_t</th>\n",
       "      <th>health_diff</th>\n",
       "      <th>total_value_ct</th>\n",
       "      <th>total_value_t</th>\n",
       "      <th>util_diff</th>\n",
       "      <th>value_diff</th>\n",
       "      <th>de_cache</th>\n",
       "      <th>de_dust2</th>\n",
       "      <th>...</th>\n",
       "      <th>de_train</th>\n",
       "      <th>de_vertigo</th>\n",
       "      <th>ct_score</th>\n",
       "      <th>t_score</th>\n",
       "      <th>score_diff</th>\n",
       "      <th>player_diff</th>\n",
       "      <th>money_diff</th>\n",
       "      <th>player_diff^1/2</th>\n",
       "      <th>truth</th>\n",
       "      <th>misclass_pred</th>\n",
       "    </tr>\n",
       "  </thead>\n",
       "  <tbody>\n",
       "    <tr>\n",
       "      <th>count</th>\n",
       "      <td>2745.000000</td>\n",
       "      <td>2745.000000</td>\n",
       "      <td>2745.000000</td>\n",
       "      <td>2745.000000</td>\n",
       "      <td>2745.000000</td>\n",
       "      <td>2745.00000</td>\n",
       "      <td>2745.000000</td>\n",
       "      <td>2745.000000</td>\n",
       "      <td>2745.000000</td>\n",
       "      <td>2745.000000</td>\n",
       "      <td>...</td>\n",
       "      <td>2745.000000</td>\n",
       "      <td>2745.000000</td>\n",
       "      <td>2745.000000</td>\n",
       "      <td>2745.000000</td>\n",
       "      <td>2745.000000</td>\n",
       "      <td>2745.000000</td>\n",
       "      <td>2745.000000</td>\n",
       "      <td>2745.000000</td>\n",
       "      <td>2745.000000</td>\n",
       "      <td>2745.000000</td>\n",
       "    </tr>\n",
       "    <tr>\n",
       "      <th>mean</th>\n",
       "      <td>80.297441</td>\n",
       "      <td>7289.981785</td>\n",
       "      <td>8823.588342</td>\n",
       "      <td>16.605464</td>\n",
       "      <td>18979.962295</td>\n",
       "      <td>17078.78725</td>\n",
       "      <td>0.105282</td>\n",
       "      <td>1901.175046</td>\n",
       "      <td>0.001457</td>\n",
       "      <td>0.179964</td>\n",
       "      <td>...</td>\n",
       "      <td>0.096903</td>\n",
       "      <td>0.091075</td>\n",
       "      <td>6.720219</td>\n",
       "      <td>6.891803</td>\n",
       "      <td>-0.171585</td>\n",
       "      <td>0.081603</td>\n",
       "      <td>-1533.606557</td>\n",
       "      <td>0.180123</td>\n",
       "      <td>0.518033</td>\n",
       "      <td>0.481967</td>\n",
       "    </tr>\n",
       "    <tr>\n",
       "      <th>std</th>\n",
       "      <td>33.046679</td>\n",
       "      <td>9647.499723</td>\n",
       "      <td>10892.174120</td>\n",
       "      <td>62.033441</td>\n",
       "      <td>9305.675618</td>\n",
       "      <td>8112.31019</td>\n",
       "      <td>5.198066</td>\n",
       "      <td>7807.824177</td>\n",
       "      <td>0.038152</td>\n",
       "      <td>0.384227</td>\n",
       "      <td>...</td>\n",
       "      <td>0.295880</td>\n",
       "      <td>0.287768</td>\n",
       "      <td>4.986101</td>\n",
       "      <td>4.995656</td>\n",
       "      <td>4.142865</td>\n",
       "      <td>0.622033</td>\n",
       "      <td>14038.269388</td>\n",
       "      <td>0.404034</td>\n",
       "      <td>0.499766</td>\n",
       "      <td>0.499766</td>\n",
       "    </tr>\n",
       "    <tr>\n",
       "      <th>min</th>\n",
       "      <td>0.031250</td>\n",
       "      <td>0.000000</td>\n",
       "      <td>0.000000</td>\n",
       "      <td>-345.000000</td>\n",
       "      <td>200.000000</td>\n",
       "      <td>0.00000</td>\n",
       "      <td>-18.000000</td>\n",
       "      <td>-24885.500000</td>\n",
       "      <td>0.000000</td>\n",
       "      <td>0.000000</td>\n",
       "      <td>...</td>\n",
       "      <td>0.000000</td>\n",
       "      <td>0.000000</td>\n",
       "      <td>0.000000</td>\n",
       "      <td>0.000000</td>\n",
       "      <td>-14.000000</td>\n",
       "      <td>-3.000000</td>\n",
       "      <td>-62700.000000</td>\n",
       "      <td>0.000000</td>\n",
       "      <td>0.000000</td>\n",
       "      <td>0.000000</td>\n",
       "    </tr>\n",
       "    <tr>\n",
       "      <th>25%</th>\n",
       "      <td>54.929688</td>\n",
       "      <td>750.000000</td>\n",
       "      <td>1050.000000</td>\n",
       "      <td>0.000000</td>\n",
       "      <td>10650.000000</td>\n",
       "      <td>10313.50000</td>\n",
       "      <td>-3.000000</td>\n",
       "      <td>-1549.500000</td>\n",
       "      <td>0.000000</td>\n",
       "      <td>0.000000</td>\n",
       "      <td>...</td>\n",
       "      <td>0.000000</td>\n",
       "      <td>0.000000</td>\n",
       "      <td>3.000000</td>\n",
       "      <td>3.000000</td>\n",
       "      <td>-3.000000</td>\n",
       "      <td>0.000000</td>\n",
       "      <td>-7450.000000</td>\n",
       "      <td>0.000000</td>\n",
       "      <td>0.000000</td>\n",
       "      <td>0.000000</td>\n",
       "    </tr>\n",
       "    <tr>\n",
       "      <th>50%</th>\n",
       "      <td>94.796875</td>\n",
       "      <td>3100.000000</td>\n",
       "      <td>4200.000000</td>\n",
       "      <td>0.000000</td>\n",
       "      <td>21000.000000</td>\n",
       "      <td>18874.00000</td>\n",
       "      <td>0.000000</td>\n",
       "      <td>1532.500000</td>\n",
       "      <td>0.000000</td>\n",
       "      <td>0.000000</td>\n",
       "      <td>...</td>\n",
       "      <td>0.000000</td>\n",
       "      <td>0.000000</td>\n",
       "      <td>6.000000</td>\n",
       "      <td>6.000000</td>\n",
       "      <td>0.000000</td>\n",
       "      <td>0.000000</td>\n",
       "      <td>-300.000000</td>\n",
       "      <td>0.000000</td>\n",
       "      <td>1.000000</td>\n",
       "      <td>0.000000</td>\n",
       "    </tr>\n",
       "    <tr>\n",
       "      <th>75%</th>\n",
       "      <td>112.531250</td>\n",
       "      <td>10700.000000</td>\n",
       "      <td>12300.000000</td>\n",
       "      <td>41.000000</td>\n",
       "      <td>27000.000000</td>\n",
       "      <td>24296.00000</td>\n",
       "      <td>3.000000</td>\n",
       "      <td>5914.500000</td>\n",
       "      <td>0.000000</td>\n",
       "      <td>0.000000</td>\n",
       "      <td>...</td>\n",
       "      <td>0.000000</td>\n",
       "      <td>0.000000</td>\n",
       "      <td>10.000000</td>\n",
       "      <td>11.000000</td>\n",
       "      <td>2.000000</td>\n",
       "      <td>0.000000</td>\n",
       "      <td>4550.000000</td>\n",
       "      <td>0.000000</td>\n",
       "      <td>1.000000</td>\n",
       "      <td>1.000000</td>\n",
       "    </tr>\n",
       "    <tr>\n",
       "      <th>max</th>\n",
       "      <td>114.976560</td>\n",
       "      <td>65800.000000</td>\n",
       "      <td>63500.000000</td>\n",
       "      <td>274.000000</td>\n",
       "      <td>35600.000000</td>\n",
       "      <td>34400.00000</td>\n",
       "      <td>20.000000</td>\n",
       "      <td>31065.500000</td>\n",
       "      <td>1.000000</td>\n",
       "      <td>1.000000</td>\n",
       "      <td>...</td>\n",
       "      <td>1.000000</td>\n",
       "      <td>1.000000</td>\n",
       "      <td>30.000000</td>\n",
       "      <td>30.000000</td>\n",
       "      <td>14.000000</td>\n",
       "      <td>3.000000</td>\n",
       "      <td>62550.000000</td>\n",
       "      <td>1.732051</td>\n",
       "      <td>1.000000</td>\n",
       "      <td>1.000000</td>\n",
       "    </tr>\n",
       "  </tbody>\n",
       "</table>\n",
       "<p>8 rows × 24 columns</p>\n",
       "</div>"
      ],
      "text/plain": [
       "       round_status_time_left      money_ct       money_t  health_diff  \\\n",
       "count             2745.000000   2745.000000   2745.000000  2745.000000   \n",
       "mean                80.297441   7289.981785   8823.588342    16.605464   \n",
       "std                 33.046679   9647.499723  10892.174120    62.033441   \n",
       "min                  0.031250      0.000000      0.000000  -345.000000   \n",
       "25%                 54.929688    750.000000   1050.000000     0.000000   \n",
       "50%                 94.796875   3100.000000   4200.000000     0.000000   \n",
       "75%                112.531250  10700.000000  12300.000000    41.000000   \n",
       "max                114.976560  65800.000000  63500.000000   274.000000   \n",
       "\n",
       "       total_value_ct  total_value_t    util_diff    value_diff     de_cache  \\\n",
       "count     2745.000000     2745.00000  2745.000000   2745.000000  2745.000000   \n",
       "mean     18979.962295    17078.78725     0.105282   1901.175046     0.001457   \n",
       "std       9305.675618     8112.31019     5.198066   7807.824177     0.038152   \n",
       "min        200.000000        0.00000   -18.000000 -24885.500000     0.000000   \n",
       "25%      10650.000000    10313.50000    -3.000000  -1549.500000     0.000000   \n",
       "50%      21000.000000    18874.00000     0.000000   1532.500000     0.000000   \n",
       "75%      27000.000000    24296.00000     3.000000   5914.500000     0.000000   \n",
       "max      35600.000000    34400.00000    20.000000  31065.500000     1.000000   \n",
       "\n",
       "          de_dust2  ...     de_train   de_vertigo     ct_score      t_score  \\\n",
       "count  2745.000000  ...  2745.000000  2745.000000  2745.000000  2745.000000   \n",
       "mean      0.179964  ...     0.096903     0.091075     6.720219     6.891803   \n",
       "std       0.384227  ...     0.295880     0.287768     4.986101     4.995656   \n",
       "min       0.000000  ...     0.000000     0.000000     0.000000     0.000000   \n",
       "25%       0.000000  ...     0.000000     0.000000     3.000000     3.000000   \n",
       "50%       0.000000  ...     0.000000     0.000000     6.000000     6.000000   \n",
       "75%       0.000000  ...     0.000000     0.000000    10.000000    11.000000   \n",
       "max       1.000000  ...     1.000000     1.000000    30.000000    30.000000   \n",
       "\n",
       "        score_diff  player_diff    money_diff  player_diff^1/2        truth  \\\n",
       "count  2745.000000  2745.000000   2745.000000      2745.000000  2745.000000   \n",
       "mean     -0.171585     0.081603  -1533.606557         0.180123     0.518033   \n",
       "std       4.142865     0.622033  14038.269388         0.404034     0.499766   \n",
       "min     -14.000000    -3.000000 -62700.000000         0.000000     0.000000   \n",
       "25%      -3.000000     0.000000  -7450.000000         0.000000     0.000000   \n",
       "50%       0.000000     0.000000   -300.000000         0.000000     1.000000   \n",
       "75%       2.000000     0.000000   4550.000000         0.000000     1.000000   \n",
       "max      14.000000     3.000000  62550.000000         1.732051     1.000000   \n",
       "\n",
       "       misclass_pred  \n",
       "count    2745.000000  \n",
       "mean        0.481967  \n",
       "std         0.499766  \n",
       "min         0.000000  \n",
       "25%         0.000000  \n",
       "50%         0.000000  \n",
       "75%         1.000000  \n",
       "max         1.000000  \n",
       "\n",
       "[8 rows x 24 columns]"
      ]
     },
     "execution_count": 83,
     "metadata": {},
     "output_type": "execute_result"
    }
   ],
   "source": [
    "misclass_df.describe()"
   ]
  },
  {
   "cell_type": "code",
   "execution_count": 84,
   "metadata": {
    "ExecuteTime": {
     "end_time": "2020-06-12T15:08:46.896587Z",
     "start_time": "2020-06-12T15:08:46.808879Z"
    }
   },
   "outputs": [
    {
     "data": {
      "text/html": [
       "<div>\n",
       "<style scoped>\n",
       "    .dataframe tbody tr th:only-of-type {\n",
       "        vertical-align: middle;\n",
       "    }\n",
       "\n",
       "    .dataframe tbody tr th {\n",
       "        vertical-align: top;\n",
       "    }\n",
       "\n",
       "    .dataframe thead th {\n",
       "        text-align: right;\n",
       "    }\n",
       "</style>\n",
       "<table border=\"1\" class=\"dataframe\">\n",
       "  <thead>\n",
       "    <tr style=\"text-align: right;\">\n",
       "      <th></th>\n",
       "      <th>round_status_time_left</th>\n",
       "      <th>target</th>\n",
       "      <th>alive_players_t</th>\n",
       "      <th>alive_players_ct</th>\n",
       "      <th>health_ct</th>\n",
       "      <th>health_t</th>\n",
       "      <th>money_ct</th>\n",
       "      <th>money_t</th>\n",
       "      <th>health_diff</th>\n",
       "      <th>total_value_ct</th>\n",
       "      <th>...</th>\n",
       "      <th>de_nuke</th>\n",
       "      <th>de_overpass</th>\n",
       "      <th>de_train</th>\n",
       "      <th>de_vertigo</th>\n",
       "      <th>ct_score</th>\n",
       "      <th>t_score</th>\n",
       "      <th>score_diff</th>\n",
       "      <th>player_diff</th>\n",
       "      <th>money_diff</th>\n",
       "      <th>player_diff^1/2</th>\n",
       "    </tr>\n",
       "  </thead>\n",
       "  <tbody>\n",
       "    <tr>\n",
       "      <th>count</th>\n",
       "      <td>64296.000000</td>\n",
       "      <td>64296.000000</td>\n",
       "      <td>64296.000000</td>\n",
       "      <td>64296.000000</td>\n",
       "      <td>64296.000000</td>\n",
       "      <td>64296.000000</td>\n",
       "      <td>64296.000000</td>\n",
       "      <td>64296.000000</td>\n",
       "      <td>64296.000000</td>\n",
       "      <td>64296.000000</td>\n",
       "      <td>...</td>\n",
       "      <td>64296.000000</td>\n",
       "      <td>64296.000000</td>\n",
       "      <td>64296.000000</td>\n",
       "      <td>64296.000000</td>\n",
       "      <td>64296.000000</td>\n",
       "      <td>64296.000000</td>\n",
       "      <td>64296.000000</td>\n",
       "      <td>64296.000000</td>\n",
       "      <td>64296.000000</td>\n",
       "      <td>64296.000000</td>\n",
       "    </tr>\n",
       "    <tr>\n",
       "      <th>mean</th>\n",
       "      <td>69.179673</td>\n",
       "      <td>0.481072</td>\n",
       "      <td>3.979174</td>\n",
       "      <td>3.996438</td>\n",
       "      <td>378.406853</td>\n",
       "      <td>365.051667</td>\n",
       "      <td>7383.410321</td>\n",
       "      <td>8739.607441</td>\n",
       "      <td>13.355185</td>\n",
       "      <td>16938.800058</td>\n",
       "      <td>...</td>\n",
       "      <td>0.132668</td>\n",
       "      <td>0.137582</td>\n",
       "      <td>0.097813</td>\n",
       "      <td>0.097191</td>\n",
       "      <td>6.741259</td>\n",
       "      <td>6.841965</td>\n",
       "      <td>-0.100706</td>\n",
       "      <td>0.017264</td>\n",
       "      <td>-1356.197120</td>\n",
       "      <td>0.292201</td>\n",
       "    </tr>\n",
       "    <tr>\n",
       "      <th>std</th>\n",
       "      <td>33.452756</td>\n",
       "      <td>0.499645</td>\n",
       "      <td>1.345496</td>\n",
       "      <td>1.317267</td>\n",
       "      <td>142.081558</td>\n",
       "      <td>148.858765</td>\n",
       "      <td>9268.642746</td>\n",
       "      <td>10333.622006</td>\n",
       "      <td>111.935436</td>\n",
       "      <td>9615.116000</td>\n",
       "      <td>...</td>\n",
       "      <td>0.339218</td>\n",
       "      <td>0.344464</td>\n",
       "      <td>0.297064</td>\n",
       "      <td>0.296220</td>\n",
       "      <td>4.952320</td>\n",
       "      <td>4.900350</td>\n",
       "      <td>4.073882</td>\n",
       "      <td>1.239604</td>\n",
       "      <td>13380.118626</td>\n",
       "      <td>0.546113</td>\n",
       "    </tr>\n",
       "    <tr>\n",
       "      <th>min</th>\n",
       "      <td>0.007812</td>\n",
       "      <td>0.000000</td>\n",
       "      <td>0.000000</td>\n",
       "      <td>1.000000</td>\n",
       "      <td>1.000000</td>\n",
       "      <td>0.000000</td>\n",
       "      <td>0.000000</td>\n",
       "      <td>0.000000</td>\n",
       "      <td>-475.000000</td>\n",
       "      <td>200.000000</td>\n",
       "      <td>...</td>\n",
       "      <td>0.000000</td>\n",
       "      <td>0.000000</td>\n",
       "      <td>0.000000</td>\n",
       "      <td>0.000000</td>\n",
       "      <td>0.000000</td>\n",
       "      <td>0.000000</td>\n",
       "      <td>-15.000000</td>\n",
       "      <td>-4.000000</td>\n",
       "      <td>-65750.000000</td>\n",
       "      <td>0.000000</td>\n",
       "    </tr>\n",
       "    <tr>\n",
       "      <th>25%</th>\n",
       "      <td>35.107422</td>\n",
       "      <td>0.000000</td>\n",
       "      <td>3.000000</td>\n",
       "      <td>3.000000</td>\n",
       "      <td>291.000000</td>\n",
       "      <td>263.000000</td>\n",
       "      <td>900.000000</td>\n",
       "      <td>1200.000000</td>\n",
       "      <td>-21.000000</td>\n",
       "      <td>8144.000000</td>\n",
       "      <td>...</td>\n",
       "      <td>0.000000</td>\n",
       "      <td>0.000000</td>\n",
       "      <td>0.000000</td>\n",
       "      <td>0.000000</td>\n",
       "      <td>3.000000</td>\n",
       "      <td>3.000000</td>\n",
       "      <td>-3.000000</td>\n",
       "      <td>0.000000</td>\n",
       "      <td>-7500.000000</td>\n",
       "      <td>0.000000</td>\n",
       "    </tr>\n",
       "    <tr>\n",
       "      <th>50%</th>\n",
       "      <td>74.914060</td>\n",
       "      <td>0.000000</td>\n",
       "      <td>5.000000</td>\n",
       "      <td>5.000000</td>\n",
       "      <td>434.000000</td>\n",
       "      <td>400.000000</td>\n",
       "      <td>3900.000000</td>\n",
       "      <td>4950.000000</td>\n",
       "      <td>0.000000</td>\n",
       "      <td>17937.000000</td>\n",
       "      <td>...</td>\n",
       "      <td>0.000000</td>\n",
       "      <td>0.000000</td>\n",
       "      <td>0.000000</td>\n",
       "      <td>0.000000</td>\n",
       "      <td>6.000000</td>\n",
       "      <td>6.000000</td>\n",
       "      <td>0.000000</td>\n",
       "      <td>0.000000</td>\n",
       "      <td>-400.000000</td>\n",
       "      <td>0.000000</td>\n",
       "    </tr>\n",
       "    <tr>\n",
       "      <th>75%</th>\n",
       "      <td>94.945310</td>\n",
       "      <td>1.000000</td>\n",
       "      <td>5.000000</td>\n",
       "      <td>5.000000</td>\n",
       "      <td>500.000000</td>\n",
       "      <td>500.000000</td>\n",
       "      <td>10650.000000</td>\n",
       "      <td>12100.000000</td>\n",
       "      <td>64.000000</td>\n",
       "      <td>25648.000000</td>\n",
       "      <td>...</td>\n",
       "      <td>0.000000</td>\n",
       "      <td>0.000000</td>\n",
       "      <td>0.000000</td>\n",
       "      <td>0.000000</td>\n",
       "      <td>10.000000</td>\n",
       "      <td>10.000000</td>\n",
       "      <td>2.000000</td>\n",
       "      <td>0.000000</td>\n",
       "      <td>4650.000000</td>\n",
       "      <td>0.000000</td>\n",
       "    </tr>\n",
       "    <tr>\n",
       "      <th>max</th>\n",
       "      <td>115.000000</td>\n",
       "      <td>1.000000</td>\n",
       "      <td>5.000000</td>\n",
       "      <td>5.000000</td>\n",
       "      <td>500.000000</td>\n",
       "      <td>500.000000</td>\n",
       "      <td>68650.000000</td>\n",
       "      <td>68300.000000</td>\n",
       "      <td>500.000000</td>\n",
       "      <td>39198.500000</td>\n",
       "      <td>...</td>\n",
       "      <td>1.000000</td>\n",
       "      <td>1.000000</td>\n",
       "      <td>1.000000</td>\n",
       "      <td>1.000000</td>\n",
       "      <td>32.000000</td>\n",
       "      <td>33.000000</td>\n",
       "      <td>14.000000</td>\n",
       "      <td>5.000000</td>\n",
       "      <td>68000.000000</td>\n",
       "      <td>2.236068</td>\n",
       "    </tr>\n",
       "  </tbody>\n",
       "</table>\n",
       "<p>8 rows × 29 columns</p>\n",
       "</div>"
      ],
      "text/plain": [
       "       round_status_time_left        target  alive_players_t  \\\n",
       "count            64296.000000  64296.000000     64296.000000   \n",
       "mean                69.179673      0.481072         3.979174   \n",
       "std                 33.452756      0.499645         1.345496   \n",
       "min                  0.007812      0.000000         0.000000   \n",
       "25%                 35.107422      0.000000         3.000000   \n",
       "50%                 74.914060      0.000000         5.000000   \n",
       "75%                 94.945310      1.000000         5.000000   \n",
       "max                115.000000      1.000000         5.000000   \n",
       "\n",
       "       alive_players_ct     health_ct      health_t      money_ct  \\\n",
       "count      64296.000000  64296.000000  64296.000000  64296.000000   \n",
       "mean           3.996438    378.406853    365.051667   7383.410321   \n",
       "std            1.317267    142.081558    148.858765   9268.642746   \n",
       "min            1.000000      1.000000      0.000000      0.000000   \n",
       "25%            3.000000    291.000000    263.000000    900.000000   \n",
       "50%            5.000000    434.000000    400.000000   3900.000000   \n",
       "75%            5.000000    500.000000    500.000000  10650.000000   \n",
       "max            5.000000    500.000000    500.000000  68650.000000   \n",
       "\n",
       "            money_t   health_diff  total_value_ct  ...       de_nuke  \\\n",
       "count  64296.000000  64296.000000    64296.000000  ...  64296.000000   \n",
       "mean    8739.607441     13.355185    16938.800058  ...      0.132668   \n",
       "std    10333.622006    111.935436     9615.116000  ...      0.339218   \n",
       "min        0.000000   -475.000000      200.000000  ...      0.000000   \n",
       "25%     1200.000000    -21.000000     8144.000000  ...      0.000000   \n",
       "50%     4950.000000      0.000000    17937.000000  ...      0.000000   \n",
       "75%    12100.000000     64.000000    25648.000000  ...      0.000000   \n",
       "max    68300.000000    500.000000    39198.500000  ...      1.000000   \n",
       "\n",
       "        de_overpass      de_train    de_vertigo      ct_score       t_score  \\\n",
       "count  64296.000000  64296.000000  64296.000000  64296.000000  64296.000000   \n",
       "mean       0.137582      0.097813      0.097191      6.741259      6.841965   \n",
       "std        0.344464      0.297064      0.296220      4.952320      4.900350   \n",
       "min        0.000000      0.000000      0.000000      0.000000      0.000000   \n",
       "25%        0.000000      0.000000      0.000000      3.000000      3.000000   \n",
       "50%        0.000000      0.000000      0.000000      6.000000      6.000000   \n",
       "75%        0.000000      0.000000      0.000000     10.000000     10.000000   \n",
       "max        1.000000      1.000000      1.000000     32.000000     33.000000   \n",
       "\n",
       "         score_diff   player_diff    money_diff  player_diff^1/2  \n",
       "count  64296.000000  64296.000000  64296.000000     64296.000000  \n",
       "mean      -0.100706      0.017264  -1356.197120         0.292201  \n",
       "std        4.073882      1.239604  13380.118626         0.546113  \n",
       "min      -15.000000     -4.000000 -65750.000000         0.000000  \n",
       "25%       -3.000000      0.000000  -7500.000000         0.000000  \n",
       "50%        0.000000      0.000000   -400.000000         0.000000  \n",
       "75%        2.000000      0.000000   4650.000000         0.000000  \n",
       "max       14.000000      5.000000  68000.000000         2.236068  \n",
       "\n",
       "[8 rows x 29 columns]"
      ]
     },
     "execution_count": 84,
     "metadata": {},
     "output_type": "execute_result"
    }
   ],
   "source": [
    "df.describe()"
   ]
  },
  {
   "cell_type": "markdown",
   "metadata": {},
   "source": [
    "## NN"
   ]
  },
  {
   "cell_type": "code",
   "execution_count": 85,
   "metadata": {
    "ExecuteTime": {
     "end_time": "2020-06-12T15:08:46.899338Z",
     "start_time": "2020-06-12T15:08:46.897713Z"
    }
   },
   "outputs": [],
   "source": [
    "# def create_baseline():\n",
    "#     model = Sequential()\n",
    "#     model.add(Dense(10, input_dim=20, activation='relu'))\n",
    "#     model.add(Dense(1, activation='sigmoid'))\n",
    "#     model.compile(loss='binary_crossentropy', optimizer='adam', metrics=['accuracy'])\n",
    "#     return model"
   ]
  },
  {
   "cell_type": "code",
   "execution_count": 86,
   "metadata": {
    "ExecuteTime": {
     "end_time": "2020-06-12T15:08:46.919528Z",
     "start_time": "2020-06-12T15:08:46.900168Z"
    }
   },
   "outputs": [],
   "source": [
    "# estimator = KerasClassifier(build_fn=create_baseline, epochs=20, batch_size=5, verbose=1)\n",
    "# kfold = StratifiedKFold(n_splits=5, shuffle=True)\n",
    "# results = cross_val_score(estimator, X, y, cv=kfold)\n",
    "# print(\"Baseline: %.2f%% (%.2f%%)\" % (results.mean()*100, results.std()*100))"
   ]
  },
  {
   "cell_type": "markdown",
   "metadata": {},
   "source": [
    "\n"
   ]
  },
  {
   "cell_type": "markdown",
   "metadata": {},
   "source": [
    "# To Retry\n",
    "\n",
    "\n",
    "- Grid search\n",
    "- NN with more hyper parameter tuning\n",
    "- Ensembling\n",
    "- More feature interactions?"
   ]
  },
  {
   "cell_type": "markdown",
   "metadata": {},
   "source": [
    "# To Try\n",
    "\n",
    "- Positional data\n",
    "- Reserve ammo cost\n",
    "- Bomb timer\n",
    "- Classify save round?\n",
    "- Vectorize\n",
    "- Dummy main weapon\n",
    "- Clustering \n",
    "- Soft probs / confidence in pred\n",
    "\n",
    "\n"
   ]
  },
  {
   "cell_type": "code",
   "execution_count": null,
   "metadata": {},
   "outputs": [],
   "source": [
    "\n",
    "# better vis\n",
    "\n",
    "#reading\n",
    "#sixteen zero StatHelix FACEIT \n",
    "#where the data was scraped from something rust serdas\n",
    "#demo info\n",
    "#bookmark those articles from history"
   ]
  }
 ],
 "metadata": {
  "kernelspec": {
   "display_name": "Python 3",
   "language": "python",
   "name": "python3"
  },
  "language_info": {
   "codemirror_mode": {
    "name": "ipython",
    "version": 3
   },
   "file_extension": ".py",
   "mimetype": "text/x-python",
   "name": "python",
   "nbconvert_exporter": "python",
   "pygments_lexer": "ipython3",
   "version": "3.7.6"
  },
  "toc": {
   "base_numbering": 1,
   "nav_menu": {},
   "number_sections": true,
   "sideBar": true,
   "skip_h1_title": false,
   "title_cell": "Table of Contents",
   "title_sidebar": "Contents",
   "toc_cell": false,
   "toc_position": {},
   "toc_section_display": true,
   "toc_window_display": false
  },
  "varInspector": {
   "cols": {
    "lenName": 16,
    "lenType": 16,
    "lenVar": 40
   },
   "kernels_config": {
    "python": {
     "delete_cmd_postfix": "",
     "delete_cmd_prefix": "del ",
     "library": "var_list.py",
     "varRefreshCmd": "print(var_dic_list())"
    },
    "r": {
     "delete_cmd_postfix": ") ",
     "delete_cmd_prefix": "rm(",
     "library": "var_list.r",
     "varRefreshCmd": "cat(var_dic_list()) "
    }
   },
   "types_to_exclude": [
    "module",
    "function",
    "builtin_function_or_method",
    "instance",
    "_Feature"
   ],
   "window_display": false
  }
 },
 "nbformat": 4,
 "nbformat_minor": 4
}
